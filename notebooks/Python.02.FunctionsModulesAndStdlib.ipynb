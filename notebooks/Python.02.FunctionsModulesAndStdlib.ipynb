{
  "nbformat": 4,
  "nbformat_minor": 0,
  "metadata": {
    "colab": {
      "provenance": [],
      "collapsed_sections": [
        "-Hi_Hpf0BH0U",
        "TxrOQ_aIB4Uc",
        "nCpofMgUD4va",
        "46ltAUHuCJdh",
        "puM-13x5DQ4O",
        "p6_2nz3WDZup",
        "QLOCxL80EfAk",
        "p6Sz-zi-nu56",
        "l068Qgo0F3Q-",
        "rq9V0j9ztiHJ",
        "c7ZLHn9luSgS",
        "E5sanxQHwZmH",
        "82b5Jnh71glN",
        "RkPIMuYF3x8X"
      ]
    },
    "kernelspec": {
      "name": "python3",
      "display_name": "Python 3"
    }
  },
  "cells": [
    {
      "cell_type": "markdown",
      "source": [
        "[![Open in Colab](https://colab.research.google.com/assets/colab-badge.svg)](https://colab.research.google.com/github/scott2b/PythonReview/blob/main/notebooks/Python.02.FunctionsModulesAndStdlib.ipynb)"
      ],
      "metadata": {
        "id": "R3vO_rivanej"
      }
    },
    {
      "cell_type": "markdown",
      "metadata": {
        "id": "ul8iUltkWbrU"
      },
      "source": [
        "# Introduction to functions, modules, and the standard library in Python"
      ]
    },
    {
      "cell_type": "markdown",
      "metadata": {
        "id": "aCeiihxQNX7V"
      },
      "source": [
        "* Functions, modules\n",
        "  - Builtin functions (print, len, https://docs.python.org/3.7/library/functions.html)\n",
        "  - Function def, block constructs and whitespace in Python\n",
        "  - Parameters (aka arguments)\n",
        "  - Variable args and keyword args (kwargs)\n",
        "  - `import` and the python stdlib"
      ]
    },
    {
      "cell_type": "markdown",
      "metadata": {
        "id": "Ny93H_Ugi2oV"
      },
      "source": [
        "## Python's builtin functions\n",
        "\n",
        "A full list of the builtin functions is available here:\n",
        "https://docs.python.org/3.7/library/functions.html"
      ]
    },
    {
      "cell_type": "markdown",
      "metadata": {
        "id": "vwZWgfMw9fZV"
      },
      "source": [
        "### First and foremost\n",
        "\n",
        "`print` is used to print output. Print can:\n",
        "\n",
        " * print multiple things at a time\n",
        " * take a `sep` separator parameter\n",
        " * take an `end` end parameter"
      ]
    },
    {
      "cell_type": "code",
      "metadata": {
        "id": "tg0D0eRZ92D2",
        "colab": {
          "base_uri": "https://localhost:8080/",
          "height": 86
        },
        "outputId": "12946388-e129-435e-ee8b-e2d71947ec0e"
      },
      "source": [
        "print('one')\n",
        "print('one', 'two')\n",
        "print('one', 'two', 'three', sep=',')\n",
        "print('red', 'orange', 'yellow', end=';')\n",
        "print('green', 'blue', 'violet')"
      ],
      "execution_count": null,
      "outputs": [
        {
          "output_type": "stream",
          "text": [
            "one\n",
            "one two\n",
            "one,two,three\n",
            "red orange yellow;green blue violet\n"
          ],
          "name": "stdout"
        }
      ]
    },
    {
      "cell_type": "markdown",
      "metadata": {
        "id": "qkClgdYy9NeS"
      },
      "source": [
        "### Some things you can do with numbers"
      ]
    },
    {
      "cell_type": "markdown",
      "metadata": {
        "id": "7vXHlqBb9TdM"
      },
      "source": [
        "#### Asolute value"
      ]
    },
    {
      "cell_type": "code",
      "metadata": {
        "id": "_y6uWXeR9Qqq",
        "colab": {
          "base_uri": "https://localhost:8080/",
          "height": 52
        },
        "outputId": "090a5046-4e48-412e-8f47-d3b5208386e1"
      },
      "source": [
        "print(abs(10))\n",
        "print(abs(-10))"
      ],
      "execution_count": null,
      "outputs": [
        {
          "output_type": "stream",
          "text": [
            "10\n",
            "10\n"
          ],
          "name": "stdout"
        }
      ]
    },
    {
      "cell_type": "markdown",
      "metadata": {
        "id": "IbLDyn-m-o7z"
      },
      "source": [
        "#### Convert between types"
      ]
    },
    {
      "cell_type": "markdown",
      "metadata": {
        "id": "b7AhcV8L-wPz"
      },
      "source": []
    },
    {
      "cell_type": "code",
      "metadata": {
        "id": "budBXzzd-sTp",
        "colab": {
          "base_uri": "https://localhost:8080/",
          "height": 52
        },
        "outputId": "d8a1163d-e457-4c61-a79d-ddf3cf982aef"
      },
      "source": [
        "print(float(23))\n",
        "print(int(23.0))"
      ],
      "execution_count": null,
      "outputs": [
        {
          "output_type": "stream",
          "text": [
            "23.0\n",
            "23\n"
          ],
          "name": "stdout"
        }
      ]
    },
    {
      "cell_type": "markdown",
      "metadata": {
        "id": "u-Jg8VB2_D1b"
      },
      "source": [
        "#### Min and Max"
      ]
    },
    {
      "cell_type": "code",
      "metadata": {
        "id": "LgeVkrgN_Hu2",
        "colab": {
          "base_uri": "https://localhost:8080/",
          "height": 52
        },
        "outputId": "538d443e-4737-4325-f550-b7b31c0c13b7"
      },
      "source": [
        "print(min([10,20,30,40]))\n",
        "print(max(50,60,70,80))"
      ],
      "execution_count": null,
      "outputs": [
        {
          "output_type": "stream",
          "text": [
            "10\n",
            "80\n"
          ],
          "name": "stdout"
        }
      ]
    },
    {
      "cell_type": "markdown",
      "metadata": {
        "id": "iyu3mBiy_ats"
      },
      "source": [
        "#### Some math related functions\n"
      ]
    },
    {
      "cell_type": "code",
      "metadata": {
        "id": "39-MZcIV_0wu",
        "colab": {
          "base_uri": "https://localhost:8080/",
          "height": 69
        },
        "outputId": "34d89ff2-56bf-468e-9365-f2eb98b1e1a2"
      },
      "source": [
        "print(round(2.4))\n",
        "\n",
        "# round doesn't really do what you expect in many cases. See the docs for details\n",
        "print(round(2.5))\n",
        "print(sum([2,3,4,5]))"
      ],
      "execution_count": null,
      "outputs": [
        {
          "output_type": "stream",
          "text": [
            "2\n",
            "2\n",
            "14\n"
          ],
          "name": "stdout"
        }
      ]
    },
    {
      "cell_type": "markdown",
      "metadata": {
        "id": "VC3a_d3HAgKC"
      },
      "source": [
        "### Handy logic functions\n",
        "\n",
        "#### Check the \"truthiness\" of something"
      ]
    },
    {
      "cell_type": "code",
      "metadata": {
        "id": "3WLvzrmbAnfb",
        "colab": {
          "base_uri": "https://localhost:8080/",
          "height": 156
        },
        "outputId": "85d9d0aa-0dea-45a3-8292-d1c5ece0aa22"
      },
      "source": [
        "print(1, bool(1))\n",
        "print(0, bool(0))\n",
        "print(1.0, bool(1.0))\n",
        "print(0.0, bool(0.0))\n",
        "print(23, bool(23))\n",
        "print('aprd', bool('aprd'))\n",
        "print('', bool(''))\n",
        "print(None, bool(None))"
      ],
      "execution_count": null,
      "outputs": [
        {
          "output_type": "stream",
          "text": [
            "1 True\n",
            "0 False\n",
            "1.0 True\n",
            "0.0 False\n",
            "23 True\n",
            "aprd True\n",
            " False\n",
            "None False\n"
          ],
          "name": "stdout"
        }
      ]
    },
    {
      "cell_type": "markdown",
      "metadata": {
        "id": "-Hi_Hpf0BH0U"
      },
      "source": [
        "#### all and any"
      ]
    },
    {
      "cell_type": "code",
      "metadata": {
        "id": "rF2icODjBLh6",
        "colab": {
          "base_uri": "https://localhost:8080/",
          "height": 121
        },
        "outputId": "696bc57f-1766-4199-ebe2-51544d6eeaa8"
      },
      "source": [
        "print(all([True, True, True]))\n",
        "print(all([True, False, True]))\n",
        "print(any([True, False, True]))\n",
        "print(any([False, False, False]))\n",
        "\n",
        "# values are treated as booleans\n",
        "print(all([1, 'foo', 13]))\n",
        "print(any([None, 0, 0.0, '']))"
      ],
      "execution_count": null,
      "outputs": [
        {
          "output_type": "stream",
          "text": [
            "True\n",
            "False\n",
            "True\n",
            "False\n",
            "True\n",
            "False\n"
          ],
          "name": "stdout"
        }
      ]
    },
    {
      "cell_type": "markdown",
      "metadata": {
        "id": "TxrOQ_aIB4Uc"
      },
      "source": [
        "### Functions for data structures"
      ]
    },
    {
      "cell_type": "markdown",
      "metadata": {
        "id": "nCpofMgUD4va"
      },
      "source": [
        "#### Convert between different serial structures"
      ]
    },
    {
      "cell_type": "code",
      "metadata": {
        "id": "FUup49B0D-Xh",
        "colab": {
          "base_uri": "https://localhost:8080/",
          "height": 69
        },
        "outputId": "6b871045-254d-4e63-f8fa-871d72171653"
      },
      "source": [
        "print(set([1,2,1,1,2,2,3,2,3,1,3]))\n",
        "print(list(set([1,1,2,2,3,3])))\n",
        "print(tuple([1,2,3]))"
      ],
      "execution_count": null,
      "outputs": [
        {
          "output_type": "stream",
          "text": [
            "{1, 2, 3}\n",
            "[1, 2, 3]\n",
            "(1, 2, 3)\n"
          ],
          "name": "stdout"
        }
      ]
    },
    {
      "cell_type": "markdown",
      "metadata": {
        "id": "46ltAUHuCJdh"
      },
      "source": [
        "#### enumerate a series\n"
      ]
    },
    {
      "cell_type": "code",
      "metadata": {
        "id": "KtRtGHPOCWc8",
        "colab": {
          "base_uri": "https://localhost:8080/",
          "height": 69
        },
        "outputId": "d325cdf0-b735-49e5-eadd-c510fb480724"
      },
      "source": [
        "for i, val in enumerate(['red', 'orange', 'yellow']):\n",
        "    print(i, val)"
      ],
      "execution_count": null,
      "outputs": [
        {
          "output_type": "stream",
          "text": [
            "0 red\n",
            "1 orange\n",
            "2 yellow\n"
          ],
          "name": "stdout"
        }
      ]
    },
    {
      "cell_type": "markdown",
      "metadata": {
        "id": "puM-13x5DQ4O"
      },
      "source": [
        "#### Filter some values"
      ]
    },
    {
      "cell_type": "code",
      "metadata": {
        "id": "Z_6xaWczCfhF",
        "colab": {
          "base_uri": "https://localhost:8080/",
          "height": 34
        },
        "outputId": "2c594259-3469-4817-9ae1-e9625c55d377"
      },
      "source": [
        "def positive(n):\n",
        "    return n >= 0\n",
        "\n",
        "pos = filter(positive, [1, -3, 5, 7, -12, 14, -27])\n",
        "# filter returns an iterator rather than a list,\n",
        "# but you can convert it:\n",
        "pos = list(pos)\n",
        "pos"
      ],
      "execution_count": null,
      "outputs": [
        {
          "output_type": "execute_result",
          "data": {
            "text/plain": [
              "[1, 5, 7, 14]"
            ]
          },
          "metadata": {
            "tags": []
          },
          "execution_count": 22
        }
      ]
    },
    {
      "cell_type": "markdown",
      "metadata": {
        "id": "p6_2nz3WDZup"
      },
      "source": [
        "#### Map a function onto a list of items"
      ]
    },
    {
      "cell_type": "code",
      "metadata": {
        "id": "1CmwdZD_DfDn",
        "colab": {
          "base_uri": "https://localhost:8080/",
          "height": 34
        },
        "outputId": "a85a84a9-ac7c-4f64-f364-c7f35af45557"
      },
      "source": [
        "def add_one(n):\n",
        "    return n + 1\n",
        "\n",
        "# map also returns an iterator\n",
        "list(map(add_one, [1,2,3,4]))"
      ],
      "execution_count": null,
      "outputs": [
        {
          "output_type": "execute_result",
          "data": {
            "text/plain": [
              "[2, 3, 4, 5]"
            ]
          },
          "metadata": {
            "tags": []
          },
          "execution_count": 23
        }
      ]
    },
    {
      "cell_type": "markdown",
      "metadata": {
        "id": "QLOCxL80EfAk"
      },
      "source": [
        "#### Zip together two lists of items"
      ]
    },
    {
      "cell_type": "code",
      "metadata": {
        "id": "fvdt5U1PESOh",
        "colab": {
          "base_uri": "https://localhost:8080/",
          "height": 34
        },
        "outputId": "b08e84f1-2084-4cc9-d2c4-470b631fe20d"
      },
      "source": [
        "list(zip(['apples', 'oranges', 'bananas'], ['red', 'orange', 'yellow']))"
      ],
      "execution_count": null,
      "outputs": [
        {
          "output_type": "execute_result",
          "data": {
            "text/plain": [
              "[('apples', 'red'), ('oranges', 'orange'), ('bananas', 'yellow')]"
            ]
          },
          "metadata": {
            "tags": []
          },
          "execution_count": 27
        }
      ]
    },
    {
      "cell_type": "markdown",
      "metadata": {
        "id": "PWK_CKqOt1EM"
      },
      "source": [
        "## Defining your own functions\n",
        "\n",
        "A function is a named unit of functionality which:\n",
        "\n",
        " * Accepts parameters (a.k.a. arguments)\n",
        " * Executes some code, using the provided parameters\n",
        " * Returns some value\n"
      ]
    },
    {
      "cell_type": "markdown",
      "metadata": {
        "id": "H9iaKz6BjX6U"
      },
      "source": [
        "Functions are defined with the `def` keyword, and are delimited by a block of consistent whitespace indentation. It is strongly advised that you use the Python community standard of 4 spaces for your indentations.\n",
        "\n",
        "A function definition for adding two numbers might look like this:\n",
        "\n",
        "```\n",
        "def add(va11, val2):\n",
        "    sum = al1 + val2\n",
        "    return sum\n",
        "```\n",
        "\n",
        "Make note of the following:\n",
        "\n",
        " * The function definition line starts with `def` and ends with `:`\n",
        " * The body of the function is indented 4 spaces\n",
        " * The function returns a value. If there is no `return` for your function, an implicit `None` will be returned as the value."
      ]
    },
    {
      "cell_type": "markdown",
      "metadata": {
        "id": "SOTLuna1lUvZ"
      },
      "source": [
        "Things to consider:\n",
        "\n",
        " * Name your functions clearly according to what they do\n",
        " * It is customary in Python to name functions using `snake_case`, not `camelCase` or `PascalCase`.\n",
        " * A function can have any number of named parameters. We will expand on this idea in a future lecture by introducing the additional concepts of variable arguments and keywords arguments, which allow you to design more flexible APIs for your functions.\n",
        " * Something is always returned from a function, even if it is nothing. If you do not explicitly return a value, Python will return `None` for you.\n",
        " * It is possible to design a function that appears to return multiple values by simply returning a tuple of values."
      ]
    },
    {
      "cell_type": "markdown",
      "metadata": {
        "id": "mbWJUmZJtr3V"
      },
      "source": [
        "## Example functions\n"
      ]
    },
    {
      "cell_type": "markdown",
      "metadata": {
        "id": "p6Sz-zi-nu56"
      },
      "source": [
        "### Fibonacci sequence\n",
        "\n",
        "The Fibonacci sequence is defined as:\n",
        "\n",
        "```\n",
        "F0 = 0, F1 = 1\n",
        "Fn = Fn-1 + Fn-2, n > 1\n",
        "```\n",
        "\n",
        "Resulting in the sequence that starts:\n",
        "0, 1, 1, 2, 3, 5, 8, 13, 21, 34, 55, ...\n",
        "\n",
        "Design a function `fibonacci` that takes a value `n` and returns the first n numbers of the Fibonacci sequence."
      ]
    },
    {
      "cell_type": "code",
      "metadata": {
        "id": "FrRB-S-xjSUl"
      },
      "source": [
        "def fibonacci(n):\n",
        "    \"\"\"Return the first n values of the Fibonacci sequence.\"\"\"\n",
        "    r = [0, 1]\n",
        "    for i in range(2, n):\n",
        "        r.append(r[i-2] + r[i-1])\n",
        "    return r"
      ],
      "execution_count": null,
      "outputs": []
    },
    {
      "cell_type": "code",
      "metadata": {
        "id": "-ZWM0FlmpZtf",
        "colab": {
          "base_uri": "https://localhost:8080/",
          "height": 34
        },
        "outputId": "abdf4d89-bd71-442a-c279-2abbde43dc06"
      },
      "source": [
        "fibonacci(17)"
      ],
      "execution_count": null,
      "outputs": [
        {
          "output_type": "execute_result",
          "data": {
            "text/plain": [
              "[0, 1, 1, 2, 3, 5, 8, 13, 21, 34, 55, 89, 144, 233, 377, 610, 987]"
            ]
          },
          "metadata": {
            "tags": []
          },
          "execution_count": 7
        }
      ]
    },
    {
      "cell_type": "markdown",
      "metadata": {
        "id": "l068Qgo0F3Q-"
      },
      "source": [
        "### A specialized printing function\n",
        "\n",
        "Given a dictionary of brands and ratings, where each brand name is the key to a list of ratings values, print a table of min and max ratings by brand."
      ]
    },
    {
      "cell_type": "code",
      "metadata": {
        "id": "8YB6Q8A9pbZP",
        "colab": {
          "base_uri": "https://localhost:8080/",
          "height": 104
        },
        "outputId": "37b6316c-5cef-4521-ab74-90e4974a7f05"
      },
      "source": [
        "def brand_report(data):\n",
        "    print('Brand', 'min', 'max', sep='\\t')\n",
        "    print('-----', '---', '---', sep='\\t')\n",
        "    for brand, ratings in data.items():\n",
        "        print(brand, min(ratings), max(ratings), sep='\\t')\n",
        "\n",
        "\n",
        "brand_data = {\n",
        "    'Nike': [3.0, 2.5, 4.0, 1.0],\n",
        "    'Adidas': [2.0, 3.5, 4.0, 1.5],\n",
        "    'Reebok': [1.0, 3.0, 3.5, 2.0]\n",
        "}\n",
        "brand_report(brand_data)"
      ],
      "execution_count": null,
      "outputs": [
        {
          "output_type": "stream",
          "text": [
            "Brand\tmin\tmax\n",
            "-----\t---\t---\n",
            "Nike\t1.0\t4.0\n",
            "Adidas\t1.5\t4.0\n",
            "Reebok\t1.0\t3.5\n"
          ],
          "name": "stdout"
        }
      ]
    },
    {
      "cell_type": "markdown",
      "metadata": {
        "id": "1puQgaVeHkCi"
      },
      "source": [
        "## Standard library modules\n",
        "\n",
        "Beyond the builtin functions discussed above, the Python standard library has a number of modules available with additional functionality.\n",
        "\n",
        "If you want to use code from a module, you will need to import it."
      ]
    },
    {
      "cell_type": "markdown",
      "metadata": {
        "id": "bwMxVhsMpPMX"
      },
      "source": [
        "Some modules that will be useful for you include:\n",
        "\n",
        " * [datetime](https://docs.python.org/3.8/library/datetime.html) and [time](https://docs.python.org/3/library/time.html). Basic date and time types\n",
        "\n",
        " * [statistics](https://docs.python.org/3/library/statistics.html). Mathematical statistics functions.\n",
        "\n",
        " * [collections](https://docs.python.org/3.8/library/collections.html)\n",
        "\n",
        " * [pathlib](https://docs.python.org/3/library/pathlib.html).\n",
        "Object-oriented filesystem paths.\n",
        "\n",
        " * [json](https://docs.python.org/3/library/json.html). JSON encoder and decoder."
      ]
    },
    {
      "cell_type": "markdown",
      "metadata": {
        "id": "rq9V0j9ztiHJ"
      },
      "source": [
        "### datetime and time"
      ]
    },
    {
      "cell_type": "markdown",
      "metadata": {
        "id": "YYyZhu3UJwad"
      },
      "source": [
        "The datetime module is a bit confusing because it contains a class named datetime as well. I recommend not doing this:\n",
        "\n",
        "```\n",
        "# not the best way\n",
        "from datetime import datetime\n",
        "```\n",
        "\n",
        "Instead, make datetime module calls via the package as here so as to be clear which `datetime` you are using (the module or the class):"
      ]
    },
    {
      "cell_type": "code",
      "metadata": {
        "id": "ygzPgSVIJk7r",
        "colab": {
          "base_uri": "https://localhost:8080/",
          "height": 34
        },
        "outputId": "b5f125a8-153d-4d1b-d41b-072b91da5c66"
      },
      "source": [
        "# import the datetime module\n",
        "import datetime\n",
        "\n",
        "# call the `now` class method on the datetime class\n",
        "datetime.datetime.now()"
      ],
      "execution_count": null,
      "outputs": [
        {
          "output_type": "execute_result",
          "data": {
            "text/plain": [
              "datetime.datetime(2020, 5, 26, 1, 57, 27, 115614)"
            ]
          },
          "metadata": {
            "tags": []
          },
          "execution_count": 45
        }
      ]
    },
    {
      "cell_type": "code",
      "metadata": {
        "id": "X_9SZoh3Hm8R",
        "colab": {
          "base_uri": "https://localhost:8080/",
          "height": 34
        },
        "outputId": "cf810f12-77a4-4e12-85b0-140d0338ccaa"
      },
      "source": [
        "# import the date class from the datetime module and call `today`\n",
        "from datetime import date\n",
        "date.today()"
      ],
      "execution_count": null,
      "outputs": [
        {
          "output_type": "execute_result",
          "data": {
            "text/plain": [
              "datetime.date(2020, 5, 26)"
            ]
          },
          "metadata": {
            "tags": []
          },
          "execution_count": 46
        }
      ]
    },
    {
      "cell_type": "code",
      "metadata": {
        "id": "XTgbIw2jJps-",
        "colab": {
          "base_uri": "https://localhost:8080/",
          "height": 34
        },
        "outputId": "0e228737-064e-4a3b-f2b4-d45e4d7fefb4"
      },
      "source": [
        "# clock some duration of time\n",
        "import time\n",
        "start_time = time.time()\n",
        "time.sleep(3) # do nothing for 3 seconds\n",
        "end_time = time.time()\n",
        "print('duration:', end_time - start_time)"
      ],
      "execution_count": null,
      "outputs": [
        {
          "output_type": "stream",
          "text": [
            "duration: 3.0032832622528076\n"
          ],
          "name": "stdout"
        }
      ]
    },
    {
      "cell_type": "markdown",
      "metadata": {
        "id": "c7ZLHn9luSgS"
      },
      "source": [
        "### statistics"
      ]
    },
    {
      "cell_type": "code",
      "metadata": {
        "id": "wGxnouBktOIp"
      },
      "source": [
        "import random\n",
        "random.seed(123)\n",
        "data = random.choices(range(1000), k=100)\n",
        "data # is 100 random numbers from 0 to 999"
      ],
      "execution_count": null,
      "outputs": []
    },
    {
      "cell_type": "code",
      "metadata": {
        "id": "EKZiOhOTu6SR",
        "colab": {
          "base_uri": "https://localhost:8080/",
          "height": 139
        },
        "outputId": "ee6a04cc-f031-42fe-ea06-74ea5907cb28"
      },
      "source": [
        "import statistics\n",
        "print('mean', statistics.mean(data))\n",
        "print('median', statistics.median(data))\n",
        "print('median-low', statistics.median_low(data))\n",
        "print('median-high', statistics.median_high(data))\n",
        "\n",
        "# using a subset since mode will throw an error if there is not a unique mode\n",
        "print('mode (of 1st 20)', statistics.mode(data[:20]))\n",
        "\n",
        "print('stdev', statistics.stdev(data))\n",
        "print('variance', statistics.variance(data))"
      ],
      "execution_count": null,
      "outputs": [
        {
          "output_type": "stream",
          "text": [
            "mean 435.73\n",
            "median 405.5\n",
            "median-low 404\n",
            "median-high 407\n",
            "mode (of 1st 20) 87\n",
            "stdev 287.37600242135176\n",
            "variance 82584.96676767677\n"
          ],
          "name": "stdout"
        }
      ]
    },
    {
      "cell_type": "code",
      "metadata": {
        "id": "2VsWWdPFv4g_"
      },
      "source": [],
      "execution_count": null,
      "outputs": []
    },
    {
      "cell_type": "markdown",
      "metadata": {
        "id": "E5sanxQHwZmH"
      },
      "source": [
        "### collections"
      ]
    },
    {
      "cell_type": "markdown",
      "metadata": {
        "id": "eocbeQCmz9DR"
      },
      "source": [
        "The collections module has a number of useful utilities for working with collections of things. A very handy thing is the Counter."
      ]
    },
    {
      "cell_type": "code",
      "metadata": {
        "id": "uvllPBwnwa88",
        "colab": {
          "base_uri": "https://localhost:8080/",
          "height": 191
        },
        "outputId": "7e4819b1-e1d4-4dcb-fc4f-cbce7914ea17"
      },
      "source": [
        "data = random.choices(['taco bell', 'wendys', 'burger king', 'mcdonalds'], k=10)\n",
        "data # is a random list of fast food joints"
      ],
      "execution_count": null,
      "outputs": [
        {
          "output_type": "execute_result",
          "data": {
            "text/plain": [
              "['mcdonalds',\n",
              " 'wendys',\n",
              " 'wendys',\n",
              " 'burger king',\n",
              " 'mcdonalds',\n",
              " 'mcdonalds',\n",
              " 'wendys',\n",
              " 'burger king',\n",
              " 'burger king',\n",
              " 'wendys']"
            ]
          },
          "metadata": {
            "tags": []
          },
          "execution_count": 55
        }
      ]
    },
    {
      "cell_type": "code",
      "metadata": {
        "id": "aVL3v8Bq07rM",
        "colab": {
          "base_uri": "https://localhost:8080/",
          "height": 34
        },
        "outputId": "dee2778d-da8f-49b0-cfc4-8b7f6e88f222"
      },
      "source": [
        "from collections import Counter\n",
        "counter = Counter(data)\n",
        "counter"
      ],
      "execution_count": null,
      "outputs": [
        {
          "output_type": "execute_result",
          "data": {
            "text/plain": [
              "Counter({'burger king': 3, 'mcdonalds': 3, 'wendys': 4})"
            ]
          },
          "metadata": {
            "tags": []
          },
          "execution_count": 56
        }
      ]
    },
    {
      "cell_type": "markdown",
      "metadata": {
        "id": "1m2WiY9E1Jzh"
      },
      "source": [
        "What if we want to count as we go through the data?"
      ]
    },
    {
      "cell_type": "code",
      "metadata": {
        "id": "fPP4J5uE1F6_",
        "colab": {
          "base_uri": "https://localhost:8080/",
          "height": 34
        },
        "outputId": "01ab9bb8-ab06-4ed0-b7c1-1f7e7120d62e"
      },
      "source": [
        "c2 = Counter()\n",
        "for item in data:\n",
        "    c2.update([item])\n",
        "c2"
      ],
      "execution_count": null,
      "outputs": [
        {
          "output_type": "execute_result",
          "data": {
            "text/plain": [
              "Counter({'burger king': 3, 'mcdonalds': 3, 'wendys': 4})"
            ]
          },
          "metadata": {
            "tags": []
          },
          "execution_count": 57
        }
      ]
    },
    {
      "cell_type": "code",
      "metadata": {
        "id": "cT7XjKjr1aJD"
      },
      "source": [],
      "execution_count": null,
      "outputs": []
    },
    {
      "cell_type": "markdown",
      "metadata": {
        "id": "82b5Jnh71glN"
      },
      "source": [
        "### pathlib"
      ]
    },
    {
      "cell_type": "markdown",
      "metadata": {
        "id": "ny9aBeA11isf"
      },
      "source": [
        "pathlib is a relatively new addition to the Python standard library. It updates the way we work with files and paths. **Note:** To do any file i/o in Colab, we will need to mount Google Drive first."
      ]
    },
    {
      "cell_type": "code",
      "metadata": {
        "id": "Yl6_kB4w1h5r"
      },
      "source": [
        "# mount Google Drive\n",
        "from google.colab import drive\n",
        "drive.mount('/content/drive')\n",
        "\n",
        "# establish a path to a folder on Google Drive called APRD6342/Data\n",
        "from pathlib import Path\n",
        "datadir = Path('drive/My Drive/APRD6342/Data')"
      ],
      "execution_count": null,
      "outputs": []
    },
    {
      "cell_type": "code",
      "metadata": {
        "id": "UjIxLM5R3DjW",
        "colab": {
          "base_uri": "https://localhost:8080/",
          "height": 52
        },
        "outputId": "9dfb2ac2-5d17-4672-bcaa-d8cad47ada18"
      },
      "source": [
        "# pathlib's glob will list files using pattern matching\n",
        "list(datadir.glob('*.csv'))"
      ],
      "execution_count": null,
      "outputs": [
        {
          "output_type": "execute_result",
          "data": {
            "text/plain": [
              "[PosixPath('drive/My Drive/APRD6342/Data/cleaned.alexadata.csv'),\n",
              " PosixPath('drive/My Drive/APRD6342/Data/salesforce.2018.csv')]"
            ]
          },
          "metadata": {
            "tags": []
          },
          "execution_count": 61
        }
      ]
    },
    {
      "cell_type": "code",
      "metadata": {
        "id": "hrtm_ON6288H",
        "colab": {
          "base_uri": "https://localhost:8080/",
          "height": 208
        },
        "outputId": "3b36b2d6-4755-46b8-d24c-b202f8e048c3"
      },
      "source": [
        "# pathlib uses a unique / syntax to establish file paths:\n",
        "alexa_file = open(datadir / 'cleaned.alexadata.csv')\n",
        "for i,line in enumerate(alexa_file):\n",
        "    if not i % 1000:\n",
        "        print(i, line.strip())"
      ],
      "execution_count": null,
      "outputs": [
        {
          "output_type": "stream",
          "text": [
            "0 alexa resume spotify\n",
            "1000 c. p. r. news\n",
            "2000 alexa pause\n",
            "3000 alexa play oh you como v. a.\n",
            "4000 alexa\n",
            "5000 alexa what's the helpful holiday travel tips story\n",
            "6000 alexa\n",
            "7000 alexa volume seven\n",
            "8000 alexa pause\n",
            "9000 play back pack\n",
            "10000 alexa friends\n"
          ],
          "name": "stdout"
        }
      ]
    },
    {
      "cell_type": "code",
      "metadata": {
        "id": "4oK7t5Wd3eQa"
      },
      "source": [],
      "execution_count": null,
      "outputs": []
    },
    {
      "cell_type": "markdown",
      "metadata": {
        "id": "RkPIMuYF3x8X"
      },
      "source": [
        "### json"
      ]
    },
    {
      "cell_type": "markdown",
      "metadata": {
        "id": "lTeUVloU3-lN"
      },
      "source": [
        "JSON is a web standard data format that comes from Javascript. If you are into state diagrams of language syntax, you can peruse the official JSON documentation [here](https://www.json.org). But mainly, suffice it to say that JSON pretty much works like Python dictionaries.\n",
        "\n",
        "**However** When using JSON as an interchange format, the data comes into and goes out of Python code as a string. We might refer to this string data format as a JSON \"object\", although technically it is really just a string .. which happens to be in JSON format. (There is, technically, not really such a thing as a JSON **object** in Python).\n",
        "\n",
        "What this means is that we need some kind of codec to encode and decode JSON data. Specifically, we need to **parse** or **decode** the JSON string to produce a Python dictionary, and conversely we need to **encode** Python data structures into JSON strings in order to save them as JSON. The `json` module handles this work for you."
      ]
    },
    {
      "cell_type": "markdown",
      "metadata": {
        "id": "HHNAyvlv7W_g"
      },
      "source": [
        "**Decoding JSON**\n",
        "\n",
        "The _twitter_apiresponse_example.json_ file was created from the example response in the Twitter API docs here: https://developer.twitter.com/en/docs/tweets/timelines/api-reference/get-statuses-user_timeline"
      ]
    },
    {
      "cell_type": "code",
      "metadata": {
        "id": "m1xc-1Oi3zGG",
        "colab": {
          "base_uri": "https://localhost:8080/",
          "height": 54
        },
        "outputId": "3bae351b-10cb-4ab7-ef1d-dd6dd6d9d485"
      },
      "source": [
        "import json\n",
        "\n",
        "with open(datadir / 'twitter_apiresponse_example.json') as f:\n",
        "    # f is now a file handle to a text file containing JSON-formatted text\n",
        "    data = json.load(f) # use `load` to load straight from a file\n",
        "                        # use `loads` if you happen to have the string already\n",
        "    # The API response data is a list of Tweet objects. Let's look at the 1st one\n",
        "    print(data[0].keys())"
      ],
      "execution_count": null,
      "outputs": [
        {
          "output_type": "stream",
          "text": [
            "dict_keys(['created_at', 'id', 'id_str', 'text', 'truncated', 'entities', 'source', 'in_reply_to_status_id', 'in_reply_to_status_id_str', 'in_reply_to_user_id', 'in_reply_to_user_id_str', 'in_reply_to_screen_name', 'user', 'geo', 'coordinates', 'place', 'contributors', 'retweeted_status', 'is_quote_status', 'retweet_count', 'favorite_count', 'favorited', 'retweeted', 'possibly_sensitive', 'lang'])\n"
          ],
          "name": "stdout"
        }
      ]
    },
    {
      "cell_type": "code",
      "metadata": {
        "id": "znYQNcjo73GX",
        "colab": {
          "base_uri": "https://localhost:8080/",
          "height": 836
        },
        "outputId": "a5139659-32c5-412f-8bda-7503c40e6689"
      },
      "source": [
        "data[0]['user']"
      ],
      "execution_count": null,
      "outputs": [
        {
          "output_type": "execute_result",
          "data": {
            "text/plain": [
              "{'contributors_enabled': False,\n",
              " 'created_at': 'Wed May 23 06:01:13 +0000 2007',\n",
              " 'default_profile': False,\n",
              " 'default_profile_image': False,\n",
              " 'description': \"The Real Twitter API. I tweet about API changes, service issues and happily answer questions about Twitter and our API. Don't get an answer? It's on my website.\",\n",
              " 'entities': {'description': {'urls': []},\n",
              "  'url': {'urls': [{'display_url': 'dev.twitter.com',\n",
              "     'expanded_url': 'https://dev.twitter.com',\n",
              "     'indices': [0, 22],\n",
              "     'url': 'http://t.co/78pYTvWfJd'}]}},\n",
              " 'favourites_count': 26,\n",
              " 'follow_request_sent': False,\n",
              " 'followers_count': 6172353,\n",
              " 'following': True,\n",
              " 'friends_count': 46,\n",
              " 'geo_enabled': True,\n",
              " 'has_extended_profile': False,\n",
              " 'id': 6253282,\n",
              " 'id_str': '6253282',\n",
              " 'is_translation_enabled': False,\n",
              " 'is_translator': False,\n",
              " 'lang': 'en',\n",
              " 'listed_count': 13091,\n",
              " 'location': 'San Francisco, CA',\n",
              " 'name': 'Twitter API',\n",
              " 'notifications': False,\n",
              " 'profile_background_color': 'C0DEED',\n",
              " 'profile_background_image_url': 'http://pbs.twimg.com/profile_background_images/656927849/miyt9dpjz77sc0w3d4vj.png',\n",
              " 'profile_background_image_url_https': 'https://pbs.twimg.com/profile_background_images/656927849/miyt9dpjz77sc0w3d4vj.png',\n",
              " 'profile_background_tile': True,\n",
              " 'profile_banner_url': 'https://pbs.twimg.com/profile_banners/6253282/1431474710',\n",
              " 'profile_image_url': 'http://pbs.twimg.com/profile_images/2284174872/7df3h38zabcvjylnyfe3_normal.png',\n",
              " 'profile_image_url_https': 'https://pbs.twimg.com/profile_images/2284174872/7df3h38zabcvjylnyfe3_normal.png',\n",
              " 'profile_link_color': '0084B4',\n",
              " 'profile_sidebar_border_color': 'C0DEED',\n",
              " 'profile_sidebar_fill_color': 'DDEEF6',\n",
              " 'profile_text_color': '333333',\n",
              " 'profile_use_background_image': True,\n",
              " 'protected': False,\n",
              " 'screen_name': 'twitterapi',\n",
              " 'statuses_count': 3583,\n",
              " 'time_zone': 'Pacific Time (US & Canada)',\n",
              " 'translator_type': 'regular',\n",
              " 'url': 'http://t.co/78pYTvWfJd',\n",
              " 'utc_offset': -25200,\n",
              " 'verified': True}"
            ]
          },
          "metadata": {
            "tags": []
          },
          "execution_count": 83
        }
      ]
    },
    {
      "cell_type": "markdown",
      "metadata": {
        "id": "OQ6V0eKA-r5Y"
      },
      "source": [
        "**Encoding JSON**"
      ]
    },
    {
      "cell_type": "code",
      "metadata": {
        "id": "qXmKW38J9r7_",
        "colab": {
          "base_uri": "https://localhost:8080/",
          "height": 54
        },
        "outputId": "b5888677-c0e7-4b2d-993d-9d8937633a3c"
      },
      "source": [
        "media_urls = {\n",
        "    'Facebook': 'https://www.facebook.com/',\n",
        "    'Twitter': 'https://twitter.com/home',\n",
        "    'Instagram': 'https://www.instagram.com/',\n",
        "    'TikTok': 'https://www.tiktok.com/'\n",
        "}\n",
        "\n",
        "media_urls_as_json = json.dumps(media_urls)\n",
        "media_urls_as_json # Note: from Python's perspective this is a string!"
      ],
      "execution_count": null,
      "outputs": [
        {
          "output_type": "execute_result",
          "data": {
            "text/plain": [
              "'{\"Facebook\": \"https://www.facebook.com/\", \"Twitter\": \"https://twitter.com/home\", \"Instagram\": \"https://www.instagram.com/\", \"TikTok\": \"https://www.tiktok.com/\"}'"
            ]
          },
          "metadata": {
            "tags": []
          },
          "execution_count": 85
        }
      ]
    },
    {
      "cell_type": "markdown",
      "metadata": {
        "id": "UISj0gQmpukk"
      },
      "source": [
        "## Excercise"
      ]
    },
    {
      "cell_type": "markdown",
      "metadata": {
        "id": "xMsvzg0cpxec"
      },
      "source": [
        "Look again at the _Pathlib_ section above, in the code example that iterates through the _cleaned.alexadata.csv_ file. Execute the code and note that it prints out every 1000th line, starting with line 0.\n",
        "\n",
        "Before doing this exercise, be sure you understand how this part of the code works:\n",
        "\n",
        "```\n",
        "if not i % 1000:\n",
        "```\n",
        "\n",
        "**Hint:** A more explicit version of this same statement would be this:\n",
        "\n",
        "```\n",
        "if i % 1000 == 0:\n",
        "```"
      ]
    },
    {
      "cell_type": "markdown",
      "metadata": {
        "id": "VPTMfTsFqYg_"
      },
      "source": [
        "Now that you understand that, you will write some code that does 2 things:\n",
        "\n",
        "1. Iterate the _cleaned.alexadata.csv_ file\n",
        "2. Save every 100th (100, not 1000) line into a data structure\n",
        "3. Do some calculations on the data (see the JSON file format)\n",
        "4. Write out a JSON file in the following format:\n",
        "\n",
        "```\n",
        "{\n",
        "    \"commands\": __,\n",
        "    \"min_length\": __,\n",
        "    \"max_length\": __\n",
        "}\n",
        "```\n",
        "\n",
        "Where:\n",
        " * `commands` is the list of commands that you saved (every 100th command starting with line 0),\n",
        " * `min_length` is the minimum length of the command lines\n",
        " * `max_length` is the maximum length of the command lines\n",
        "\n",
        "Note the following helpful tips:\n",
        "\n",
        " * To open a file for writing, you will need to use the 'w' write-mode code in the open command. E.g:\n",
        "\n",
        "    ```\n",
        "    open(myfile, 'w')\n",
        "    ```\n",
        "\n",
        " * The length of a string is determined by the following function call:\n",
        "\n",
        "    ```\n",
        "    len(mystring)\n",
        "    ```\n",
        "\n",
        "Save the JSON file to your Google Drive, download it, and submit it to canvas.\n",
        "\n",
        "1 point: A valid JSON file is submitted\n",
        "1 point: There is a min_length key with the correct value\n",
        "1 point: There is a max_length key with the correct value"
      ]
    },
    {
      "cell_type": "code",
      "metadata": {
        "id": "IqiY2VMKpxBw"
      },
      "source": [],
      "execution_count": null,
      "outputs": []
    }
  ]
}