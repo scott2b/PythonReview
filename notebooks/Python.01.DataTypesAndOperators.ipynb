{
  "nbformat": 4,
  "nbformat_minor": 0,
  "metadata": {
    "colab": {
      "provenance": []
    },
    "kernelspec": {
      "display_name": "Python 3",
      "language": "python",
      "name": "python3"
    },
    "language_info": {
      "codemirror_mode": {
        "name": "ipython",
        "version": 3
      },
      "file_extension": ".py",
      "mimetype": "text/x-python",
      "name": "python",
      "nbconvert_exporter": "python",
      "pygments_lexer": "ipython3",
      "version": "3.7.7"
    }
  },
  "cells": [
    {
      "cell_type": "markdown",
      "source": [
        "[![Open in Colab](https://colab.research.google.com/assets/colab-badge.svg)](https://colab.research.google.com/github/scott2b/PythonReview/blob/main/notebooks/Python.01.DataTypesAndOperators.ipynb)\n"
      ],
      "metadata": {
        "id": "Jx3WfCsmY-qQ"
      }
    },
    {
      "cell_type": "markdown",
      "source": [
        "## Data types and operators in Python"
      ],
      "metadata": {
        "id": "eONXWwv0XVMX"
      }
    },
    {
      "cell_type": "markdown",
      "metadata": {
        "id": "jxMfSWMHLDHU"
      },
      "source": [
        "* Data types, variables, and operators in Python\n",
        "  - Numerics: int and float (+,-,*,/,%)\n",
        "  - Boolean and boolean operators (and, or, not, if, elif, else)\n",
        "  - Strings\n",
        " * Introduce the Colab programming environment\n",
        "  - Working in Colab. Code cells and state\n"
      ]
    },
    {
      "cell_type": "markdown",
      "metadata": {
        "id": "GV59VpbS3GGk"
      },
      "source": [
        "## What is type?\n",
        "\n",
        "When we are dealing with various kinds of objects or values in programming, the type of a thing determines the operations we can perform with that thing.\n",
        "\n",
        "For numeric values, there is a simple analogue in mathematics of whole numbers versus real numbers, which essentially correspond to what we refer to as integers and floating point values in programming. We saw integers and floats as types in the previous lesson.\n",
        "\n",
        "In programming the notion of type extends well beyond the realm of numbers into value concepts like character and text, as well as more complex data types like dates and times. Furthermore, what we will see in much more advanced lessons is that this notion of type can be extended to represent any objects in our domain that have state and behavior.\n",
        "\n",
        "For now, we will focus on these simple types:\n",
        "\n",
        " * The numeric types `int` and `float`, which we saw in the previous lesson.\n",
        " * The text type, `str` or string, which refers to a string of characters.\n",
        " * The boolean type, which is used to indicate truthiness.\n",
        " * The special null value in Python, which is called `None`"
      ]
    },
    {
      "cell_type": "markdown",
      "metadata": {
        "id": "uGLLRUGYLsJX"
      },
      "source": [
        "---\n",
        "🐍 **Python's Built-in types**\n",
        "\n",
        "> Python has a hierarchy of built-in types that spans across the concepts of data types that we are using here and crosses over into areas that we will refer to as data structures.\n",
        "\n",
        "> Python's principal built-in types include:\n",
        "\n",
        " * numerics\n",
        " * sequences\n",
        " * mappings\n",
        " * classes\n",
        " * instances\n",
        " * exceptions\n",
        "\n",
        "> Other built-in types include functions, modules, booleans, and the null object type.\n",
        "---"
      ]
    },
    {
      "cell_type": "markdown",
      "metadata": {
        "id": "W_5WXp_kI5xu"
      },
      "source": [
        "---\n",
        "📖 _vocabulary_\n",
        "> **primitive type**\n",
        "\n",
        "> Some languages make a distinction between so-called \"primative\" types and other types, where primatives are generally basic things like numerics, booleans, and (in come cases) characters. In Python, _everything_ is an object, and for that reason, there is not a real distinction between primitive types and more complext data types. However, some programmers will still tend to refer to integer, float, string, and boolean as primitive types in Python.\n",
        "\n",
        "---"
      ]
    },
    {
      "cell_type": "markdown",
      "metadata": {
        "id": "K84VyMLO7OgY"
      },
      "source": [
        "## Looking at type\n",
        "\n",
        "The simplest way to get a feel for types in Python is simply to inspect the types of some things. Python has a builtin `type` function. We have already seen the `print` function in action. We will use `type` in much the same way. The way this function is used, we generally refer to as \"calling type\" on some object, or \"passing some object\" to the type function.\n",
        "\n",
        "Let's call `type` on some things that come to mind."
      ]
    },
    {
      "cell_type": "markdown",
      "metadata": {
        "id": "SjUZYrJtTD6T"
      },
      "source": [
        "## Numeric types"
      ]
    },
    {
      "cell_type": "markdown",
      "metadata": {
        "id": "sQWQJxRA8i69"
      },
      "source": [
        "### What is the type of the number 1?"
      ]
    },
    {
      "cell_type": "code",
      "metadata": {
        "id": "p3xhXXAW5ndk",
        "colab": {
          "base_uri": "https://localhost:8080/",
          "height": 34
        },
        "outputId": "eff11f55-6ccb-4e2e-ad6a-a6a58f7f7090"
      },
      "source": [
        "type(1)"
      ],
      "execution_count": null,
      "outputs": [
        {
          "output_type": "execute_result",
          "data": {
            "text/plain": [
              "int"
            ]
          },
          "metadata": {
            "tags": []
          },
          "execution_count": 5
        }
      ]
    },
    {
      "cell_type": "markdown",
      "metadata": {
        "id": "6foOd2if8qrG"
      },
      "source": [
        "`int` refers to the builtin \"integer\" type, which is how we generally refer to whole numbers."
      ]
    },
    {
      "cell_type": "markdown",
      "metadata": {
        "id": "y6GPgcDX81KK"
      },
      "source": [
        "### What is the type of 1.1?"
      ]
    },
    {
      "cell_type": "code",
      "metadata": {
        "id": "aqkAjTETXCf9",
        "colab": {
          "base_uri": "https://localhost:8080/",
          "height": 34
        },
        "outputId": "b629a718-6bfc-45bf-e8dc-4007ea7a2775"
      },
      "source": [
        "type(1.1)"
      ],
      "execution_count": null,
      "outputs": [
        {
          "output_type": "execute_result",
          "data": {
            "text/plain": [
              "float"
            ]
          },
          "metadata": {
            "tags": []
          },
          "execution_count": 6
        }
      ]
    },
    {
      "cell_type": "markdown",
      "metadata": {
        "id": "dqyJAUQR84va"
      },
      "source": [
        "1.1 is a `float`, or floating-point number. You might think of these as \"natural\" numbers, or decimal numbers."
      ]
    },
    {
      "cell_type": "markdown",
      "metadata": {
        "id": "-dKX3OUv9Tlv"
      },
      "source": [
        "### What about 1.0?"
      ]
    },
    {
      "cell_type": "code",
      "metadata": {
        "id": "adaPiRLR9WLH",
        "colab": {
          "base_uri": "https://localhost:8080/",
          "height": 34
        },
        "outputId": "f9633ba3-23bc-449b-bf08-0ed238dc72a6"
      },
      "source": [
        "type(1.0)"
      ],
      "execution_count": null,
      "outputs": [
        {
          "output_type": "execute_result",
          "data": {
            "text/plain": [
              "float"
            ]
          },
          "metadata": {
            "tags": []
          },
          "execution_count": 7
        }
      ]
    },
    {
      "cell_type": "markdown",
      "metadata": {
        "id": "Um8prVrI9aPI"
      },
      "source": [
        "Simply appending the point-zero onto an integer value suddenly makes it a float instead of an integer.\n",
        "\n",
        "The representation of floating point values versus integers is actual a complex and fascinating topic in computer science. However, for purposes of this course, we will stick with the basic notion of recognizing that these are distinct types that behave in slightly different ways for some operations."
      ]
    },
    {
      "cell_type": "markdown",
      "metadata": {
        "id": "27DUQZtpBKyp"
      },
      "source": [
        "---\n",
        "### ⚠️ **Gotcha!**\n",
        "> **floating point** values may not always be what they seem: part 2.\n",
        "\n",
        "> We highlighted the trickiness of floating point values in a **Gotcha!** in the previous lesson. But, to drive this home, consider the problem `0.1 + 0.2`. Type that problem into a code cell to see what you get.\n",
        "\n",
        "> The nuances of floating point values are beyond the scope of this course, but for the curious, [here](https://floating-point-gui.de/) is a guide that is worth taking a look at.\n",
        "\n",
        "---"
      ]
    },
    {
      "cell_type": "markdown",
      "metadata": {
        "id": "e0KsrPi2CskK"
      },
      "source": [
        "## Text as a type"
      ]
    },
    {
      "cell_type": "code",
      "metadata": {
        "id": "BAnmljG77-H_",
        "colab": {
          "base_uri": "https://localhost:8080/",
          "height": 34
        },
        "outputId": "a73839d3-4b05-4ebd-a615-8218cb0966c1"
      },
      "source": [
        "type('a')"
      ],
      "execution_count": null,
      "outputs": [
        {
          "output_type": "execute_result",
          "data": {
            "text/plain": [
              "str"
            ]
          },
          "metadata": {
            "tags": []
          },
          "execution_count": 3
        }
      ]
    },
    {
      "cell_type": "code",
      "metadata": {
        "id": "JWmWp_ZO8FKH",
        "colab": {
          "base_uri": "https://localhost:8080/",
          "height": 34
        },
        "outputId": "dc2d839e-ee2d-4727-bf46-e7e9d50349bd"
      },
      "source": [
        "type('abc')"
      ],
      "execution_count": null,
      "outputs": [
        {
          "output_type": "execute_result",
          "data": {
            "text/plain": [
              "str"
            ]
          },
          "metadata": {
            "tags": []
          },
          "execution_count": 4
        }
      ]
    },
    {
      "cell_type": "markdown",
      "metadata": {
        "id": "dlfOIUapCzND"
      },
      "source": [
        "`str` is Python's **string** type. Here, \"string\" refers to a string of characters.\n",
        "\n"
      ]
    },
    {
      "cell_type": "markdown",
      "metadata": {
        "id": "K5ky9ZI3D_1E"
      },
      "source": [
        "---\n",
        "🐍 **Characters and strings in Python**\n",
        "\n",
        "> Some languages have a distinct type for characters, e.g. the `'a'` above, and strings of characters, e.g. `'abc'`. Python treats this as the same type -- text is always considered to be a string.\n",
        "\n",
        "---"
      ]
    },
    {
      "cell_type": "markdown",
      "metadata": {
        "id": "HqikM6fplvHq"
      },
      "source": [
        "### Operations on strings\n",
        "\n"
      ]
    },
    {
      "cell_type": "code",
      "metadata": {
        "id": "r2H1UAptmCyz",
        "colab": {
          "base_uri": "https://localhost:8080/",
          "height": 34
        },
        "outputId": "22b00607-faf3-42c6-8b88-ce3fbf636ba6"
      },
      "source": [
        "'cats' + 'and' + 'dogs'"
      ],
      "execution_count": null,
      "outputs": [
        {
          "output_type": "execute_result",
          "data": {
            "text/plain": [
              "'catsanddogs'"
            ]
          },
          "metadata": {
            "tags": []
          },
          "execution_count": 23
        }
      ]
    },
    {
      "cell_type": "markdown",
      "metadata": {
        "id": "VDWajHnZmPgJ"
      },
      "source": [
        "---\n",
        "📖 _vocabulary_\n",
        "> **operator overloading**. Type can have an effect on how operators work. When an operator is available for different types and behaves differently according to type, this is called **operator overloading**. This is to say the **operator**, e.g. the _+_ sign, is **overloaded** for numbers and for strings in that it indicates _addition_ for numbers and _concatentation_ for strings.\n",
        "---"
      ]
    },
    {
      "cell_type": "markdown",
      "metadata": {
        "id": "uJqNZzLvcpHZ"
      },
      "source": [
        "---\n",
        "### 🔨 **Try it!**\n",
        "\n",
        "> Consider the above example of `'catsanddogs'`. What if we wanted spaces between the words so this string reads correctly? In the code cell below, enter the concatenation operation that will result in the correct and readable string `'cats and dogs`'."
      ]
    },
    {
      "cell_type": "code",
      "metadata": {
        "id": "4a5g-uS8dD_y"
      },
      "source": [],
      "execution_count": null,
      "outputs": []
    },
    {
      "cell_type": "markdown",
      "metadata": {
        "id": "byISmK81dE76"
      },
      "source": [
        "---"
      ]
    },
    {
      "cell_type": "markdown",
      "metadata": {
        "id": "SiIDwjNcTWcZ"
      },
      "source": [
        "## The boolean type\n",
        "\n",
        "Before jumping into the concepts of truthiness and boolean values, consider the following truth tables which illustrate the fundamental ideas behind boolean logic as used in computer science.\n",
        "\n",
        "\n",
        "First consider the simple NOT table:\n",
        "\n",
        "| A     | not A |\n",
        "|-------|-------|\n",
        "| true  | false |\n",
        "| false | true  |\n",
        "\n",
        "Here, we simply enumerate the possibilities of inverting the boolean values `true` and `false`. `not true` is `false`, and `not false` is `true`.\n",
        "\n",
        "\n",
        "Now consider the more complex logical operations of combining two logical values `A` and `B`. Here, we illustrate the idea of logically ANDing these values:\n",
        "\n",
        "| A    | B    | A and B |\n",
        "|------|------|---------|\n",
        "| true | true | true    |\n",
        "| true | false| false   |\n",
        "| false| true | false   |\n",
        "| false| false| false   |\n",
        "\n",
        "By scrutinizing the table, you can see that the result of the **and** operation is the outcome of the question: _Are **all** of these things true?_\n",
        "\n",
        "Another possibility is to consider the logical `OR`:\n",
        "\n",
        "| A    | B    | A or B |\n",
        "|------|------|--------|\n",
        "| true | true | true   |\n",
        "| true | false| true   |\n",
        "| false| true | true   |\n",
        "| false| false| false  |\n",
        "\n",
        "The logical OR addresses the question: _Are **any** of these things true?_\n",
        "\n",
        "Where `C` is the result of `A or B`\n",
        "\n",
        "Take a moment to understand each of these tables and why the results are what they are."
      ]
    },
    {
      "cell_type": "markdown",
      "metadata": {
        "id": "ZKC-YoV5ZEdC"
      },
      "source": [
        "### Booleans in Python\n",
        "\n",
        "The boolean values are written in Python as `True` and `False`. Note the capitalization.\n",
        "\n",
        "We can see these in action quite simply:"
      ]
    },
    {
      "cell_type": "code",
      "metadata": {
        "id": "XZ7RXjt_8HDd",
        "colab": {
          "base_uri": "https://localhost:8080/",
          "height": 34
        },
        "outputId": "4e12cd5a-b25e-40f8-bd3c-822060552dd7"
      },
      "source": [
        "not True"
      ],
      "execution_count": null,
      "outputs": [
        {
          "output_type": "execute_result",
          "data": {
            "text/plain": [
              "False"
            ]
          },
          "metadata": {
            "tags": []
          },
          "execution_count": 15
        }
      ]
    },
    {
      "cell_type": "code",
      "metadata": {
        "id": "h9NiUtjiZUVe",
        "colab": {
          "base_uri": "https://localhost:8080/",
          "height": 34
        },
        "outputId": "83a198b4-fe14-4a5f-9e2d-becefaacf833"
      },
      "source": [
        "not False"
      ],
      "execution_count": null,
      "outputs": [
        {
          "output_type": "execute_result",
          "data": {
            "text/plain": [
              "True"
            ]
          },
          "metadata": {
            "tags": []
          },
          "execution_count": 16
        }
      ]
    },
    {
      "cell_type": "markdown",
      "metadata": {
        "id": "dp-If7hcZX2e"
      },
      "source": [
        "The concept of truthiness in Python, however, extends beyond the realm of the boolean type values of `True` and `False`. Anything can be evalauated for its \"truthiness\" as we will see in the lesson on working with booleans.\n",
        "\n",
        "Consider as a thought experiment, for example, these statements:"
      ]
    },
    {
      "cell_type": "code",
      "metadata": {
        "id": "BepihhVNZVZe",
        "colab": {
          "base_uri": "https://localhost:8080/",
          "height": 34
        },
        "outputId": "f61e9dbe-b717-42ab-9da1-56114358e1cc"
      },
      "source": [
        "not 0"
      ],
      "execution_count": null,
      "outputs": [
        {
          "output_type": "execute_result",
          "data": {
            "text/plain": [
              "True"
            ]
          },
          "metadata": {
            "tags": []
          },
          "execution_count": 17
        }
      ]
    },
    {
      "cell_type": "code",
      "metadata": {
        "id": "YyMLKg0RZ-Lk",
        "colab": {
          "base_uri": "https://localhost:8080/",
          "height": 34
        },
        "outputId": "9d815739-89c2-4947-e495-d419700534a1"
      },
      "source": [
        "not 1"
      ],
      "execution_count": null,
      "outputs": [
        {
          "output_type": "execute_result",
          "data": {
            "text/plain": [
              "False"
            ]
          },
          "metadata": {
            "tags": []
          },
          "execution_count": 18
        }
      ]
    },
    {
      "cell_type": "markdown",
      "metadata": {
        "id": "AWaBR0L0Z_6T"
      },
      "source": [
        "We will go into the details of what is happening here in that future lesson. In the mean time, just keep in mind that boolean as a data type is something with the explicit values of `True` or `False`, whereas there is a broader concept of \"truthiness\" which applies to all things. These are distinct, yet related ideas that you will come to utilize regularly in your programming."
      ]
    },
    {
      "cell_type": "markdown",
      "metadata": {
        "id": "cee3tALuhpgj"
      },
      "source": [
        "## When there is no type\n",
        "\n",
        "Most programming languages have a concept of a null value. This is relevant to the topic of types because we have to be able to answer the question: what is the type of nothing?\n",
        "\n",
        "In Python, the null value is indicated by the special built-in object called `None`.\n",
        "\n",
        "In practice, there is not much you can do with `None` on its own, and the idea that we even need a concept of \"nothingness\" in programming might not be at all intuitive at this point. This concept, however, becomes extremely important in the context of the name binding of variables, where it is possible to have a name that appears to be something, but in fact refers to nothing. That _nothing_ in Python is called `None`.\n",
        "\n",
        "Here we can see that, when checking whether the value `1` is None, this is False."
      ]
    },
    {
      "cell_type": "code",
      "metadata": {
        "id": "s1_k15OLiZcR",
        "colab": {
          "base_uri": "https://localhost:8080/",
          "height": 34
        },
        "outputId": "9cd4f94e-9cbc-49c2-a4cc-1d57f3a65f5d"
      },
      "source": [
        "1 is None"
      ],
      "execution_count": null,
      "outputs": [
        {
          "output_type": "execute_result",
          "data": {
            "text/plain": [
              "False"
            ]
          },
          "metadata": {
            "tags": []
          },
          "execution_count": 22
        }
      ]
    },
    {
      "cell_type": "markdown",
      "metadata": {
        "id": "eYL8DDyRMGn6"
      },
      "source": [
        "---\n",
        "\n",
        "## Exercises\n",
        "\n",
        "### 1. Integer & float mixed operations\n",
        "\n",
        "We considered briefly the concept of type, and noted that `1` is a different type from `1.0`. What happens when you add these types together? Does the order matter? Try different mixed operations ( +, -, *, / ) of integer and float values, and reverse the order of each. In each case, mentally note how the types of the input are reflected in the type of the output.\n",
        "\n",
        "Show your work here, and below state your general observation about mixed operations with integers and floats."
      ]
    },
    {
      "cell_type": "code",
      "metadata": {
        "id": "clUK8He-M1EH",
        "colab": {
          "base_uri": "https://localhost:8080/",
          "height": 86
        },
        "outputId": "34811c2e-4292-4e1a-d4f3-36a37f5acebd"
      },
      "source": [
        "print(1 + 1.0)"
      ],
      "execution_count": null,
      "outputs": [
        {
          "output_type": "stream",
          "text": [
            "2.0\n",
            "2.0\n",
            "0.0\n",
            "0.0\n"
          ],
          "name": "stdout"
        }
      ]
    },
    {
      "cell_type": "markdown",
      "metadata": {
        "id": "yeI526yQNQ2r"
      },
      "source": [
        "### General observations about integer/float mixed operations:"
      ]
    },
    {
      "cell_type": "markdown",
      "metadata": {
        "id": "TJcSX0GgNe8b"
      },
      "source": [
        "### 2. String and numeric mixed operations\n",
        "\n",
        "We saw that we could \"add\" strings (which is to say concatenate them). What happens when you add a number to a string or a string to a number? What about other operations? You won't be able to show all of your work for reasons that will become obvious, but show what works and note your general observations about both what works and what does not."
      ]
    },
    {
      "cell_type": "code",
      "metadata": {
        "id": "cxxfRio2M6mG"
      },
      "source": [
        "'foo' + 1"
      ],
      "execution_count": null,
      "outputs": []
    },
    {
      "cell_type": "markdown",
      "metadata": {
        "id": "qusdMvUQOkrM"
      },
      "source": [
        "### General observations about string/numeric mixed operations:"
      ]
    },
    {
      "cell_type": "markdown",
      "metadata": {
        "id": "aOuiee0EeABC"
      },
      "source": [
        "\n",
        "### 3. Logical operations with booleans\n",
        "\n",
        "Python uses the keywords `and`, `or`, and `not` for boolean logical operations. We saw `not` in action above. Look back up at the logical truth tables for the `and` and `or` operations. Like the print statements above that show the results of `not True` and `not False` print out all of the logical `and` and `or` operations from the tables. The first one is done for you:"
      ]
    },
    {
      "cell_type": "code",
      "metadata": {
        "id": "s-JS9JtyeXrU",
        "colab": {
          "base_uri": "https://localhost:8080/",
          "height": 34
        },
        "outputId": "62bd1779-8a88-4684-a2d3-c18c159f86d0"
      },
      "source": [
        "print(True and True)"
      ],
      "execution_count": null,
      "outputs": [
        {
          "output_type": "stream",
          "text": [
            "True\n"
          ],
          "name": "stdout"
        }
      ]
    },
    {
      "cell_type": "code",
      "metadata": {
        "id": "Ssb22orPeZHS"
      },
      "source": [],
      "execution_count": null,
      "outputs": []
    }
  ]
}