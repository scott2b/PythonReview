{
  "nbformat": 4,
  "nbformat_minor": 0,
  "metadata": {
    "colab": {
      "provenance": []
    },
    "kernelspec": {
      "name": "python3",
      "display_name": "Python 3"
    }
  },
  "cells": [
    {
      "cell_type": "markdown",
      "source": [
        "[![Open in Colab](https://colab.research.google.com/assets/colab-badge.svg)](https://colab.research.google.com/github/scott2b/PythonReview/blob/main/notebooks/Python.06.LoopsAndConditionals.ipynb)"
      ],
      "metadata": {
        "id": "1epZWgKnIbe_"
      }
    },
    {
      "cell_type": "code",
      "metadata": {
        "id": "OsCLC0RsQAjg"
      },
      "source": [
        "brands = ['wendys', 'burgerking', 'mcdonalds', 'tacobell', 'chipotle']"
      ],
      "execution_count": null,
      "outputs": []
    },
    {
      "cell_type": "markdown",
      "metadata": {
        "id": "_MyzQGYhP7m5"
      },
      "source": [
        "## 1. Basic for-loop\n",
        "\n",
        "Going through an interable in Python is super easy. You can simply directly iterate the iterable object itself. In most cases, you do not need to think about indexes."
      ]
    },
    {
      "cell_type": "code",
      "metadata": {
        "id": "vW37j-K6QJPm",
        "colab": {
          "base_uri": "https://localhost:8080/",
          "height": 104
        },
        "outputId": "dc40f6b9-9d2c-424b-94db-ee5ccbdc233f"
      },
      "source": [
        "for b in brands:\n",
        "    print(b)"
      ],
      "execution_count": null,
      "outputs": [
        {
          "output_type": "stream",
          "text": [
            "wendys\n",
            "burgerking\n",
            "mcdonalds\n",
            "tacobell\n",
            "chipotle\n"
          ],
          "name": "stdout"
        }
      ]
    },
    {
      "cell_type": "markdown",
      "metadata": {
        "id": "n3w-B3k4QRPh"
      },
      "source": [
        "# 2. Enumerated for loop\n",
        "\n",
        "And, in case you do need the index, Python has a convenient `enumerate` function that includes the index in the iteration:\n"
      ]
    },
    {
      "cell_type": "code",
      "metadata": {
        "id": "8qeB6uPFQXPG",
        "colab": {
          "base_uri": "https://localhost:8080/",
          "height": 104
        },
        "outputId": "c5479d55-c96f-45a6-e73e-d1adb7dc2562"
      },
      "source": [
        "for i, b in enumerate(brands):\n",
        "    print(i, b)"
      ],
      "execution_count": null,
      "outputs": [
        {
          "output_type": "stream",
          "text": [
            "0 wendys\n",
            "1 burgerking\n",
            "2 mcdonalds\n",
            "3 tacobell\n",
            "4 chipotle\n"
          ],
          "name": "stdout"
        }
      ]
    },
    {
      "cell_type": "markdown",
      "metadata": {
        "id": "CHs8CjgvQaKL"
      },
      "source": [
        "# 3. Iteration by index and range construction\n",
        "\n",
        "If you do iterate by index: recall that Python lists are 0 indexed.\n",
        "\n",
        "Python's `range` function, by default, starts with 0 and is right non-inclusive. This ensures parity with the way indexing works in the language:\n"
      ]
    },
    {
      "cell_type": "code",
      "metadata": {
        "id": "TLphTMCGVi-P",
        "colab": {
          "base_uri": "https://localhost:8080/",
          "height": 34
        },
        "outputId": "32d5772e-6cd4-40be-91e6-06ec625e86db"
      },
      "source": [
        "len(brands)"
      ],
      "execution_count": null,
      "outputs": [
        {
          "output_type": "execute_result",
          "data": {
            "text/plain": [
              "5"
            ]
          },
          "metadata": {
            "tags": []
          },
          "execution_count": 8
        }
      ]
    },
    {
      "cell_type": "code",
      "metadata": {
        "id": "R9oAyncVVdDJ",
        "colab": {
          "base_uri": "https://localhost:8080/",
          "height": 34
        },
        "outputId": "b4c5bafe-68b1-4e1d-f051-72e2ba0f75e7"
      },
      "source": [
        "range(len(brands))"
      ],
      "execution_count": null,
      "outputs": [
        {
          "output_type": "execute_result",
          "data": {
            "text/plain": [
              "range(0, 5)"
            ]
          },
          "metadata": {
            "tags": []
          },
          "execution_count": 7
        }
      ]
    },
    {
      "cell_type": "code",
      "metadata": {
        "id": "-j6K2b4gVknD",
        "colab": {
          "base_uri": "https://localhost:8080/",
          "height": 34
        },
        "outputId": "265b5e3f-ce4f-4e29-d224-7ec48ddd942e"
      },
      "source": [
        "list(range(len(brands)))"
      ],
      "execution_count": null,
      "outputs": [
        {
          "output_type": "execute_result",
          "data": {
            "text/plain": [
              "[0, 1, 2, 3, 4]"
            ]
          },
          "metadata": {
            "tags": []
          },
          "execution_count": 9
        }
      ]
    },
    {
      "cell_type": "code",
      "metadata": {
        "id": "uSsyj4y5Qk_g",
        "colab": {
          "base_uri": "https://localhost:8080/",
          "height": 104
        },
        "outputId": "a9c04118-2c3d-4dc2-da5d-c8de636dc77a"
      },
      "source": [
        "# Normally you wouldn't really do this. It is not terribly idiomatic .. but it\n",
        "# is completely valid, and demonstrates how index based looping works in case\n",
        "# you have a situation where looping by index is wanted.\n",
        "\n",
        "indexes = range(len(brands))\n",
        "for index in indexes:\n",
        "    print(brands[index])\n"
      ],
      "execution_count": null,
      "outputs": [
        {
          "output_type": "stream",
          "text": [
            "wendys\n",
            "burgerking\n",
            "mcdonalds\n",
            "tacobell\n",
            "chipotle\n"
          ],
          "name": "stdout"
        }
      ]
    },
    {
      "cell_type": "markdown",
      "metadata": {
        "id": "CtJiQ8-0Qohe"
      },
      "source": [
        "# 4. Booleans\n",
        "\n",
        "First and foremost, you have to understand boolean logic. You should have seen this in previous programming work. It boils down to these simple truth tables:\n",
        "\n",
        "### NOT\n",
        "\n",
        "| v | T/F |\n",
        "|---|-----|\n",
        "| T |  T  |\n",
        "| T |  F  |\n",
        "| F |  T  |\n",
        "| F |  F  |\n",
        "\n",
        "### AND\n",
        "\n",
        "| v1  | v2  | T/F |\n",
        "|-----|-----|-----|\n",
        "|  T  |  T  |  T  |\n",
        "|  T  |  F  |  F  |\n",
        "|  F  |  T  |  T  |\n",
        "|  F  |  F  |  F  |\n",
        "\n",
        "### OR\n",
        "\n",
        "| v1  | v2  | T/F |\n",
        "|-----|-----|-----|\n",
        "|  T  |  T  |  T  |\n",
        "|  T  |  F  |  T  |\n",
        "|  F  |  T  |  T  |\n",
        "|  F  |  F  |  F  |\n"
      ]
    },
    {
      "cell_type": "markdown",
      "metadata": {
        "id": "fJFOC5D8XYsC"
      },
      "source": [
        "Python uses these operators for boolean logic:\n",
        "\n",
        " * `not`\n",
        " * `and`\n",
        " * `or`\n",
        "\n",
        " You may have seen `!&|` in other languages. Python has these operators, but they are not used for the type of boolean logic we will do in this class, and they can lead to subtle bugs if not used correctly. `!&|` are a subset of what are called **bitwise** operators. You won't need them in this course. **Don't use them**."
      ]
    },
    {
      "cell_type": "markdown",
      "metadata": {
        "id": "sCwIKc6aYR32"
      },
      "source": [
        "You can prove out the truth tables quite simply:"
      ]
    },
    {
      "cell_type": "code",
      "metadata": {
        "id": "L_NmV4q0XXzD",
        "colab": {
          "base_uri": "https://localhost:8080/",
          "height": 34
        },
        "outputId": "584f4ae4-1971-4343-a2b6-fca06724d144"
      },
      "source": [
        "not True"
      ],
      "execution_count": null,
      "outputs": [
        {
          "output_type": "execute_result",
          "data": {
            "text/plain": [
              "False"
            ]
          },
          "metadata": {
            "tags": []
          },
          "execution_count": 11
        }
      ]
    },
    {
      "cell_type": "code",
      "metadata": {
        "id": "nByQa32QYHO4",
        "colab": {
          "base_uri": "https://localhost:8080/",
          "height": 34
        },
        "outputId": "51620b21-34b9-4a3b-cc98-5fc3c222a649"
      },
      "source": [
        "not False"
      ],
      "execution_count": null,
      "outputs": [
        {
          "output_type": "execute_result",
          "data": {
            "text/plain": [
              "True"
            ]
          },
          "metadata": {
            "tags": []
          },
          "execution_count": 12
        }
      ]
    },
    {
      "cell_type": "code",
      "metadata": {
        "id": "o0Z363PzYI45",
        "colab": {
          "base_uri": "https://localhost:8080/",
          "height": 34
        },
        "outputId": "caf0c499-57db-4b7c-8939-806cff28a7af"
      },
      "source": [
        "True and True"
      ],
      "execution_count": null,
      "outputs": [
        {
          "output_type": "execute_result",
          "data": {
            "text/plain": [
              "True"
            ]
          },
          "metadata": {
            "tags": []
          },
          "execution_count": 13
        }
      ]
    },
    {
      "cell_type": "code",
      "metadata": {
        "id": "ZevwordZYLBk",
        "colab": {
          "base_uri": "https://localhost:8080/",
          "height": 34
        },
        "outputId": "2ad40c50-9393-49f0-a2ee-674e638c7696"
      },
      "source": [
        "True and False"
      ],
      "execution_count": null,
      "outputs": [
        {
          "output_type": "execute_result",
          "data": {
            "text/plain": [
              "False"
            ]
          },
          "metadata": {
            "tags": []
          },
          "execution_count": 14
        }
      ]
    },
    {
      "cell_type": "code",
      "metadata": {
        "id": "uETNz-MRYMzK",
        "colab": {
          "base_uri": "https://localhost:8080/",
          "height": 34
        },
        "outputId": "3d57bb3d-8198-4889-efbb-b91f78e5aa48"
      },
      "source": [
        "True or True"
      ],
      "execution_count": null,
      "outputs": [
        {
          "output_type": "execute_result",
          "data": {
            "text/plain": [
              "True"
            ]
          },
          "metadata": {
            "tags": []
          },
          "execution_count": 15
        }
      ]
    },
    {
      "cell_type": "code",
      "metadata": {
        "id": "nIgzqmgpYO6c",
        "colab": {
          "base_uri": "https://localhost:8080/",
          "height": 34
        },
        "outputId": "3ea92ac3-37ad-4672-af5a-9417b9a9f2cc"
      },
      "source": [
        "True or False"
      ],
      "execution_count": null,
      "outputs": [
        {
          "output_type": "execute_result",
          "data": {
            "text/plain": [
              "True"
            ]
          },
          "metadata": {
            "tags": []
          },
          "execution_count": 16
        }
      ]
    },
    {
      "cell_type": "markdown",
      "metadata": {
        "id": "PIWfj2fRYaxp"
      },
      "source": [
        "The remaining missing rows are left as an exercise."
      ]
    },
    {
      "cell_type": "markdown",
      "metadata": {
        "id": "efuMTaQxYfvs"
      },
      "source": [
        "## Compound boolean checks and precedence\n",
        "\n",
        "You can combine multiple boolean checks in a single statement.\n",
        "\n",
        "Consider some variables i, j, k. These are valid constructs:\n",
        "\n",
        "```\n",
        "if i and j and k:\n",
        "```\n",
        "\n",
        "```\n",
        "if i or j or k:\n",
        "```\n",
        "\n",
        "Those conditions are evaluated left-to-right. But when mixing up operators, preccedence is not so obvious ... you should use parenthesis to keep things straight:\n",
        "\n",
        "```\n",
        "if i and (j or k): # mixing ands and ors definitely should be clarified this way.\n",
        "```\n",
        "\n",
        "```\n",
        "if not i and not j: # seems clear enough, but you might want to clarify it anyway\n",
        "\n",
        "if (not i) and (not j):\n",
        "```\n",
        "\n",
        "etc."
      ]
    },
    {
      "cell_type": "markdown",
      "metadata": {
        "id": "8UMmrqt8cdlC"
      },
      "source": [
        "## Short circuited `or` statements\n",
        "\n",
        "Python uses what is known as short-circuiting in boolean statements. For a compound boolean check, if an `or` evaluates to False, the rest of the statement is not checked.\n",
        "\n",
        "Be sure you understand why this works. Review the truth tables above if it is not clear to you.\n",
        "\n",
        "Short circuiting is often used as a mechanism for code safety. Take the following example:"
      ]
    },
    {
      "cell_type": "code",
      "metadata": {
        "id": "TyGStuRIYvuw"
      },
      "source": [
        "def compare_to_one(val):\n",
        "    if val > 1:\n",
        "        pass # do something"
      ],
      "execution_count": null,
      "outputs": []
    },
    {
      "cell_type": "code",
      "metadata": {
        "id": "WxFcKjE1dhR9",
        "colab": {
          "base_uri": "https://localhost:8080/",
          "height": 252
        },
        "outputId": "99bbcc6a-c545-4fbe-bf70-9e4b22009c12"
      },
      "source": [
        "compare_to_one(None)"
      ],
      "execution_count": null,
      "outputs": [
        {
          "output_type": "error",
          "ename": "TypeError",
          "evalue": "ignored",
          "traceback": [
            "\u001b[0;31m---------------------------------------------------------------------------\u001b[0m",
            "\u001b[0;31mTypeError\u001b[0m                                 Traceback (most recent call last)",
            "\u001b[0;32m<ipython-input-22-fd5c6c54d933>\u001b[0m in \u001b[0;36m<module>\u001b[0;34m()\u001b[0m\n\u001b[0;32m----> 1\u001b[0;31m \u001b[0mcompare_to_one\u001b[0m\u001b[0;34m(\u001b[0m\u001b[0;32mNone\u001b[0m\u001b[0;34m)\u001b[0m\u001b[0;34m\u001b[0m\u001b[0;34m\u001b[0m\u001b[0m\n\u001b[0m",
            "\u001b[0;32m<ipython-input-21-096358fd27b9>\u001b[0m in \u001b[0;36mcompare_to_one\u001b[0;34m(val)\u001b[0m\n\u001b[1;32m      1\u001b[0m \u001b[0;32mdef\u001b[0m \u001b[0mcompare_to_one\u001b[0m\u001b[0;34m(\u001b[0m\u001b[0mval\u001b[0m\u001b[0;34m)\u001b[0m\u001b[0;34m:\u001b[0m\u001b[0;34m\u001b[0m\u001b[0;34m\u001b[0m\u001b[0m\n\u001b[0;32m----> 2\u001b[0;31m     \u001b[0;32mif\u001b[0m \u001b[0mval\u001b[0m \u001b[0;34m>\u001b[0m \u001b[0;36m1\u001b[0m\u001b[0;34m:\u001b[0m\u001b[0;34m\u001b[0m\u001b[0;34m\u001b[0m\u001b[0m\n\u001b[0m\u001b[1;32m      3\u001b[0m         \u001b[0;32mpass\u001b[0m \u001b[0;31m# do something\u001b[0m\u001b[0;34m\u001b[0m\u001b[0;34m\u001b[0m\u001b[0m\n",
            "\u001b[0;31mTypeError\u001b[0m: '>' not supported between instances of 'NoneType' and 'int'"
          ]
        }
      ]
    },
    {
      "cell_type": "markdown",
      "metadata": {
        "id": "vVVz3B4tdkVy"
      },
      "source": [
        "To prevent this invalid check, one possibility would be to use an `or` construct, like this:\n",
        "\n",
        "    "
      ]
    },
    {
      "cell_type": "code",
      "metadata": {
        "id": "M1McEZIlduDx"
      },
      "source": [
        "def compare_to_one_fixed(val):\n",
        "    if val is not None and val > 1:\n",
        "        pass # do something"
      ],
      "execution_count": null,
      "outputs": []
    },
    {
      "cell_type": "code",
      "metadata": {
        "id": "JMs0oMqzd3xn"
      },
      "source": [
        "compare_to_one_fixed(None)"
      ],
      "execution_count": null,
      "outputs": []
    },
    {
      "cell_type": "markdown",
      "metadata": {
        "id": "DeiBn_eJd8tK"
      },
      "source": [
        "## Convenience compound boolean functions\n",
        "\n",
        "For cases in which you need to evaluate a number of `and` statements or `or` statements together, particularly when the items evaluated are already in some data structure,  Python provides these convenience functions:\n",
        "\n",
        " * any - is True if anything in the provided list is True\n",
        " * all - is True if all of the items in the provided list are True"
      ]
    },
    {
      "cell_type": "code",
      "metadata": {
        "id": "PpJOg8UpeggX",
        "colab": {
          "base_uri": "https://localhost:8080/",
          "height": 34
        },
        "outputId": "7ac111c8-a93e-4805-c5be-8e84f4e78219"
      },
      "source": [
        "any([False, False, False])"
      ],
      "execution_count": null,
      "outputs": [
        {
          "output_type": "execute_result",
          "data": {
            "text/plain": [
              "False"
            ]
          },
          "metadata": {
            "tags": []
          },
          "execution_count": 26
        }
      ]
    },
    {
      "cell_type": "code",
      "metadata": {
        "id": "1vrqQteXedNg",
        "colab": {
          "base_uri": "https://localhost:8080/",
          "height": 34
        },
        "outputId": "a25918a8-eb22-4a89-cc6a-a03f6411ae6c"
      },
      "source": [
        "any([True, False, True])"
      ],
      "execution_count": null,
      "outputs": [
        {
          "output_type": "execute_result",
          "data": {
            "text/plain": [
              "True"
            ]
          },
          "metadata": {
            "tags": []
          },
          "execution_count": 25
        }
      ]
    },
    {
      "cell_type": "code",
      "metadata": {
        "id": "ANOdBdmlejkf",
        "colab": {
          "base_uri": "https://localhost:8080/",
          "height": 34
        },
        "outputId": "7eec1d38-9f3c-4ebf-cb43-4b82932fac13"
      },
      "source": [
        "all([True, True, False])"
      ],
      "execution_count": null,
      "outputs": [
        {
          "output_type": "execute_result",
          "data": {
            "text/plain": [
              "False"
            ]
          },
          "metadata": {
            "tags": []
          },
          "execution_count": 27
        }
      ]
    },
    {
      "cell_type": "code",
      "metadata": {
        "id": "sKd_qIWreneT",
        "colab": {
          "base_uri": "https://localhost:8080/",
          "height": 34
        },
        "outputId": "ef3c6d56-7a95-463a-b3c3-3954a975a040"
      },
      "source": [
        "all([True, True, True])"
      ],
      "execution_count": null,
      "outputs": [
        {
          "output_type": "execute_result",
          "data": {
            "text/plain": [
              "True"
            ]
          },
          "metadata": {
            "tags": []
          },
          "execution_count": 28
        }
      ]
    },
    {
      "cell_type": "markdown",
      "metadata": {
        "id": "wborSpDnQ9Wz"
      },
      "source": [
        "# 5. Combining loops and conditionals\n",
        "\n",
        "More often then not, when looping over data, there is some conditional check you will want to do in that context. This, of course, leads to nested block structures.\n",
        "\n",
        "Nested block structures seem to trip up beginning Python students more than they should. Always keep Python's indentation-based code blocking in mind. Draw a straight line down from the left indent of the opening statement of a code block (colab does this for you!!) **Everything up to, but not including the next line you hit is in that block**."
      ]
    },
    {
      "cell_type": "code",
      "metadata": {
        "id": "4aO42eoufqUm"
      },
      "source": [
        "def function_block():\n",
        "    \"\"\"Example to demonstrate the block scope of a function.\n",
        "\n",
        "    Be sure you have turned on Tools > Settings > Editor > Show indentation guides\n",
        "\n",
        "    Colab will show a single guideline that runs the full length of this function.\n",
        "    \"\"\"\n",
        "    pass # this function does nothing\n",
        "\n",
        "## We are now outside the function block. Everything in lines 1-8 is \"seen\" by\n",
        "## the function. Everything after that is not."
      ],
      "execution_count": null,
      "outputs": []
    },
    {
      "cell_type": "code",
      "metadata": {
        "id": "0rTVYXyUgakI"
      },
      "source": [
        "def function_block_with_loop():\n",
        "    \"\"\"Now we have a for-loop in our function. Note the nested guide which shows\n",
        "    the scope of the loop\n",
        "    \"\"\"\n",
        "    for loopval in range(100):\n",
        "        # You'd probably want to do something with i here.\n",
        "        # But this function does nothing.\n",
        "        pass # This is the last line of the for-loop block!!!\n",
        "\n",
        "    # Note the nested guideline that goes to line 8. We are now outside the\n",
        "    # for-loop but still inside the function block!\n",
        "\n",
        "    # Note that the for-loop \"sees\" everything from line 5 - 8. And the function\n",
        "    # block sees the entire function scope including the entire for-loop block.\n",
        "    print(loopval) # where are we now? what will this print?\n"
      ],
      "execution_count": null,
      "outputs": []
    },
    {
      "cell_type": "code",
      "metadata": {
        "id": "aI9MSZLvfn6k",
        "colab": {
          "base_uri": "https://localhost:8080/",
          "height": 165
        },
        "outputId": "000ae77a-1caa-4be2-dd3e-083c57367a65"
      },
      "source": [
        "print(loopval) # Now where are we? what will this print? (Trick question)"
      ],
      "execution_count": null,
      "outputs": [
        {
          "output_type": "error",
          "ename": "NameError",
          "evalue": "ignored",
          "traceback": [
            "\u001b[0;31m---------------------------------------------------------------------------\u001b[0m",
            "\u001b[0;31mNameError\u001b[0m                                 Traceback (most recent call last)",
            "\u001b[0;32m<ipython-input-35-67795e9b6d36>\u001b[0m in \u001b[0;36m<module>\u001b[0;34m()\u001b[0m\n\u001b[0;32m----> 1\u001b[0;31m \u001b[0mprint\u001b[0m\u001b[0;34m(\u001b[0m\u001b[0mloopval\u001b[0m\u001b[0;34m)\u001b[0m \u001b[0;31m# Now where are we? what will this print? (Trick question)\u001b[0m\u001b[0;34m\u001b[0m\u001b[0;34m\u001b[0m\u001b[0m\n\u001b[0m",
            "\u001b[0;31mNameError\u001b[0m: name 'loopval' is not defined"
          ]
        }
      ]
    },
    {
      "cell_type": "code",
      "metadata": {
        "id": "Ih58dU6NiH_s",
        "colab": {
          "base_uri": "https://localhost:8080/",
          "height": 34
        },
        "outputId": "ace8434d-ddba-439b-ad21-fcd8aa160ff2"
      },
      "source": [
        "function_block_with_loop()"
      ],
      "execution_count": null,
      "outputs": [
        {
          "output_type": "stream",
          "text": [
            "99\n"
          ],
          "name": "stdout"
        }
      ]
    },
    {
      "cell_type": "markdown",
      "metadata": {
        "id": "-ui9GkXdiWos"
      },
      "source": [
        "**Scoping is tricky**. Think about why things work the way they do above. It is not really possible to cover all the vagaries of scoping in a class like this. Keep your code simply structured, keep an eye on your nested blocks and indentation, and be willing to poke and prod at variables at various places in your code to further understand what is going on.\n",
        "\n",
        "One more thing before we nest a conditional in a loop. Consider the function above again. Note that not only does the loop \"see\" what is in blocks 5-8. Also, within this scope is **nested scope that has been previously evaluated.**\n",
        "\n",
        "E.g.:"
      ]
    },
    {
      "cell_type": "code",
      "metadata": {
        "id": "dcQo8LQ8jDGX"
      },
      "source": [
        "def function_block_also_with_loop():\n",
        "    \"\"\"See how the value of total is usable within the scope of the loop. This seems\n",
        "    obvious at a glance, but it is important to understand these things explicitly\n",
        "    and to understand the scope of whatever block you are operating within.\n",
        "\n",
        "    Also, there is a mistake in this code that needs to be fixed. I see this\n",
        "    mistake a LOT! Be sure you understand what is happening here!!!\n",
        "    \"\"\"\n",
        "    total = 0\n",
        "    for i in range(100):\n",
        "        total += i\n",
        "        return total # why is the return statement here and not"
      ],
      "execution_count": null,
      "outputs": []
    },
    {
      "cell_type": "code",
      "metadata": {
        "id": "20yayLZIj1A_",
        "colab": {
          "base_uri": "https://localhost:8080/",
          "height": 182
        },
        "outputId": "b1807c40-68f3-4757-c2a7-ac02153254e3"
      },
      "source": [
        "# But recall!!:\n",
        "total"
      ],
      "execution_count": null,
      "outputs": [
        {
          "output_type": "error",
          "ename": "NameError",
          "evalue": "ignored",
          "traceback": [
            "\u001b[0;31m---------------------------------------------------------------------------\u001b[0m",
            "\u001b[0;31mNameError\u001b[0m                                 Traceback (most recent call last)",
            "\u001b[0;32m<ipython-input-42-303396ca5fb9>\u001b[0m in \u001b[0;36m<module>\u001b[0;34m()\u001b[0m\n\u001b[1;32m      1\u001b[0m \u001b[0;31m# But recall!!:\u001b[0m\u001b[0;34m\u001b[0m\u001b[0;34m\u001b[0m\u001b[0;34m\u001b[0m\u001b[0m\n\u001b[0;32m----> 2\u001b[0;31m \u001b[0mtotal\u001b[0m\u001b[0;34m\u001b[0m\u001b[0;34m\u001b[0m\u001b[0m\n\u001b[0m",
            "\u001b[0;31mNameError\u001b[0m: name 'total' is not defined"
          ]
        }
      ]
    },
    {
      "cell_type": "code",
      "metadata": {
        "id": "v0yV_pMykNfI",
        "colab": {
          "base_uri": "https://localhost:8080/",
          "height": 34
        },
        "outputId": "e680d14a-20f1-4d23-8340-e92b9a4da45f"
      },
      "source": [
        "## We need to do this:\n",
        "total = function_block_also_with_loop() # this is a different total! We could call it Fred\n",
        "total # why is it zero? See the note in the comments about the mistake in the code"
      ],
      "execution_count": null,
      "outputs": [
        {
          "output_type": "execute_result",
          "data": {
            "text/plain": [
              "0"
            ]
          },
          "metadata": {
            "tags": []
          },
          "execution_count": 46
        }
      ]
    },
    {
      "cell_type": "markdown",
      "metadata": {
        "id": "Spi4gvXVkegX"
      },
      "source": [
        "### Finally: nesting an if-statement within a for-loop within a function\n",
        "\n",
        "If Python used curly-braces, I think you could all see the blocks much easier:\n",
        "\n",
        "```\n",
        "def fake_function() {\n",
        "    for i in range(100) {\n",
        "        if i % 10 == 0 {\n",
        "            print(i)\n",
        "        }\n",
        "    }\n",
        "}\n",
        "```\n",
        "\n",
        "Alas, Python does not. But, seeing the blocks in Python is just a matter of\n",
        "training yourself what to look for. Note how similar the above construct is to the real thing:\n",
        "\n",
        "```\n",
        "def real_function():\n",
        "    for i in range(100):\n",
        "        if i % 10 == 0:\n",
        "            print(i)\n",
        "```\n",
        "\n",
        "And now you can easily spot the problem with something like this:\n",
        "\n",
        "```\n",
        "def mistaken_function():\n",
        "    total = 0\n",
        "    for i in range(100):\n",
        "        if i % 10 == 0:\n",
        "            print(i)\n",
        "    total += 1 # !!!\n",
        "```\n",
        "\n",
        "You should see by now that this is the blocking equivalent of:\n",
        "\n",
        "```\n",
        "def mistaken_function() {\n",
        "    total = 0\n",
        "    for i in range(100) {\n",
        "        if i % 10 == 0 {\n",
        "            print(i)\n",
        "        }\n",
        "    }   # bad news ... this is the end of the for-loop block     \n",
        "    total += 1 # !!!\n",
        "}\n",
        "```"
      ]
    }
  ]
}