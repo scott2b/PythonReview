{
  "nbformat": 4,
  "nbformat_minor": 0,
  "metadata": {
    "colab": {
      "provenance": []
    },
    "kernelspec": {
      "name": "python3",
      "display_name": "Python 3"
    }
  },
  "cells": [
    {
      "cell_type": "markdown",
      "source": [
        "[![Open in Colab](https://colab.research.google.com/assets/colab-badge.svg)](https://colab.research.google.com/github/scott2b/PythonReview/blob/main/notebooks/Python.05.Lists.ipynb)"
      ],
      "metadata": {
        "id": "2honW19_c9cU"
      }
    },
    {
      "cell_type": "markdown",
      "source": [
        "## Lists in Python"
      ],
      "metadata": {
        "id": "hkucI_Jnc4gS"
      }
    },
    {
      "cell_type": "markdown",
      "metadata": {
        "id": "3bRVc1835-v3"
      },
      "source": [
        "## Lists\n",
        "\n",
        "Lists are ordered, comma-delimited sequences denoted by square brackets. Lists may contain objects or values of any type. Here are some examples of lists:\n",
        "\n",
        "```\n",
        "numbers_list = [1, 2, 3, 4, 5]\n",
        "floats_list = [1.0, 2.0, 3.0, 4.0, 5.0]\n",
        "strings_list = ['cow', 'chicken', 'goat', 'horse']\n",
        "mixed_list = [3, 1.0, 'cow', 2, 'chicken', 3.0]\n",
        "```\n",
        "\n",
        "Lists can contain the same item multiple times:\n",
        "\n",
        "```\n",
        "repetitive_list = [1, 2, 1, 1, 2, 3, 2, 3, 1, 3, 3]\n",
        "```\n",
        "\n"
      ]
    },
    {
      "cell_type": "markdown",
      "metadata": {
        "id": "1Oapf9gtAi7F"
      },
      "source": [
        "---\n",
        "### 🔨 **Try it!**\n",
        "\n",
        "> In the code cell below, try building and printing some lists of various data types. Assign your lists to variables so you can use them later!"
      ]
    },
    {
      "cell_type": "code",
      "metadata": {
        "id": "WIZlMYZVBdey"
      },
      "source": [
        "# make your lists here"
      ],
      "execution_count": null,
      "outputs": []
    },
    {
      "cell_type": "markdown",
      "metadata": {
        "id": "iM5L4Sr0BfvP"
      },
      "source": [
        "---"
      ]
    },
    {
      "cell_type": "markdown",
      "metadata": {
        "id": "bctsWWgCAeId"
      },
      "source": [
        "### Sorting lists\n",
        "\n",
        "Lists can be sorted and reverse sorted. Let's see this in action:"
      ]
    },
    {
      "cell_type": "code",
      "metadata": {
        "id": "DSmhB2un7RR5",
        "colab": {
          "base_uri": "https://localhost:8080/"
        },
        "outputId": "de4c8469-aa28-4fa0-b318-7a5acee91d10"
      },
      "source": [
        "repetitive_list = [1, 2, 1, 1, 2, 3, 2, 3, 1, 3, 3]\n",
        "sorted_list = sorted(repetitive_list)\n",
        "reverse_sorted_list = sorted(repetitive_list, reverse=True)\n",
        "print(sorted_list)\n",
        "print(reverse_sorted_list)"
      ],
      "execution_count": null,
      "outputs": [
        {
          "output_type": "stream",
          "name": "stdout",
          "text": [
            "[1, 1, 1, 1, 2, 2, 2, 3, 3, 3, 3]\n",
            "[3, 3, 3, 3, 2, 2, 2, 1, 1, 1, 1]\n"
          ]
        }
      ]
    },
    {
      "cell_type": "markdown",
      "metadata": {
        "id": "Ijnx3hI37ylk"
      },
      "source": [
        "Note that the `sorted` function is a Python built-in function which takes `reverse` as an optional parameter.\n",
        "\n",
        "The `sorted` function returns a new, sorted copy of the list. The original list is intact as you can see here:"
      ]
    },
    {
      "cell_type": "code",
      "metadata": {
        "id": "vvcURjj67a5q",
        "colab": {
          "base_uri": "https://localhost:8080/"
        },
        "outputId": "a09e6ff8-1bd6-4382-a9bd-0e0e0e35498a"
      },
      "source": [
        "repetitive_list"
      ],
      "execution_count": null,
      "outputs": [
        {
          "output_type": "execute_result",
          "data": {
            "text/plain": [
              "[1, 2, 1, 1, 2, 3, 2, 3, 1, 3, 3]"
            ]
          },
          "metadata": {},
          "execution_count": 3
        }
      ]
    },
    {
      "cell_type": "markdown",
      "metadata": {
        "id": "vA-pRnlQ8PRc"
      },
      "source": [
        "### Sorting with the `sort` method\n",
        "\n",
        "There is another way to sort a list, which is to use the `sort` method call directly on the list. Rather than returning a sorted copy of the list, `sort` will sort the orginal list in place:"
      ]
    },
    {
      "cell_type": "code",
      "metadata": {
        "id": "JP3-iJ8M8HEj",
        "colab": {
          "base_uri": "https://localhost:8080/"
        },
        "outputId": "311ef4ea-44a5-445f-fe9d-b3bd14468385"
      },
      "source": [
        "repetitive_list.sort()\n",
        "repetitive_list"
      ],
      "execution_count": null,
      "outputs": [
        {
          "output_type": "execute_result",
          "data": {
            "text/plain": [
              "[1, 1, 1, 1, 2, 2, 2, 3, 3, 3, 3]"
            ]
          },
          "metadata": {},
          "execution_count": 4
        }
      ]
    },
    {
      "cell_type": "markdown",
      "metadata": {
        "id": "6T2vDf0F8stw"
      },
      "source": [
        "The sort method also accepts a `reverse` parameter:"
      ]
    },
    {
      "cell_type": "code",
      "metadata": {
        "id": "md2OdNyV8rUE",
        "colab": {
          "base_uri": "https://localhost:8080/"
        },
        "outputId": "7790e7e1-8e7f-45dd-df68-1b9b81b58f30"
      },
      "source": [
        "repetitive_list.sort(reverse=True)\n",
        "repetitive_list"
      ],
      "execution_count": null,
      "outputs": [
        {
          "output_type": "execute_result",
          "data": {
            "text/plain": [
              "[3, 3, 3, 3, 2, 2, 2, 1, 1, 1, 1]"
            ]
          },
          "metadata": {},
          "execution_count": 5
        }
      ]
    },
    {
      "cell_type": "markdown",
      "metadata": {
        "id": "r0k5KoGD9F50"
      },
      "source": [
        "---\n",
        "### ⚠️ **Gotcha! sort vs. sorted**\n",
        "\n",
        "> `sort` is a method on the list object itself which operates directly on that list. It is important to remember that `sort` does not return a new object like the built-in function `sorted` does.\n",
        "\n",
        "> The mistake of mixing up these approaches is exemplified in the code below.\n",
        "\n",
        "---"
      ]
    },
    {
      "cell_type": "markdown",
      "metadata": {
        "id": "dE4_Zh0891Cy"
      },
      "source": [
        "What happens if we mix up these approaches?"
      ]
    },
    {
      "cell_type": "code",
      "metadata": {
        "id": "i2JuV3_R81FR"
      },
      "source": [
        "sorted_list = repetitive_list.sort()\n",
        "sorted_list"
      ],
      "execution_count": null,
      "outputs": []
    },
    {
      "cell_type": "markdown",
      "metadata": {
        "id": "G8J7zQlz-D34"
      },
      "source": [
        "Note that nothing is output for the above cell. We can make this more explicit by directly printing the sorted list:"
      ]
    },
    {
      "cell_type": "code",
      "metadata": {
        "id": "zd3wb6aY9-9I",
        "colab": {
          "base_uri": "https://localhost:8080/"
        },
        "outputId": "8c0c3dcf-e30a-4725-c8be-ed8c67181909"
      },
      "source": [
        "print(sorted_list)"
      ],
      "execution_count": null,
      "outputs": [
        {
          "output_type": "stream",
          "name": "stdout",
          "text": [
            "None\n"
          ]
        }
      ]
    },
    {
      "cell_type": "markdown",
      "metadata": {
        "id": "CvvgmwlD-SST"
      },
      "source": [
        "`sorted_list` is None, because the `sort` method does not return anything. However, the method still operated on the original list:"
      ]
    },
    {
      "cell_type": "code",
      "metadata": {
        "id": "J-QNBN3t-Cxp",
        "colab": {
          "base_uri": "https://localhost:8080/"
        },
        "outputId": "2308d5d0-ab9c-4ddc-a36b-8a012fb221d5"
      },
      "source": [
        "repetitive_list"
      ],
      "execution_count": null,
      "outputs": [
        {
          "output_type": "execute_result",
          "data": {
            "text/plain": [
              "[1, 1, 1, 1, 2, 2, 2, 3, 3, 3, 3]"
            ]
          },
          "metadata": {},
          "execution_count": 8
        }
      ]
    },
    {
      "cell_type": "markdown",
      "metadata": {
        "id": "qI9-qjmdBu0_"
      },
      "source": [
        "---\n",
        "### 🔨 **Try it!**\n",
        "\n",
        "> Using some of the variables you assigned to lists above, try sorting and printing your sorted lists. Try both the `sort` and `sorted` approaches, and try at least one reverse-sorted list."
      ]
    },
    {
      "cell_type": "code",
      "metadata": {
        "id": "o6b2-CsQB_3N"
      },
      "source": [
        "# sort and print your sorted lists here"
      ],
      "execution_count": null,
      "outputs": []
    },
    {
      "cell_type": "markdown",
      "metadata": {
        "id": "oxwKbVSzBuqC"
      },
      "source": [
        "---"
      ]
    },
    {
      "cell_type": "markdown",
      "metadata": {
        "id": "ZBaEb1r1CmEC"
      },
      "source": [
        "## Modifying lists\n",
        "\n",
        "Your lists won't always stay the same. You can modify a list in your code. We will look at several ways to manipulate lists. For now, consider the idea of a continuously growing list. There are a few ways to \"grow\" a list.\n",
        "\n",
        "### Append to a list\n",
        "\n",
        "You can append individual items to a list with the append method:"
      ]
    },
    {
      "cell_type": "code",
      "metadata": {
        "id": "C7pBu-4NDciv",
        "colab": {
          "base_uri": "https://localhost:8080/"
        },
        "outputId": "cdae51fa-4b88-437e-be2b-cee9d34dda48"
      },
      "source": [
        "mylist = [1,2,3]\n",
        "print(mylist)\n",
        "mylist.append(4)\n",
        "print(mylist)\n",
        "mylist.append(5)\n",
        "print(mylist)"
      ],
      "execution_count": null,
      "outputs": [
        {
          "output_type": "stream",
          "name": "stdout",
          "text": [
            "[1, 2, 3]\n",
            "[1, 2, 3, 4]\n",
            "[1, 2, 3, 4, 5]\n"
          ]
        }
      ]
    },
    {
      "cell_type": "markdown",
      "metadata": {
        "id": "EwYjqeakDtwQ"
      },
      "source": [
        "### \"Adding\" (ie. concatenating) lists\n",
        "\n",
        "Two or more lists can be concatenated together with the `+` operator. The result will be returned as a single list:"
      ]
    },
    {
      "cell_type": "code",
      "metadata": {
        "id": "TyCdlzQeDjaK",
        "colab": {
          "base_uri": "https://localhost:8080/"
        },
        "outputId": "f7825522-796e-4442-b89c-8b153e27e807"
      },
      "source": [
        "[1, 2, 3] + [4, 5, 6]"
      ],
      "execution_count": null,
      "outputs": [
        {
          "output_type": "execute_result",
          "data": {
            "text/plain": [
              "[1, 2, 3, 4, 5, 6]"
            ]
          },
          "metadata": {},
          "execution_count": 11
        }
      ]
    },
    {
      "cell_type": "markdown",
      "metadata": {
        "id": "zsHSuc8kEEkT"
      },
      "source": [
        "### Extending a list with another list\n",
        "\n",
        "An existing list can be extended with another list by using the `extend` method:"
      ]
    },
    {
      "cell_type": "code",
      "metadata": {
        "id": "UJa_NA8aD-J0",
        "colab": {
          "base_uri": "https://localhost:8080/"
        },
        "outputId": "5922ec48-23e0-4a59-ee3f-b389eaab84f0"
      },
      "source": [
        "mylist = [1, 2, 3]\n",
        "mylist.extend([4, 5, 6])\n",
        "mylist"
      ],
      "execution_count": null,
      "outputs": [
        {
          "output_type": "execute_result",
          "data": {
            "text/plain": [
              "[1, 2, 3, 4, 5, 6]"
            ]
          },
          "metadata": {},
          "execution_count": 12
        }
      ]
    },
    {
      "cell_type": "markdown",
      "metadata": {
        "id": "IbKMo2m-F5qU"
      },
      "source": [
        "---\n",
        "## Exercise\n",
        "\n",
        "Recall the Fibonacci problem. Suppose now that you want not just to print the latest item in the sequence, but to keep a list of the entire sequence you've built. Complete the code below that will build the Fibonacci sequence as a list that grows each time you run the second code cell:"
      ]
    },
    {
      "cell_type": "code",
      "metadata": {
        "id": "p6_Zc01MGff6"
      },
      "source": [
        "a = 1\n",
        "b = 1\n",
        "fibonacci = [a, b]"
      ],
      "execution_count": null,
      "outputs": []
    },
    {
      "cell_type": "code",
      "metadata": {
        "id": "kDV751SZGoCi"
      },
      "source": [
        "c = a + b\n",
        "a = b\n",
        "b = c\n",
        "# complete the code to grow the fibonacci sequence list"
      ],
      "execution_count": null,
      "outputs": []
    },
    {
      "cell_type": "code",
      "metadata": {
        "id": "MO_6ftNAG8bg",
        "colab": {
          "base_uri": "https://localhost:8080/"
        },
        "outputId": "a6c5b9e4-548f-474b-a6b9-8b2fe8951e58"
      },
      "source": [
        "# execute this cell to display the current state of the list\n",
        "fibonacci"
      ],
      "execution_count": null,
      "outputs": [
        {
          "output_type": "execute_result",
          "data": {
            "text/plain": [
              "[1, 1]"
            ]
          },
          "metadata": {},
          "execution_count": 15
        }
      ]
    }
  ]
}