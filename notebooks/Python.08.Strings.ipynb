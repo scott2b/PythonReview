{
  "cells": [
    {
      "cell_type": "markdown",
      "source": [
        "[![Open in Colab](https://colab.research.google.com/assets/colab-badge.svg)](https://colab.research.google.com/github/scott2b/PythonReview/blob/main/notebooks/Python.08.Strings.ipynb)"
      ],
      "metadata": {
        "id": "BgswqX42LLAC"
      }
    },
    {
      "cell_type": "markdown",
      "source": [
        "## Python string handling, including parsing JSON"
      ],
      "metadata": {
        "id": "LYXh11ghMEJw"
      }
    },
    {
      "cell_type": "markdown",
      "metadata": {
        "id": "TnxajZOOkFJD"
      },
      "source": [
        "## parsing json data"
      ]
    },
    {
      "cell_type": "code",
      "execution_count": 1,
      "metadata": {
        "colab": {
          "base_uri": "https://localhost:8080/",
          "height": 35
        },
        "id": "3uiEGexlkFJF",
        "outputId": "7c09559e-22a8-4601-dac1-f53b3d409fba"
      },
      "outputs": [
        {
          "output_type": "execute_result",
          "data": {
            "text/plain": [
              "'{\"Nike\": \"Beaverton\", \"Adidas\": \"Herzogenaurach\", \"Reebok\": \"Boston\"}'"
            ],
            "application/vnd.google.colaboratory.intrinsic+json": {
              "type": "string"
            }
          },
          "metadata": {},
          "execution_count": 1
        }
      ],
      "source": [
        "import json\n",
        "\n",
        "# This is a dictionary\n",
        "brand_hq = {\n",
        "    'Nike': 'Beaverton',\n",
        "    'Adidas': 'Herzogenaurach',\n",
        "    'Reebok': 'Boston'\n",
        "}\n",
        "\n",
        "# this creates a json string\n",
        "brand_hq_json = json.dumps(brand_hq)\n",
        "brand_hq_json"
      ]
    },
    {
      "cell_type": "markdown",
      "metadata": {
        "id": "IUekLZeOkFJX"
      },
      "source": [
        "Note the quotes (') around the data. It's a string, not a dictionary now:"
      ]
    },
    {
      "cell_type": "code",
      "execution_count": 2,
      "metadata": {
        "colab": {
          "base_uri": "https://localhost:8080/",
          "height": 35
        },
        "id": "tz1vpg5kkFJZ",
        "outputId": "8306247b-efd0-4411-9d67-e3314194eeff"
      },
      "outputs": [
        {
          "output_type": "execute_result",
          "data": {
            "text/plain": [
              "'Beaverton'"
            ],
            "application/vnd.google.colaboratory.intrinsic+json": {
              "type": "string"
            }
          },
          "metadata": {},
          "execution_count": 2
        }
      ],
      "source": [
        "brand_hq['Nike'] # this works"
      ]
    },
    {
      "cell_type": "code",
      "execution_count": 3,
      "metadata": {
        "colab": {
          "base_uri": "https://localhost:8080/",
          "height": 144
        },
        "id": "_kzdUkzkkFJl",
        "outputId": "545883ab-daab-45e8-c3d2-e5976086f19d"
      },
      "outputs": [
        {
          "output_type": "error",
          "ename": "TypeError",
          "evalue": "string indices must be integers",
          "traceback": [
            "\u001b[0;31m---------------------------------------------------------------------------\u001b[0m",
            "\u001b[0;31mTypeError\u001b[0m                                 Traceback (most recent call last)",
            "\u001b[0;32m<ipython-input-3-5a118f0b8b5c>\u001b[0m in \u001b[0;36m<cell line: 1>\u001b[0;34m()\u001b[0m\n\u001b[0;32m----> 1\u001b[0;31m \u001b[0mbrand_hq_json\u001b[0m\u001b[0;34m[\u001b[0m\u001b[0;34m'Nike'\u001b[0m\u001b[0;34m]\u001b[0m \u001b[0;31m# but this doesn't make sense\u001b[0m\u001b[0;34m\u001b[0m\u001b[0;34m\u001b[0m\u001b[0m\n\u001b[0m",
            "\u001b[0;31mTypeError\u001b[0m: string indices must be integers"
          ]
        }
      ],
      "source": [
        "brand_hq_json['Nike'] # but this doesn't make sense"
      ]
    },
    {
      "cell_type": "markdown",
      "metadata": {
        "id": "PgXd7UT2kFJu"
      },
      "source": [
        "This string then can be written out to a file, which would be a file in the json standard data format:\n",
        "\n",
        "```\n",
        "with open('brandhq.json', 'w') as outfile:\n",
        "    outfile.write(brand_hq_json) # just like writing any other string to a file\n",
        "```"
      ]
    },
    {
      "cell_type": "markdown",
      "metadata": {
        "id": "sFdlUTkikFJw"
      },
      "source": [
        "It is not necessary to encode the data to a json string before writing it out. The json module provides tools for direct encoding/parsing to and from a file. Starting again with our data dictionary instead of the json string:\n",
        "\n",
        "```\n",
        "with open('brandhq.json', 'w') as outfile:\n",
        "    json.dump(outfile, brand_hq) # note the method is dump, not dumps (which stands for dump-string)\n",
        "```"
      ]
    },
    {
      "cell_type": "markdown",
      "metadata": {
        "id": "hNRfX0UokFJy"
      },
      "source": [
        "We can also go the other way. Given a json string, we can parse it into a dictionary:"
      ]
    },
    {
      "cell_type": "code",
      "execution_count": 4,
      "metadata": {
        "colab": {
          "base_uri": "https://localhost:8080/"
        },
        "id": "qsoAPsEZkFJz",
        "outputId": "1ded53a9-f58e-408a-e706-346e2e4109b9"
      },
      "outputs": [
        {
          "output_type": "execute_result",
          "data": {
            "text/plain": [
              "{'Nike': 'Beaverton', 'Adidas': 'Herzogenaurach', 'Reebok': 'Boston'}"
            ]
          },
          "metadata": {},
          "execution_count": 4
        }
      ],
      "source": [
        "data = json.loads(brand_hq_json)\n",
        "data"
      ]
    },
    {
      "cell_type": "markdown",
      "metadata": {
        "id": "9FhBF9p-kFJ7"
      },
      "source": [
        "Note the absence of quotes around this data. This is a dictionary, not a string:"
      ]
    },
    {
      "cell_type": "code",
      "execution_count": 5,
      "metadata": {
        "colab": {
          "base_uri": "https://localhost:8080/",
          "height": 35
        },
        "id": "loJE2RhskFJ_",
        "outputId": "2ddc6ef4-a4cb-4d16-f375-902a0679305c"
      },
      "outputs": [
        {
          "output_type": "execute_result",
          "data": {
            "text/plain": [
              "'Beaverton'"
            ],
            "application/vnd.google.colaboratory.intrinsic+json": {
              "type": "string"
            }
          },
          "metadata": {},
          "execution_count": 5
        }
      ],
      "source": [
        "data['Nike']"
      ]
    },
    {
      "cell_type": "markdown",
      "metadata": {
        "id": "3FWsaOrJkFKI"
      },
      "source": [
        "There is also a `load` method for working directly with a file:\n",
        "\n",
        "```\n",
        "with open('brandhq.json') as infile:\n",
        "    data = json.load(infile)\n",
        "```"
      ]
    },
    {
      "cell_type": "markdown",
      "metadata": {
        "id": "y8x9xTO-kFKJ"
      },
      "source": [
        "Let's parse some Twitter data:"
      ]
    },
    {
      "cell_type": "code",
      "execution_count": 6,
      "metadata": {
        "colab": {
          "base_uri": "https://localhost:8080/"
        },
        "id": "uNuzJs2_ecbf",
        "outputId": "33ca0884-e7ca-49d4-d128-50e46379deca"
      },
      "outputs": [
        {
          "output_type": "stream",
          "name": "stdout",
          "text": [
            "Mounted at /content/drive\n"
          ]
        }
      ],
      "source": [
        "import json\n",
        "from pathlib import Path\n",
        "\n",
        "try:\n",
        "    from google.colab import drive\n",
        "    drive.mount('/content/drive')\n",
        "    root = Path('drive/My Drive/')\n",
        "except ModuleNotFoundError:\n",
        "    root = Path('../..')\n",
        "\n",
        "with open(root / 'MyProject/twitter_apiresponse_example.json') as infile:\n",
        "    data = json.load(infile)[0] # we just want the first tweet"
      ]
    },
    {
      "cell_type": "code",
      "execution_count": 7,
      "metadata": {
        "colab": {
          "base_uri": "https://localhost:8080/"
        },
        "id": "0ASsiY-akFKR",
        "outputId": "b3d57934-1057-42b3-de1c-53fd58a46ea3"
      },
      "outputs": [
        {
          "output_type": "execute_result",
          "data": {
            "text/plain": [
              "{'created_at': 'Thu Apr 06 15:28:43 +0000 2017',\n",
              " 'id': 850007368138018817,\n",
              " 'id_str': '850007368138018817',\n",
              " 'text': 'RT @TwitterDev: 1/ Today we’re sharing our vision for the future of the Twitter API platform!nhttps://t.co/XweGngmxlP',\n",
              " 'truncated': False,\n",
              " 'entities': {'hashtags': [],\n",
              "  'symbols': [],\n",
              "  'user_mentions': [{'screen_name': 'TwitterDev',\n",
              "    'name': 'TwitterDev',\n",
              "    'id': 2244994945,\n",
              "    'id_str': '2244994945',\n",
              "    'indices': [3, 14]}],\n",
              "  'urls': [{'url': 'https://t.co/XweGngmxlP',\n",
              "    'expanded_url': 'https://cards.twitter.com/cards/18ce53wgo4h/3xo1c',\n",
              "    'display_url': 'cards.twitter.com/cards/18ce53wg…',\n",
              "    'indices': [94, 117]}]},\n",
              " 'source': '<a href=\"http://twitter.com\" rel=\"nofollow\">Twitter Web Client</a>',\n",
              " 'in_reply_to_status_id': None,\n",
              " 'in_reply_to_status_id_str': None,\n",
              " 'in_reply_to_user_id': None,\n",
              " 'in_reply_to_user_id_str': None,\n",
              " 'in_reply_to_screen_name': None,\n",
              " 'user': {'id': 6253282,\n",
              "  'id_str': '6253282',\n",
              "  'name': 'Twitter API',\n",
              "  'screen_name': 'twitterapi',\n",
              "  'location': 'San Francisco, CA',\n",
              "  'description': \"The Real Twitter API. I tweet about API changes, service issues and happily answer questions about Twitter and our API. Don't get an answer? It's on my website.\",\n",
              "  'url': 'http://t.co/78pYTvWfJd',\n",
              "  'entities': {'url': {'urls': [{'url': 'http://t.co/78pYTvWfJd',\n",
              "      'expanded_url': 'https://dev.twitter.com',\n",
              "      'display_url': 'dev.twitter.com',\n",
              "      'indices': [0, 22]}]},\n",
              "   'description': {'urls': []}},\n",
              "  'protected': False,\n",
              "  'followers_count': 6172353,\n",
              "  'friends_count': 46,\n",
              "  'listed_count': 13091,\n",
              "  'created_at': 'Wed May 23 06:01:13 +0000 2007',\n",
              "  'favourites_count': 26,\n",
              "  'utc_offset': -25200,\n",
              "  'time_zone': 'Pacific Time (US & Canada)',\n",
              "  'geo_enabled': True,\n",
              "  'verified': True,\n",
              "  'statuses_count': 3583,\n",
              "  'lang': 'en',\n",
              "  'contributors_enabled': False,\n",
              "  'is_translator': False,\n",
              "  'is_translation_enabled': False,\n",
              "  'profile_background_color': 'C0DEED',\n",
              "  'profile_background_image_url': 'http://pbs.twimg.com/profile_background_images/656927849/miyt9dpjz77sc0w3d4vj.png',\n",
              "  'profile_background_image_url_https': 'https://pbs.twimg.com/profile_background_images/656927849/miyt9dpjz77sc0w3d4vj.png',\n",
              "  'profile_background_tile': True,\n",
              "  'profile_image_url': 'http://pbs.twimg.com/profile_images/2284174872/7df3h38zabcvjylnyfe3_normal.png',\n",
              "  'profile_image_url_https': 'https://pbs.twimg.com/profile_images/2284174872/7df3h38zabcvjylnyfe3_normal.png',\n",
              "  'profile_banner_url': 'https://pbs.twimg.com/profile_banners/6253282/1431474710',\n",
              "  'profile_link_color': '0084B4',\n",
              "  'profile_sidebar_border_color': 'C0DEED',\n",
              "  'profile_sidebar_fill_color': 'DDEEF6',\n",
              "  'profile_text_color': '333333',\n",
              "  'profile_use_background_image': True,\n",
              "  'has_extended_profile': False,\n",
              "  'default_profile': False,\n",
              "  'default_profile_image': False,\n",
              "  'following': True,\n",
              "  'follow_request_sent': False,\n",
              "  'notifications': False,\n",
              "  'translator_type': 'regular'},\n",
              " 'geo': None,\n",
              " 'coordinates': None,\n",
              " 'place': None,\n",
              " 'contributors': None,\n",
              " 'retweeted_status': {'created_at': 'Thu Apr 06 15:24:15 +0000 2017',\n",
              "  'id': 850006245121695744,\n",
              "  'id_str': '850006245121695744',\n",
              "  'text': '1/ Today we’re sharing our vision for the future of the Twitter API platform!nhttps://t.co/XweGngmxlP',\n",
              "  'truncated': False,\n",
              "  'entities': {'hashtags': [],\n",
              "   'symbols': [],\n",
              "   'user_mentions': [],\n",
              "   'urls': [{'url': 'https://t.co/XweGngmxlP',\n",
              "     'expanded_url': 'https://cards.twitter.com/cards/18ce53wgo4h/3xo1c',\n",
              "     'display_url': 'cards.twitter.com/cards/18ce53wg…',\n",
              "     'indices': [78, 101]}]},\n",
              "  'source': '<a href=\"http://twitter.com\" rel=\"nofollow\">Twitter Web Client</a>',\n",
              "  'in_reply_to_status_id': None,\n",
              "  'in_reply_to_status_id_str': None,\n",
              "  'in_reply_to_user_id': None,\n",
              "  'in_reply_to_user_id_str': None,\n",
              "  'in_reply_to_screen_name': None,\n",
              "  'user': {'id': 2244994945,\n",
              "   'id_str': '2244994945',\n",
              "   'name': 'TwitterDev',\n",
              "   'screen_name': 'TwitterDev',\n",
              "   'location': 'Internet',\n",
              "   'description': 'Your official source for Twitter Platform news, updates & events. Need technical help? Visit https://t.co/mGHnxZCxkt ⌨️  #TapIntoTwitter',\n",
              "   'url': 'https://t.co/66w26cua1O',\n",
              "   'entities': {'url': {'urls': [{'url': 'https://t.co/66w26cua1O',\n",
              "       'expanded_url': 'https://dev.twitter.com/',\n",
              "       'display_url': 'dev.twitter.com',\n",
              "       'indices': [0, 23]}]},\n",
              "    'description': {'urls': [{'url': 'https://t.co/mGHnxZCxkt',\n",
              "       'expanded_url': 'https://twittercommunity.com/',\n",
              "       'display_url': 'twittercommunity.com',\n",
              "       'indices': [93, 116]}]}},\n",
              "   'protected': False,\n",
              "   'followers_count': 465425,\n",
              "   'friends_count': 1523,\n",
              "   'listed_count': 1168,\n",
              "   'created_at': 'Sat Dec 14 04:35:55 +0000 2013',\n",
              "   'favourites_count': 2098,\n",
              "   'utc_offset': -25200,\n",
              "   'time_zone': 'Pacific Time (US & Canada)',\n",
              "   'geo_enabled': True,\n",
              "   'verified': True,\n",
              "   'statuses_count': 3031,\n",
              "   'lang': 'en',\n",
              "   'contributors_enabled': False,\n",
              "   'is_translator': False,\n",
              "   'is_translation_enabled': False,\n",
              "   'profile_background_color': 'FFFFFF',\n",
              "   'profile_background_image_url': 'http://abs.twimg.com/images/themes/theme1/bg.png',\n",
              "   'profile_background_image_url_https': 'https://abs.twimg.com/images/themes/theme1/bg.png',\n",
              "   'profile_background_tile': False,\n",
              "   'profile_image_url': 'http://pbs.twimg.com/profile_images/530814764687949824/npQQVkq8_normal.png',\n",
              "   'profile_image_url_https': 'https://pbs.twimg.com/profile_images/530814764687949824/npQQVkq8_normal.png',\n",
              "   'profile_banner_url': 'https://pbs.twimg.com/profile_banners/2244994945/1396995246',\n",
              "   'profile_link_color': '0084B4',\n",
              "   'profile_sidebar_border_color': 'FFFFFF',\n",
              "   'profile_sidebar_fill_color': 'DDEEF6',\n",
              "   'profile_text_color': '333333',\n",
              "   'profile_use_background_image': False,\n",
              "   'has_extended_profile': False,\n",
              "   'default_profile': False,\n",
              "   'default_profile_image': False,\n",
              "   'following': True,\n",
              "   'follow_request_sent': False,\n",
              "   'notifications': False,\n",
              "   'translator_type': 'regular'},\n",
              "  'geo': None,\n",
              "  'coordinates': None,\n",
              "  'place': None,\n",
              "  'contributors': None,\n",
              "  'is_quote_status': False,\n",
              "  'retweet_count': 284,\n",
              "  'favorite_count': 399,\n",
              "  'favorited': False,\n",
              "  'retweeted': False,\n",
              "  'possibly_sensitive': False,\n",
              "  'lang': 'en'},\n",
              " 'is_quote_status': False,\n",
              " 'retweet_count': 284,\n",
              " 'favorite_count': 0,\n",
              " 'favorited': False,\n",
              " 'retweeted': False,\n",
              " 'possibly_sensitive': False,\n",
              " 'lang': 'en'}"
            ]
          },
          "metadata": {},
          "execution_count": 7
        }
      ],
      "source": [
        "data"
      ]
    },
    {
      "cell_type": "markdown",
      "metadata": {
        "id": "imnsv_LnkFKY"
      },
      "source": [
        "## Advanced string usage"
      ]
    },
    {
      "cell_type": "markdown",
      "metadata": {
        "id": "PY4zwZjakFKZ"
      },
      "source": [
        "Strings are iterables and can be treated as lists:"
      ]
    },
    {
      "cell_type": "code",
      "execution_count": 8,
      "metadata": {
        "colab": {
          "base_uri": "https://localhost:8080/"
        },
        "id": "JnXFpVFFkFKb",
        "outputId": "4ae2fb6c-f881-4b27-a128-f8d83ccab463"
      },
      "outputs": [
        {
          "output_type": "stream",
          "name": "stdout",
          "text": [
            "a\n",
            "b\n",
            "c\n",
            "d\n"
          ]
        }
      ],
      "source": [
        "for letter in 'abcd':\n",
        "    print(letter)"
      ]
    },
    {
      "cell_type": "code",
      "execution_count": 9,
      "metadata": {
        "colab": {
          "base_uri": "https://localhost:8080/",
          "height": 35
        },
        "id": "u16zXs49kFKj",
        "outputId": "d672e2ca-45bb-449c-857e-dd1adf754bf0"
      },
      "outputs": [
        {
          "output_type": "execute_result",
          "data": {
            "text/plain": [
              "'ab'"
            ],
            "application/vnd.google.colaboratory.intrinsic+json": {
              "type": "string"
            }
          },
          "metadata": {},
          "execution_count": 9
        }
      ],
      "source": [
        "'abcd'[:2]"
      ]
    },
    {
      "cell_type": "code",
      "execution_count": 10,
      "metadata": {
        "colab": {
          "base_uri": "https://localhost:8080/",
          "height": 35
        },
        "id": "w2cBkrc6kFKq",
        "outputId": "11e03861-b25c-4e9d-abbd-db0534c7e869"
      },
      "outputs": [
        {
          "output_type": "execute_result",
          "data": {
            "text/plain": [
              "'cd'"
            ],
            "application/vnd.google.colaboratory.intrinsic+json": {
              "type": "string"
            }
          },
          "metadata": {},
          "execution_count": 10
        }
      ],
      "source": [
        "'abcd'[2:]"
      ]
    },
    {
      "cell_type": "code",
      "execution_count": 11,
      "metadata": {
        "colab": {
          "base_uri": "https://localhost:8080/",
          "height": 35
        },
        "id": "DedyMKg2kFKz",
        "outputId": "f3c05284-22be-4406-8fe9-363a51680d33"
      },
      "outputs": [
        {
          "output_type": "execute_result",
          "data": {
            "text/plain": [
              "'a'"
            ],
            "application/vnd.google.colaboratory.intrinsic+json": {
              "type": "string"
            }
          },
          "metadata": {},
          "execution_count": 11
        }
      ],
      "source": [
        "'abcd'[0]"
      ]
    },
    {
      "cell_type": "code",
      "execution_count": 12,
      "metadata": {
        "colab": {
          "base_uri": "https://localhost:8080/",
          "height": 35
        },
        "id": "2TvyM9oOkFK_",
        "outputId": "45a401a3-2091-4234-8ddf-cd86fa1d7917"
      },
      "outputs": [
        {
          "output_type": "execute_result",
          "data": {
            "text/plain": [
              "'d'"
            ],
            "application/vnd.google.colaboratory.intrinsic+json": {
              "type": "string"
            }
          },
          "metadata": {},
          "execution_count": 12
        }
      ],
      "source": [
        "'abcd'[-1]"
      ]
    },
    {
      "cell_type": "code",
      "execution_count": 13,
      "metadata": {
        "colab": {
          "base_uri": "https://localhost:8080/"
        },
        "id": "VceIY_rFkFLH",
        "outputId": "d557ccc1-cbbb-47f7-eb71-e2135b6e39d3"
      },
      "outputs": [
        {
          "output_type": "execute_result",
          "data": {
            "text/plain": [
              "['a', 'b', 'c', 'd']"
            ]
          },
          "metadata": {},
          "execution_count": 13
        }
      ],
      "source": [
        "sorted('cbda')"
      ]
    },
    {
      "cell_type": "markdown",
      "metadata": {
        "id": "_uxRLPwlkFLP"
      },
      "source": [
        "How would you put this back together as a string?"
      ]
    },
    {
      "cell_type": "markdown",
      "metadata": {
        "id": "nnUHLTO2kFLY"
      },
      "source": [
        "There are also several methods specific to string handling:"
      ]
    },
    {
      "cell_type": "code",
      "execution_count": 14,
      "metadata": {
        "colab": {
          "base_uri": "https://localhost:8080/",
          "height": 35
        },
        "id": "Jp1sGVgnkFLa",
        "outputId": "2177f34d-f432-4956-99f4-ff7b21a36374"
      },
      "outputs": [
        {
          "output_type": "execute_result",
          "data": {
            "text/plain": [
              "'abcd'"
            ],
            "application/vnd.google.colaboratory.intrinsic+json": {
              "type": "string"
            }
          },
          "metadata": {},
          "execution_count": 14
        }
      ],
      "source": [
        "'aBcD'.lower()"
      ]
    },
    {
      "cell_type": "code",
      "execution_count": 15,
      "metadata": {
        "colab": {
          "base_uri": "https://localhost:8080/",
          "height": 35
        },
        "id": "oaQn_EkpkFLe",
        "outputId": "b39bdd28-2314-4895-f0b1-61222513cca8"
      },
      "outputs": [
        {
          "output_type": "execute_result",
          "data": {
            "text/plain": [
              "'ABCD'"
            ],
            "application/vnd.google.colaboratory.intrinsic+json": {
              "type": "string"
            }
          },
          "metadata": {},
          "execution_count": 15
        }
      ],
      "source": [
        "'aBcD'.upper()"
      ]
    },
    {
      "cell_type": "code",
      "execution_count": 16,
      "metadata": {
        "colab": {
          "base_uri": "https://localhost:8080/"
        },
        "id": "yE-94Vc-kFLm",
        "outputId": "d061633d-2be5-4c2a-a604-2790cb86c687"
      },
      "outputs": [
        {
          "output_type": "execute_result",
          "data": {
            "text/plain": [
              "True"
            ]
          },
          "metadata": {},
          "execution_count": 16
        }
      ],
      "source": [
        "'abcd'.startswith('a')"
      ]
    },
    {
      "cell_type": "code",
      "execution_count": 17,
      "metadata": {
        "colab": {
          "base_uri": "https://localhost:8080/"
        },
        "id": "hCPL8vSdkFLr",
        "outputId": "dbeff4fd-40e1-4a3c-df41-2f3ade58b48f"
      },
      "outputs": [
        {
          "output_type": "execute_result",
          "data": {
            "text/plain": [
              "False"
            ]
          },
          "metadata": {},
          "execution_count": 17
        }
      ],
      "source": [
        "'abcd'.endswith('b')"
      ]
    }
  ],
  "metadata": {
    "colab": {
      "provenance": []
    },
    "kernelspec": {
      "display_name": "Python 3",
      "language": "python",
      "name": "python3"
    },
    "language_info": {
      "codemirror_mode": {
        "name": "ipython",
        "version": 3
      },
      "file_extension": ".py",
      "mimetype": "text/x-python",
      "name": "python",
      "nbconvert_exporter": "python",
      "pygments_lexer": "ipython3",
      "version": "3.8.3"
    }
  },
  "nbformat": 4,
  "nbformat_minor": 0
}