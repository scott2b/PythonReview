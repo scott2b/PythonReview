{
  "cells": [
    {
      "cell_type": "markdown",
      "source": [
        "[![Open in Colab](https://colab.research.google.com/assets/colab-badge.svg)](https://colab.research.google.com/github/scott2b/PythonReview/blob/main/notebooks/Python.03.3rdPartyLibraries.ipynb)"
      ],
      "metadata": {
        "id": "su_glcIobz5s"
      }
    },
    {
      "cell_type": "markdown",
      "metadata": {
        "id": "lAAv2AQmC2cC"
      },
      "source": [
        "# 3rd party packages in Python\n",
        "\n",
        "What do you do when the standard library doesn't have what you need? There's a package for that. Python's central repository of 3rd party library packages is called PyPi (the Python Package Index). It has over 1/4 million packages of various utility.\n",
        "\n",
        "Before you write code that seems like it should already be written, Google: \"python <whatever>\". Chances are someone has already tackled the same problem you are having now."
      ]
    },
    {
      "cell_type": "markdown",
      "metadata": {
        "id": "XKMKhVDOJKsl"
      },
      "source": [
        "## Packages. What are they good for?\n"
      ]
    },
    {
      "cell_type": "markdown",
      "metadata": {
        "id": "slihIQ_3Ds6j"
      },
      "source": [
        "To mention a few things\n",
        "\n",
        " * plotting / charting\n",
        " * machine learning\n",
        " * natural language processing\n",
        " * web application frameworks\n",
        " * working with various services, web APIs, etc.\n",
        " * template languages\n",
        " * data parsers or various codecs\n",
        " * database drivers\n",
        " * better handling of x, where x might be:\n",
        "   - date/time processing\n",
        "   - statistics / scientific calculation\n",
        "   - web resource fetching\n",
        "\n",
        "The list goes on. This is an applied course, so we will use a **lot** of 3rd party libraries! You should get used to reading library documentation, and even sometimes looking at the code!"
      ]
    },
    {
      "cell_type": "markdown",
      "metadata": {
        "id": "W4ltHHncDpUf"
      },
      "source": [
        "## Installing packages"
      ]
    },
    {
      "cell_type": "markdown",
      "metadata": {
        "id": "cJlTMQX1Fdgg"
      },
      "source": [
        "`pip` is the go-to installer for Python packages. In your local environment, you would simply run `pip install requests`, e.g. to install the requests library.\n",
        "\n",
        "To install packages into the Colab runtime environment, we need to call out to the shell to execute pip. We do this with a bang:\n",
        "\n",
        "```\n",
        "!pip install requests\n",
        "```\n",
        "\n",
        "Note, however, that Colab has a lot of packages already installed. E.g.:"
      ]
    },
    {
      "cell_type": "code",
      "execution_count": null,
      "metadata": {
        "colab": {
          "base_uri": "https://localhost:8080/",
          "height": 104
        },
        "id": "1TX8u_HjAyeL",
        "outputId": "ff9e5fe1-8091-4a5c-9f98-d1c28f3b43c2"
      },
      "outputs": [
        {
          "name": "stdout",
          "output_type": "stream",
          "text": [
            "Requirement already satisfied: requests in /usr/local/lib/python3.6/dist-packages (2.23.0)\n",
            "Requirement already satisfied: chardet<4,>=3.0.2 in /usr/local/lib/python3.6/dist-packages (from requests) (3.0.4)\n",
            "Requirement already satisfied: idna<3,>=2.5 in /usr/local/lib/python3.6/dist-packages (from requests) (2.9)\n",
            "Requirement already satisfied: certifi>=2017.4.17 in /usr/local/lib/python3.6/dist-packages (from requests) (2020.4.5.1)\n",
            "Requirement already satisfied: urllib3!=1.25.0,!=1.25.1,<1.26,>=1.21.1 in /usr/local/lib/python3.6/dist-packages (from requests) (1.24.3)\n"
          ]
        }
      ],
      "source": [
        "!pip install requests"
      ]
    },
    {
      "cell_type": "markdown",
      "metadata": {
        "id": "UOeOpxaAHLEE"
      },
      "source": [
        "Note the _Requirement already satisfied_ since this is a popular library that is pre-installed on Colab.\n",
        "\n",
        "The easiest way to see all the installed packages is to call:\n",
        "\n",
        "```\n",
        "pip freeze\n",
        "```"
      ]
    },
    {
      "cell_type": "code",
      "execution_count": null,
      "metadata": {
        "id": "6-anXPdcHH3n"
      },
      "outputs": [],
      "source": [
        "# help can show you all of the modules, but it is a bit verbose and slow\n",
        "# help('modules')\n",
        "\n",
        "# instead you can call out to the shell to get the \"pip freeze\" which shows packages and their versions\n",
        "!pip freeze"
      ]
    },
    {
      "cell_type": "markdown",
      "metadata": {
        "id": "2M0uKa3bT3-R"
      },
      "source": [
        "## Requests"
      ]
    },
    {
      "cell_type": "markdown",
      "metadata": {
        "id": "Njc1b7NZY_K5"
      },
      "source": [
        "[Requests](https://requests.readthedocs.io/en/master/) is a popular library for fetching web resources. Billing itself as \"HTTP for humans,\" requests exposes an API that is much simpler than Python's urllib for most common use cases in fetching data on the internet.\n",
        "\n",
        "Here's a simple example to show how requests compares with Python's urllib:"
      ]
    },
    {
      "cell_type": "markdown",
      "metadata": {
        "id": "lzNbSRENhfXC"
      },
      "source": [
        "### Using Python's urllib to fetch a joke"
      ]
    },
    {
      "cell_type": "code",
      "execution_count": null,
      "metadata": {
        "colab": {
          "base_uri": "https://localhost:8080/",
          "height": 69
        },
        "id": "tbn3UDrdHS78",
        "outputId": "f2e0f492-4983-4109-f4db-98966e5b657b"
      },
      "outputs": [
        {
          "data": {
            "text/plain": [
              "{'id': 'EYo4TCAdUf',\n",
              " 'joke': 'I tried to write a chemistry joke, but could never get a reaction.',\n",
              " 'status': 200}"
            ]
          },
          "execution_count": 8,
          "metadata": {
            "tags": []
          },
          "output_type": "execute_result"
        }
      ],
      "source": [
        "import json\n",
        "import urllib.request\n",
        "req = urllib.request.Request('https://icanhazdadjoke.com/')\n",
        "req.add_header('Accept', 'application/json')\n",
        "req.add_header('User-agent', 'aprd-joke-fetcher/0.1')\n",
        "r = urllib.request.urlopen(req)\n",
        "data = json.loads(r.read())\n",
        "data"
      ]
    },
    {
      "cell_type": "markdown",
      "metadata": {
        "id": "iBVYK0ijhkm8"
      },
      "source": [
        "### vs. Requests"
      ]
    },
    {
      "cell_type": "code",
      "execution_count": null,
      "metadata": {
        "colab": {
          "base_uri": "https://localhost:8080/",
          "height": 69
        },
        "id": "Bf36wvzXdm0I",
        "outputId": "5baafcba-c106-4d33-e33d-204040ef6a12"
      },
      "outputs": [
        {
          "data": {
            "text/plain": [
              "{'id': 'fiydpr4EQnb',\n",
              " 'joke': 'What’s brown and sounds like a bell? Dung!',\n",
              " 'status': 200}"
            ]
          },
          "execution_count": 10,
          "metadata": {
            "tags": []
          },
          "output_type": "execute_result"
        }
      ],
      "source": [
        "import requests\n",
        "r = requests.get('https://icanhazdadjoke.com/', headers={'Accept': 'application/json'})\n",
        "data = r.json()\n",
        "data"
      ]
    },
    {
      "cell_type": "markdown",
      "metadata": {
        "id": "QuEEcH88hn8j"
      },
      "source": [
        "In Requests, the un-parsed payload is stored in a property called text"
      ]
    },
    {
      "cell_type": "code",
      "execution_count": null,
      "metadata": {
        "colab": {
          "base_uri": "https://localhost:8080/",
          "height": 34
        },
        "id": "IMzdIf3beBgR",
        "outputId": "30ddc279-3c71-401b-e4f8-bab09debe780"
      },
      "outputs": [
        {
          "data": {
            "text/plain": [
              "'{\"id\":\"fiydpr4EQnb\",\"joke\":\"What\\\\u2019s brown and sounds like a bell? Dung!\",\"status\":200}\\n'"
            ]
          },
          "execution_count": 13,
          "metadata": {
            "tags": []
          },
          "output_type": "execute_result"
        }
      ],
      "source": [
        "r.text"
      ]
    },
    {
      "cell_type": "markdown",
      "metadata": {
        "id": "l78OxGH5hseS"
      },
      "source": [
        "which is what you would use if you are fetching HTML rather than JSON:"
      ]
    },
    {
      "cell_type": "code",
      "execution_count": null,
      "metadata": {
        "colab": {
          "base_uri": "https://localhost:8080/",
          "height": 54
        },
        "id": "IqArFHfkg35X",
        "outputId": "804cc371-f3e5-479f-a883-0cd4be86b8e0"
      },
      "outputs": [
        {
          "data": {
            "text/plain": [
              "'<!DOCTYPE html>\\n<html lang=\"en\">\\n<head>\\n<meta charset=\"utf-8\">\\n<meta http-equiv=\"X-UA-Compatible\" content=\"IE=edge\">\\n<meta name=\"viewport\" content=\"width=device-width, initial-scale=1, minimum-scale=1\">\\n<meta name=\"description\" content=\"The largest collection of dad jokes on the internet\" />\\n<meta name=\"author\" content=\"C653 Labs\" />\\n<meta name=\"keywords\" content=\"dad,joke,funny,slack,alexa\" />\\n<meta property=\"og:site_name\" content=\"icanhazdadjoke\" />\\n<meta property=\"og:title\" content=\"icanhazdadjoke\" />\\n<meta property=\"og:type\" content=\"website\" />\\n<meta property=\"og:url\" content=\"https://icanhazdadjoke.com/j/JeaxXvkyPf\" />\\n<meta property=\"og:description\" content=\"Can February march? No, but April may.\" />\\n<meta property=\"og:image:url\" content=\"https://icanhazdadjoke.com/j/JeaxXvkyPf.png\" />\\n<meta property=\"og:image:secure_url\" content=\"https://icanhazdadjoke.com/j/JeaxXvkyPf.png\" />\\n<meta property=\"og:image:secure_url\" content=\"https://icanhazdadjoke.com/static/smile.png\" />\\n<meta property=\"og:image:type\" content=\"image/png\" />\\n<meta name=\"twitter:card\" content=\"summary\">\\n<meta name=\"twitter:site\" content=\"@icanhazdadjoke\">\\n<meta name=\"twitter:title\" content=\"icanhzdadjoke\">\\n<meta name=\"twitter:description\" content=\"Can February march? No, but April may.\">\\n<meta name=\"twitter:image\" content=\"https://icanhazdadjoke.com/static/smile.png\">\\n<meta name=\"twitter:url\" content=\"https://icanhazdadjoke.com/j/JeaxXvkyPf\" />\\n<link rel=\"canonical\" href=\"https://icanhazdadjoke.com/j/JeaxXvkyPf\">\\n<link rel=\"amphtml\" href=\"https://icanhazdadjoke.com/j/JeaxXvkyPf/amp\">\\n<title>icanhazdadjoke</title>\\n<link rel=\"apple-touch-icon\" sizes=\"180x180\" href=\"/static/apple-touch-icon.png\">\\n<link rel=\"icon\" type=\"image/png\" href=\"/static/favicon-32x32.png\" sizes=\"32x32\">\\n<link rel=\"icon\" type=\"image/png\" href=\"/static/favicon-16x16.png\" sizes=\"16x16\">\\n<link rel=\"manifest\" href=\"/static/manifest.json\">\\n<link rel=\"mask-icon\" href=\"/static/safari-pinned-tab.svg\" color=\"#1fc8db\">\\n<link rel=\"shortcut icon\" href=\"/static/favicon.ico\">\\n<meta name=\"msapplication-config\" content=\"/static/browserconfig.xml\">\\n<meta name=\"theme-color\" content=\"#ffffff\">\\n<link rel=\"stylesheet\" href=\"/static/dist/style.css?55f4ea12\">\\n<script type=\"application/ld+json\">\\n      {\\n        \"@context\": \"http://schema.org\",\\n        \"@type\": \"WebSite\",\\n        \"url\": \"https://icanhazdadjoke.com/\",\\n        \"name\": \"icanhazdadjoke\",\\n        \"description\": \"The largest collection of dad jokes on the internet\",\\n        \"potentialAction\": {\\n          \"@type\": \"SearchAction\",\\n          \"target\": \"https://icanhazdadjoke.com/search?term={search_term_string}\",\\n          \"query-input\": \"required name=search_term_string\"\\n        }\\n      }\\n    </script>\\n<script type=\"application/ld+json\">\\n      {\\n        \"@context\": \"http://schema.org\",\\n        \"@type\": \"Organization\",\\n        \"url\": \"https://icanhazdadjoke.com/\",\\n        \"logo\": \"https://icanhazdadjoke.com/static/smile.png\",\\n        \"name\": \"icanhazdadjoke\",\\n        \"description\": \"The largest collection of dad jokes on the internet\",\\n        \"email\": \"support@icanhazdadjoke.com\"\\n      }\\n    </script>\\n<script async src=\"//pagead2.googlesyndication.com/pagead/js/adsbygoogle.js\"></script>\\n<script>\\n      (adsbygoogle = window.adsbygoogle || []).push({google_ad_client: \"ca-pub-3200991035275362\", enable_page_level_ads: true});\\n    </script>\\n</head>\\n<body>\\n<nav class=\"nav has-shadow\">\\n<div class=\"container\">\\n<div class=\"nav-left\">\\n<a class=\"nav-item is-brand\" href=\"/\">\\n<img src=\"/static/smile.svg\" alt=\"icanhazdadjoke logo\" />\\n<span class=\"subtitle pushhalf--left\">\\nicanhazdadjoke\\n</span>\\n</a>\\n</div>\\n<span id=\"nav-toggle\" class=\"nav-toggle\">\\n<span></span>\\n<span></span>\\n<span></span>\\n</span>\\n<div id=\"nav-menu\" class=\"nav-right nav-menu\">\\n<a class=\"nav-item is-tab\" href=\"/\">\\n<span class=\"icon is-small\">\\n<i class=\"fa fa-random\"></i>\\n</span>\\n<span class=\"pushquarter--left\">\\nRandom joke\\n</span>\\n</a>\\n<a class=\"nav-item is-tab\" href=\"/search\">\\n<span class=\"icon is-small\">\\n<i class=\"fa fa-search\"></i>\\n</span>\\n<span class=\"pushquarter--left\">\\nSearch jokes\\n</span>\\n</a>\\n<a class=\"nav-item is-tab\" href=\"/submit\">\\n<span class=\"icon is-small\">\\n<i class=\"fa fa-pencil-square-o\"></i>\\n</span>\\n<span class=\"pushquarter--left\">\\nSubmit new joke\\n</span>\\n</a>\\n<div class=\"nav-item\">\\n<a href=\"/slack-add\" style=\"height:40px; max-width:139px\">\\n<img alt=\"Add to Slack\" height=\"40\" width=\"139\" src=\"https://platform.slack-edge.com/img/add_to_slack.png\" style=\"width:139px; height:40px; max-height: 40px\" srcset=\"https://platform.slack-edge.com/img/add_to_slack.png 1x, https://platform.slack-edge.com/img/add_to_slack@2x.png 2x\" />\\n</a>\\n</div>\\n<div class=\"nav-item\">\\n<a class=\"button\" target=\"_blank\" href=\"https://www.amazon.com/Brett-Langdon-icanhazdadjoke/dp/B01N6CQ3NZ/\" style=\"background-color: #ffffff; color: #5ebfe4; border-radius: 6px; font-weight: 500; height:40px; width:139px; max-width:139px\">\\n<img src=\"/static/alexa-logo.png\" style=\"margin-left: -0.5em;\">\\nAdd to <strong style=\"margin-left: 0.25em\">Alexa</strong>\\n</a>\\n</div>\\n</div>\\n</div>\\n</nav>\\n<section class=\"section\">\\n<div class=\"container\">\\n<div class=\"level\">\\n<div class=\"level-left\">\\n<div class=\"content level-item\">\\n<h1>Random dad joke:</h1>\\n</div>\\n</div>\\n<div class=\"level-right\">\\n<a class=\"button is-primary level-item\" href=\"/\">\\n<span class=\"icon is-small\">\\n<i class=\"fa fa-random\"></i>\\n</span>\\n<span>\\nNew joke\\n</span>\\n</a>\\n</div>\\n</div>\\n<div class=\"content\">\\n<div class=\"card\">\\n<div class=\"card-content\">\\n<p class=\"subtitle\">Can February march? No, but April may.</p>\\n</div>\\n<footer class=\"card-footer\">\\n<a class=\"card-footer-item\" href=\"/j/JeaxXvkyPf\">\\n<span class=\"icon is-small\">\\n<i class=\"fa fa-chain\"></i>\\n</span>\\n<span class=\"pushquarter--left\">\\nPermalink\\n</span>\\n</a>\\n<a class=\"card-footer-item\" target=\"_blank\" href=\"https://twitter.com/intent/tweet?url=https://icanhazdadjoke.com%2Fj%2FJeaxXvkyPf%2Famp&text=Check+out+this+%23dadjoke&via=icanhazdadjoke\">\\n<span class=\"icon is-small\">\\n<i class=\"fa fa-twitter\"></i>\\n</span>\\n<span class=\"pushquarter--left\">\\nShare on Twitter\\n</span>\\n</a>\\n</footer>\\n</div>\\n</div>\\n<div class=\"content pushwhole--top\">\\n<ins class=\"adsbygoogle\" style=\"display:block\" data-ad-client=\"ca-pub-3200991035275362\" data-ad-slot=\"5324903139\" data-ad-format=\"auto\"></ins>\\n</div>\\n<script>\\n          (adsbygoogle = window.adsbygoogle || []).push({});\\n        </script>\\n</div>\\n</section>\\n<footer class=\"footer\">\\n<div class=\"container\">\\n<div class=\"columns\">\\n<div class=\"column is-5\">\\n<div class=\"content\">\\n<p>\\n<strong>icanhazdadjoke.com</strong> by <a href=\"https://c653labs.com/\">C653 Labs</a>.\\n </p>\\n<p>\\n<i>icanhazdadjoke.com</i> is the largest selection of dad jokes on the internet.\\nNow supporting many different integrations to ensure you can access the dad jokes that you need wherever you are.\\n</p>\\n</div>\\n</div>\\n<div class=\"column is-3\"></div>\\n<div class=\"column is-2\">\\n<aside class=\"menu\">\\n<ul class=\"menu-list\">\\n<li><a href=\"/cdn-cgi/l/email-protection#64171114140b1610240d07050a0c051e0005000e0b0f014a070b09\" target=\"_blank\">Contact</a></li>\\n<li><a href=\"https://twitter.com/icanhazdadjoke\" target=\"_blank\">Twitter</a></li>\\n<li><a href=\"https://slack.com/apps/A214NCJF2-icanhazdadjoke\" target=\"_blank\">Slack app</a></li>\\n<li><a href=\"https://www.amazon.com/Brett-Langdon-icanhazdadjoke/dp/B01N6CQ3NZ/\" target=\"_blank\">Alexa skill</a></li>\\n<li><a href=\"https://discordapp.com/api/oauth2/authorize?client_id=467365247921946626&permissions=0&scope=bot\" target=\"_blank\">Discord bot</a></li>\\n<li><a href=\"https://marketplace.atlassian.com/plugins/com.icanhazdadjoke/cloud/overview\" target=\"_blank\">HipChat plugin</a></li>\\n<li><a href=\"https://twistapp.com/integrations/install/20_901fa9d3df5b8784d3ddc56e\" target=\"_blank\">Twist integration</a></li>\\n</ul>\\n</aside>\\n</div>\\n<div class=\"column is-2\">\\n<aside class=\"menu\">\\n<ul class=\"menu-list\">\\n<li><a href=\"/about\">About</a></li>\\n<li><a href=\"/api\">API</a></li>\\n<li><a href=\"/\">Random joke</a></li>\\n<li><a href=\"/search\">Search jokes</a></li>\\n<li><a href=\"/submit\">Submit new joke</a></li>\\n</ul>\\n</aside>\\n</div>\\n</div>\\n</div>\\n</footer>\\n<script data-cfasync=\"false\" src=\"/cdn-cgi/scripts/5c5dd728/cloudflare-static/email-decode.min.js\"></script><script>\\n        (function(i,s,o,g,r,a,m){i[\\'GoogleAnalyticsObject\\']=r;i[r]=i[r]||function(){\\n        (i[r].q=i[r].q||[]).push(arguments)},i[r].l=1*new Date();a=s.createElement(o),\\n        m=s.getElementsByTagName(o)[0];a.async=1;a.src=g;m.parentNode.insertBefore(a,m)\\n        })(window,document,\\'script\\',\\'https://www.google-analytics.com/analytics.js\\',\\'ga\\');\\n\\n        ga(\\'create\\', \\'UA-82372853-1\\', \\'auto\\');\\n        ga(\\'send\\', \\'pageview\\');\\n        </script>\\n\\n<script>\\n      document.addEventListener(\\'click\\', function (evt) {\\n        if (evt.target.id === \\'nav-toggle\\' || evt.target.parent.id === \\'nav-toggle\\') {\\n          document.getElementById(\\'nav-menu\\').classList.toggle(\\'is-active\\');\\n        }\\n      });\\n    </script>\\n\\n<script type=\"text/javascript\">\\n      /* <![CDATA[ */\\n      var google_conversion_id = 855658655;\\n      var google_conversion_language = \"en\";\\n      var google_conversion_format = \"3\";\\n      var google_conversion_color = \"ffffff\";\\n      var google_conversion_label = \"gdOKCMjzmHAQn6GBmAM\";\\n      var google_remarketing_only = false;\\n      /* ]]> */\\n    </script>\\n<script type=\"text/javascript\" src=\"//www.googleadservices.com/pagead/conversion.js\"></script>\\n<noscript>\\n      <div style=\"display:inline;\">\\n        <img height=\"1\" width=\"1\" style=\"border-style:none;\" alt=\"\" src=\"//www.googleadservices.com/pagead/conversion/855658655/?label=gdOKCMjzmHAQn6GBmAM&amp;guid=ON&amp;script=0\"/>\\n      </div>\\n    </noscript>\\n</body>\\n</html>'"
            ]
          },
          "execution_count": 14,
          "metadata": {
            "tags": []
          },
          "output_type": "execute_result"
        }
      ],
      "source": [
        "r = requests.get('https://icanhazdadjoke.com/')\n",
        "html = r.text\n",
        "html"
      ]
    },
    {
      "cell_type": "markdown",
      "metadata": {
        "id": "v-hXCo7SiL0u"
      },
      "source": [
        "## Newspaper"
      ]
    },
    {
      "cell_type": "markdown",
      "metadata": {
        "id": "05NDXF2CiPy9"
      },
      "source": [
        "[Newspaper3k](https://newspaper.readthedocs.io/en/latest/) is said to be inspired by requests, and is a high level library for managing access to news information.\n",
        "\n",
        "Newspaper is something of a monolithic suite of utilities more than a library, and it is worth digging into if you are interested in fetching the news. However, in this course we are primarily interested in Newspaper's abiliity to extract article text from a web page. For this reason, we will not use Newspaper's fetching tools, but will simply use it to extract text from pages we have already fetched with requests."
      ]
    },
    {
      "cell_type": "markdown",
      "metadata": {
        "id": "irbfw92Fi7Bl"
      },
      "source": [
        "### Using Newspaper's fulltext function"
      ]
    },
    {
      "cell_type": "code",
      "execution_count": null,
      "metadata": {
        "id": "xk2-XqjtjVUV"
      },
      "outputs": [],
      "source": [
        "!pip install newspaper3k"
      ]
    },
    {
      "cell_type": "code",
      "execution_count": null,
      "metadata": {
        "colab": {
          "base_uri": "https://localhost:8080/",
          "height": 34
        },
        "id": "51m5J57GhZTy",
        "outputId": "1d29ba09-2387-4264-d2b1-8f9dab5ebacf"
      },
      "outputs": [
        {
          "data": {
            "text/plain": [
              "'<!DOCTYPE html><html lang=\"en-us\" data-reactroot=\"\"><head><meta name=\"google-sit'"
            ]
          },
          "execution_count": 19,
          "metadata": {
            "tags": []
          },
          "output_type": "execute_result"
        }
      ],
      "source": [
        "import requests\n",
        "import newspaper\n",
        "\n",
        "r = requests.get('https://www.theonion.com/poll-finds-majority-of-americans-would-like-things-to-g-1819573273')\n",
        "html = r.text\n",
        "html[:80]"
      ]
    },
    {
      "cell_type": "code",
      "execution_count": null,
      "metadata": {
        "colab": {
          "base_uri": "https://localhost:8080/",
          "height": 34
        },
        "id": "z76hcGCijTDg",
        "outputId": "83dd1cd9-52ea-4b4d-d030-346471b039ab"
      },
      "outputs": [
        {
          "data": {
            "text/plain": [
              "'UTICA, NY—A poll released Tuesday by Zogby International found that 72 percent o'"
            ]
          },
          "execution_count": 20,
          "metadata": {
            "tags": []
          },
          "output_type": "execute_result"
        }
      ],
      "source": [
        "article = newspaper.fulltext(html)\n",
        "article[:80]"
      ]
    },
    {
      "cell_type": "markdown",
      "metadata": {
        "id": "gv40qxDulU6B"
      },
      "source": [
        "## spaCy"
      ]
    },
    {
      "cell_type": "markdown",
      "metadata": {
        "id": "_1T2LBwzlY9C"
      },
      "source": [
        "[spaCy](https://spacy.io/usage) is a fairly new library that makes short work of a lot of common NLP (natural language processing) tasks. Use spaCy for some straightforward out-of-the box tokenization, POS (part-of-speech) tagging, and NER (named entity recognition)."
      ]
    },
    {
      "cell_type": "code",
      "execution_count": null,
      "metadata": {
        "id": "OUXD6q2_j1Ib"
      },
      "outputs": [],
      "source": [
        "import spacy\n",
        "\n",
        "nlp = spacy.load(\"en_core_web_sm\")\n",
        "doc = nlp(\"Apple is looking at buying U.K. startup for $1 billion\")"
      ]
    },
    {
      "cell_type": "markdown",
      "metadata": {
        "id": "dZMaPoxGnBUl"
      },
      "source": [
        "Once processed by nlp, a spaCy doc is tokenized:"
      ]
    },
    {
      "cell_type": "code",
      "execution_count": null,
      "metadata": {
        "colab": {
          "base_uri": "https://localhost:8080/",
          "height": 34
        },
        "id": "A0wa7wN9m9ef",
        "outputId": "9638808c-ce78-42de-8d34-b3f13f8de2b9"
      },
      "outputs": [
        {
          "data": {
            "text/plain": [
              "[Apple, is, looking, at, buying, U.K., startup, for, $, 1, billion]"
            ]
          },
          "execution_count": 22,
          "metadata": {
            "tags": []
          },
          "output_type": "execute_result"
        }
      ],
      "source": [
        "list(doc)"
      ]
    },
    {
      "cell_type": "markdown",
      "metadata": {
        "id": "Vd7p_08JnVpY"
      },
      "source": [
        "Tokens have [POS tags and other properties](https://spacy.io/usage/linguistic-features#pos-tagging)"
      ]
    },
    {
      "cell_type": "code",
      "execution_count": null,
      "metadata": {
        "colab": {
          "base_uri": "https://localhost:8080/",
          "height": 208
        },
        "id": "IM1KJnI3m_QR",
        "outputId": "9ddf5fbf-133b-44c2-c7b8-36b55c93b942"
      },
      "outputs": [
        {
          "name": "stdout",
          "output_type": "stream",
          "text": [
            "Apple Apple PROPN\n",
            "is be AUX\n",
            "looking look VERB\n",
            "at at ADP\n",
            "buying buy VERB\n",
            "U.K. U.K. PROPN\n",
            "startup startup NOUN\n",
            "for for ADP\n",
            "$ $ SYM\n",
            "1 1 NUM\n",
            "billion billion NUM\n"
          ]
        }
      ],
      "source": [
        "for token in doc:\n",
        "    print(token.text, token.lemma_, token.pos_)"
      ]
    },
    {
      "cell_type": "markdown",
      "metadata": {
        "id": "t3HNWlwvn3q7"
      },
      "source": [
        "The doc also contains an `ents` property with named entities:"
      ]
    },
    {
      "cell_type": "code",
      "execution_count": null,
      "metadata": {
        "colab": {
          "base_uri": "https://localhost:8080/",
          "height": 69
        },
        "id": "OCHYvAgynwtc",
        "outputId": "6ee0ad9b-942d-4665-969d-a05e30348839"
      },
      "outputs": [
        {
          "name": "stdout",
          "output_type": "stream",
          "text": [
            "Apple ORG\n",
            "U.K. GPE\n",
            "$1 billion MONEY\n"
          ]
        }
      ],
      "source": [
        "for e in doc.ents:\n",
        "    print(e.text, e.label_)"
      ]
    },
    {
      "cell_type": "code",
      "execution_count": null,
      "metadata": {
        "id": "2iFS6pIzn-C5"
      },
      "outputs": [],
      "source": []
    },
    {
      "cell_type": "markdown",
      "metadata": {
        "id": "UT4k3v2YohxB"
      },
      "source": [
        "## truecase"
      ]
    },
    {
      "cell_type": "markdown",
      "metadata": {
        "id": "Ogi5SUkgoj8S"
      },
      "source": [
        "[truecase](https://github.com/daltonfury42/truecase) is a handy utility for correcting capitalization in text. Sometimes you get text that is processed in some way, resulting in modifications such as changes to the letter-case. It can be helpful to have correct capitalization before, for example, running named entity recognition."
      ]
    },
    {
      "cell_type": "code",
      "execution_count": null,
      "metadata": {
        "id": "aYJJvH_BpTTJ"
      },
      "outputs": [],
      "source": [
        "!pip install truecase"
      ]
    },
    {
      "cell_type": "code",
      "execution_count": null,
      "metadata": {
        "id": "9GKyX4wAojWb"
      },
      "outputs": [],
      "source": [
        "import truecase"
      ]
    },
    {
      "cell_type": "markdown",
      "metadata": {
        "id": "GF_2I1QhqUCc"
      },
      "source": [
        "truecase tries to be smart"
      ]
    },
    {
      "cell_type": "code",
      "execution_count": null,
      "metadata": {
        "colab": {
          "base_uri": "https://localhost:8080/",
          "height": 34
        },
        "id": "F2fA6CFypSQb",
        "outputId": "1f82e9a7-377f-45ac-ff76-5cf4ec432e5f"
      },
      "outputs": [
        {
          "data": {
            "text/plain": [
              "'Apple is looking at buying U. K. startup for$ 1 billion'"
            ]
          },
          "execution_count": 31,
          "metadata": {
            "tags": []
          },
          "output_type": "execute_result"
        }
      ],
      "source": [
        "truecase.get_true_case('apple is looking at buying u.k. startup for $1 billion')"
      ]
    },
    {
      "cell_type": "code",
      "execution_count": null,
      "metadata": {
        "colab": {
          "base_uri": "https://localhost:8080/",
          "height": 34
        },
        "id": "B8QfFn03qIxZ",
        "outputId": "6efd8d8c-5e1b-4bae-85b2-c4aed4ff0eb0"
      },
      "outputs": [
        {
          "data": {
            "text/plain": [
              "'Gonna buy me a dog named Rover.'"
            ]
          },
          "execution_count": 38,
          "metadata": {
            "tags": []
          },
          "output_type": "execute_result"
        }
      ],
      "source": [
        "truecase.get_true_case('gonna buy me a dog named rover.')"
      ]
    },
    {
      "cell_type": "markdown",
      "metadata": {
        "id": "MILnVJ2VqW8Q"
      },
      "source": [
        "but it's not perfect"
      ]
    },
    {
      "cell_type": "code",
      "execution_count": null,
      "metadata": {
        "colab": {
          "base_uri": "https://localhost:8080/",
          "height": 34
        },
        "id": "ChOGyQP8pgkw",
        "outputId": "649887a7-2e31-425d-f0c2-e66b0aec3610"
      },
      "outputs": [
        {
          "data": {
            "text/plain": [
              "'U. K. startup to be bought by apple.'"
            ]
          },
          "execution_count": 32,
          "metadata": {
            "tags": []
          },
          "output_type": "execute_result"
        }
      ],
      "source": [
        "truecase.get_true_case('u.k. startup to be bought by apple.')"
      ]
    },
    {
      "cell_type": "code",
      "execution_count": null,
      "metadata": {
        "colab": {
          "base_uri": "https://localhost:8080/",
          "height": 34
        },
        "id": "LjL4zdi8pwGA",
        "outputId": "f1689b68-36d0-4003-f41e-87434e78913c"
      },
      "outputs": [
        {
          "data": {
            "text/plain": [
              "'Gonna buy me a dog named spot.'"
            ]
          },
          "execution_count": 39,
          "metadata": {
            "tags": []
          },
          "output_type": "execute_result"
        }
      ],
      "source": [
        "truecase.get_true_case('gonna buy me a dog named spot.')"
      ]
    }
  ],
  "metadata": {
    "colab": {
      "collapsed_sections": [
        "irbfw92Fi7Bl"
      ],
      "provenance": []
    },
    "kernelspec": {
      "display_name": "Python 3",
      "language": "python",
      "name": "python3"
    }
  },
  "nbformat": 4,
  "nbformat_minor": 0
}