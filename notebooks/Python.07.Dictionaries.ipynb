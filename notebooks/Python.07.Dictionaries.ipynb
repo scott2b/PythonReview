{
  "nbformat": 4,
  "nbformat_minor": 0,
  "metadata": {
    "colab": {
      "provenance": []
    },
    "kernelspec": {
      "name": "python3",
      "display_name": "Python 3"
    }
  },
  "cells": [
    {
      "cell_type": "markdown",
      "source": [
        "[![Open in Colab](https://colab.research.google.com/assets/colab-badge.svg)](https://colab.research.google.com/github/scott2b/PythonReview/blob/main/notebooks/Python.07.Dictionaries.ipynb)"
      ],
      "metadata": {
        "id": "UfWESo54JQn4"
      }
    },
    {
      "cell_type": "markdown",
      "metadata": {
        "id": "ZuCn-kpVdwXc"
      },
      "source": [
        "# Python Dictionaries\n",
        "\n",
        "## Dictionaries"
      ]
    },
    {
      "cell_type": "markdown",
      "metadata": {
        "id": "kBuFXAJDgWcQ"
      },
      "source": [
        "A simple dictionary that maps digits to their words:"
      ]
    },
    {
      "cell_type": "code",
      "metadata": {
        "id": "L3Qd6GEFgqBD",
        "colab": {
          "base_uri": "https://localhost:8080/",
          "height": 34
        },
        "outputId": "5bf7dc72-2f29-410e-992d-df4807a83eda"
      },
      "source": [
        "digits = {\n",
        "    1: 'one',\n",
        "    2: 'two',\n",
        "    3: 'three',\n",
        "    4: 'four',\n",
        "    5: 'five',\n",
        " }\n",
        "digits"
      ],
      "execution_count": null,
      "outputs": [
        {
          "output_type": "execute_result",
          "data": {
            "text/plain": [
              "{1: 'one', 2: 'two', 3: 'three', 4: 'four', 5: 'five'}"
            ]
          },
          "metadata": {
            "tags": []
          },
          "execution_count": 20
        }
      ]
    },
    {
      "cell_type": "markdown",
      "metadata": {
        "id": "7oPqJ0Wlhdka"
      },
      "source": [
        "Another way to construct a dictionary is from the key-value tuple pairs:"
      ]
    },
    {
      "cell_type": "code",
      "metadata": {
        "id": "IiEyf1KKhB6k",
        "colab": {
          "base_uri": "https://localhost:8080/",
          "height": 34
        },
        "outputId": "15a5bdaa-dad6-4ba6-f73b-49c4b3404990"
      },
      "source": [
        "dict([ (1, 'one'), (2, 'two'), (3, 'three'), (4, 'four'), (5, 'five') ])"
      ],
      "execution_count": null,
      "outputs": [
        {
          "output_type": "execute_result",
          "data": {
            "text/plain": [
              "{1: 'one', 2: 'two', 3: 'three', 4: 'four', 5: 'five'}"
            ]
          },
          "metadata": {
            "tags": []
          },
          "execution_count": 21
        }
      ]
    },
    {
      "cell_type": "markdown",
      "metadata": {
        "id": "Y4hdTArliCAS"
      },
      "source": [
        "To de-reference an item, use the `[]` syntax:"
      ]
    },
    {
      "cell_type": "code",
      "metadata": {
        "id": "JXo1Cu4ViHa2",
        "colab": {
          "base_uri": "https://localhost:8080/",
          "height": 34
        },
        "outputId": "fa8ab15c-6407-4f96-c623-6223b719b702"
      },
      "source": [
        "digits[3]"
      ],
      "execution_count": null,
      "outputs": [
        {
          "output_type": "execute_result",
          "data": {
            "text/plain": [
              "'three'"
            ]
          },
          "metadata": {
            "tags": []
          },
          "execution_count": 15
        }
      ]
    },
    {
      "cell_type": "markdown",
      "metadata": {
        "id": "FPCk3xPeiUhn"
      },
      "source": [
        "Or use the `get` method:"
      ]
    },
    {
      "cell_type": "code",
      "metadata": {
        "id": "gEjpv1VBiXq_",
        "colab": {
          "base_uri": "https://localhost:8080/",
          "height": 34
        },
        "outputId": "021e5165-4e87-48a0-dd81-616aaa324568"
      },
      "source": [
        "digits.get(5)"
      ],
      "execution_count": null,
      "outputs": [
        {
          "output_type": "execute_result",
          "data": {
            "text/plain": [
              "'five'"
            ]
          },
          "metadata": {
            "tags": []
          },
          "execution_count": 22
        }
      ]
    },
    {
      "cell_type": "markdown",
      "metadata": {
        "id": "jbsdyQVTvXlx"
      },
      "source": [
        "## Assignment / updating"
      ]
    },
    {
      "cell_type": "markdown",
      "metadata": {
        "id": "Fe2XuF2aj4pl"
      },
      "source": [
        "You can also use the `[key]` syntax to add new values to the dictionary:"
      ]
    },
    {
      "cell_type": "code",
      "metadata": {
        "id": "KWjm8zFYkB1o",
        "colab": {
          "base_uri": "https://localhost:8080/",
          "height": 34
        },
        "outputId": "72343983-9cdb-443c-e21d-5a9b87180f46"
      },
      "source": [
        "digits[6] = 'six'\n",
        "digits"
      ],
      "execution_count": null,
      "outputs": [
        {
          "output_type": "execute_result",
          "data": {
            "text/plain": [
              "{1: 'one', 2: 'two', 3: 'three', 4: 'four', 5: 'five', 6: 'six'}"
            ]
          },
          "metadata": {
            "tags": []
          },
          "execution_count": 23
        }
      ]
    },
    {
      "cell_type": "markdown",
      "metadata": {
        "id": "F310bTurkGCx"
      },
      "source": [
        "And you can combine the dictionary with another dictionary using update:"
      ]
    },
    {
      "cell_type": "code",
      "metadata": {
        "id": "WU0K8gAQkRqv",
        "colab": {
          "base_uri": "https://localhost:8080/",
          "height": 173
        },
        "outputId": "29bd2c2f-6764-435f-c9a7-378eaa6079ef"
      },
      "source": [
        "digits.update({ 7: 'seven', 8: 'eight', 9: 'nine' })\n",
        "digits"
      ],
      "execution_count": null,
      "outputs": [
        {
          "output_type": "execute_result",
          "data": {
            "text/plain": [
              "{1: 'one',\n",
              " 2: 'two',\n",
              " 3: 'three',\n",
              " 4: 'four',\n",
              " 5: 'five',\n",
              " 6: 'six',\n",
              " 7: 'seven',\n",
              " 8: 'eight',\n",
              " 9: 'nine'}"
            ]
          },
          "metadata": {
            "tags": []
          },
          "execution_count": 24
        }
      ]
    },
    {
      "cell_type": "markdown",
      "metadata": {
        "id": "yS3KE7kGicPf"
      },
      "source": [
        "The `get` method also allows you to pass in a default value:"
      ]
    },
    {
      "cell_type": "code",
      "metadata": {
        "id": "wgLYAIZ4igfy",
        "colab": {
          "base_uri": "https://localhost:8080/",
          "height": 34
        },
        "outputId": "935a6c41-9d5a-4687-8cee-7003d556fae3"
      },
      "source": [
        "digits.get(10, 'unknown digit')"
      ],
      "execution_count": null,
      "outputs": [
        {
          "output_type": "execute_result",
          "data": {
            "text/plain": [
              "'unknown digit'"
            ]
          },
          "metadata": {
            "tags": []
          },
          "execution_count": 25
        }
      ]
    },
    {
      "cell_type": "markdown",
      "metadata": {
        "id": "fjF5RA6mjdF-"
      },
      "source": [
        "We could use this to implement a simple style guide with the rule to print the name of the number for 1-9, and print the numeric form for anything over 9:"
      ]
    },
    {
      "cell_type": "code",
      "metadata": {
        "id": "cnoOpU19jAmA",
        "colab": {
          "base_uri": "https://localhost:8080/",
          "height": 52
        },
        "outputId": "d2665ab1-a74d-4f59-ac1a-d04fc396b0c4"
      },
      "source": [
        "def get_numberstring(digit):\n",
        "    return digits.get(digit, str(digit))\n",
        "\n",
        "print(get_numberstring(9))\n",
        "print(get_numberstring(10))"
      ],
      "execution_count": null,
      "outputs": [
        {
          "output_type": "stream",
          "text": [
            "nine\n",
            "10\n"
          ],
          "name": "stdout"
        }
      ]
    },
    {
      "cell_type": "markdown",
      "metadata": {
        "id": "eHWXcz5lvh68"
      },
      "source": [
        "## Iterating"
      ]
    },
    {
      "cell_type": "markdown",
      "metadata": {
        "id": "q_utSbOOlDnk"
      },
      "source": [
        "The keys of the dictionary are given by the `keys` method:"
      ]
    },
    {
      "cell_type": "code",
      "metadata": {
        "id": "IUmIg_p5lHYb",
        "colab": {
          "base_uri": "https://localhost:8080/",
          "height": 34
        },
        "outputId": "bdbc565f-4b8d-46bd-a57e-9547bdd3f835"
      },
      "source": [
        "digits.keys()"
      ],
      "execution_count": null,
      "outputs": [
        {
          "output_type": "execute_result",
          "data": {
            "text/plain": [
              "dict_keys([1, 2, 3, 4, 5, 6, 7, 8, 9])"
            ]
          },
          "metadata": {
            "tags": []
          },
          "execution_count": 26
        }
      ]
    },
    {
      "cell_type": "markdown",
      "metadata": {
        "id": "zOe7uY9LvrLY"
      },
      "source": [
        "Which we could then iterate:"
      ]
    },
    {
      "cell_type": "code",
      "metadata": {
        "id": "Pn99WHbfvkqw",
        "colab": {
          "base_uri": "https://localhost:8080/",
          "height": 173
        },
        "outputId": "4838d731-6219-4f2f-8dde-4a77a3125495"
      },
      "source": [
        "for k in digits.keys():\n",
        "    print(k, digits[k])"
      ],
      "execution_count": null,
      "outputs": [
        {
          "output_type": "stream",
          "text": [
            "1 one\n",
            "2 two\n",
            "3 three\n",
            "4 four\n",
            "5 five\n",
            "6 six\n",
            "7 seven\n",
            "8 eight\n",
            "9 nine\n"
          ],
          "name": "stdout"
        }
      ]
    },
    {
      "cell_type": "markdown",
      "metadata": {
        "id": "KmIgtZEclM84"
      },
      "source": [
        "The key-value pairs can be obtained with the `items`. Note the pairity between what you get from calling `items` and the format for creating a dictionary from k-v pairs above:"
      ]
    },
    {
      "cell_type": "code",
      "metadata": {
        "id": "G6TP0rPclR6n",
        "colab": {
          "base_uri": "https://localhost:8080/",
          "height": 34
        },
        "outputId": "700bde9d-7c6b-4fa8-89a1-2eab81221cee"
      },
      "source": [
        "digits.items()"
      ],
      "execution_count": null,
      "outputs": [
        {
          "output_type": "execute_result",
          "data": {
            "text/plain": [
              "dict_items([(1, 'one'), (2, 'two'), (3, 'three'), (4, 'four'), (5, 'five'), (6, 'six'), (7, 'seven'), (8, 'eight'), (9, 'nine')])"
            ]
          },
          "metadata": {
            "tags": []
          },
          "execution_count": 28
        }
      ]
    },
    {
      "cell_type": "markdown",
      "metadata": {
        "id": "zvuxll-XljqT"
      },
      "source": [
        "The most common way to iterate a dictionary is by iterating the items:"
      ]
    },
    {
      "cell_type": "code",
      "metadata": {
        "id": "tAlCtDlRlqKQ",
        "colab": {
          "base_uri": "https://localhost:8080/",
          "height": 173
        },
        "outputId": "234441d3-9492-45af-9ecb-3bfd00da57cf"
      },
      "source": [
        "for k, v in digits.items():\n",
        "    print(k, v)"
      ],
      "execution_count": null,
      "outputs": [
        {
          "output_type": "stream",
          "text": [
            "1 one\n",
            "2 two\n",
            "3 three\n",
            "4 four\n",
            "5 five\n",
            "6 six\n",
            "7 seven\n",
            "8 eight\n",
            "9 nine\n"
          ],
          "name": "stdout"
        }
      ]
    },
    {
      "cell_type": "markdown",
      "metadata": {
        "id": "yKklPIsjl5sY"
      },
      "source": [
        "Note: there is a caveat here with respect to dictionary order. In older versions of Python, order of dictionaries was undefined. Now, in modern versions of Python, the order is determined by the order of insertion.\n",
        "\n",
        "To make this concrete, consider this unordered digits dictionary:"
      ]
    },
    {
      "cell_type": "code",
      "metadata": {
        "id": "-a9JT45EmR9s",
        "colab": {
          "base_uri": "https://localhost:8080/",
          "height": 34
        },
        "outputId": "21abc9bf-c799-40bd-c728-4e331daaca87"
      },
      "source": [
        "unordered_digits = {\n",
        "    5: 'five',\n",
        "    2: 'two',\n",
        "    9: 'nine'\n",
        "}\n",
        "unordered_digits.items()"
      ],
      "execution_count": null,
      "outputs": [
        {
          "output_type": "execute_result",
          "data": {
            "text/plain": [
              "dict_items([(5, 'five'), (2, 'two'), (9, 'nine')])"
            ]
          },
          "metadata": {
            "tags": []
          },
          "execution_count": 30
        }
      ]
    },
    {
      "cell_type": "code",
      "metadata": {
        "id": "QjZ2LFATmfSc",
        "colab": {
          "base_uri": "https://localhost:8080/",
          "height": 34
        },
        "outputId": "e30a5701-ab4c-4dd4-a4fa-4171dec3c5aa"
      },
      "source": [
        "unordered_digits[3] = 'three'\n",
        "unordered_digits.items()"
      ],
      "execution_count": null,
      "outputs": [
        {
          "output_type": "execute_result",
          "data": {
            "text/plain": [
              "dict_items([(5, 'five'), (2, 'two'), (9, 'nine'), (3, 'three')])"
            ]
          },
          "metadata": {
            "tags": []
          },
          "execution_count": 31
        }
      ]
    },
    {
      "cell_type": "code",
      "metadata": {
        "id": "bWY60kfSmpt9",
        "colab": {
          "base_uri": "https://localhost:8080/",
          "height": 34
        },
        "outputId": "f795e887-aa8e-4bc0-b6e6-66efdf298365"
      },
      "source": [
        "unordered_digits.update( { 7: 'seven', 1: 'one' })\n",
        "unordered_digits"
      ],
      "execution_count": null,
      "outputs": [
        {
          "output_type": "execute_result",
          "data": {
            "text/plain": [
              "{1: 'one', 2: 'two', 3: 'three', 5: 'five', 7: 'seven', 9: 'nine'}"
            ]
          },
          "metadata": {
            "tags": []
          },
          "execution_count": 32
        }
      ]
    },
    {
      "cell_type": "code",
      "metadata": {
        "id": "L_T-ZG9Fn0BM",
        "colab": {
          "base_uri": "https://localhost:8080/",
          "height": 34
        },
        "outputId": "5c3b29df-017c-4d2d-fbad-b5e020aa4080"
      },
      "source": [
        "import sys\n",
        "sys.version_info"
      ],
      "execution_count": null,
      "outputs": [
        {
          "output_type": "execute_result",
          "data": {
            "text/plain": [
              "sys.version_info(major=3, minor=6, micro=9, releaselevel='final', serial=0)"
            ]
          },
          "metadata": {
            "tags": []
          },
          "execution_count": 33
        }
      ]
    },
    {
      "cell_type": "markdown",
      "metadata": {
        "id": "zjjmHDFdoz9X"
      },
      "source": [
        "Of course, keys don't have to be digits -- this is just an example. We could have created a dictionary that looks like this:\n",
        "\n",
        "```\n",
        "{\n",
        "    'one': 1,\n",
        "    'two': 2,\n",
        "    'three': 3\n",
        "}\n",
        "```\n",
        "\n",
        "... and so on.\n"
      ]
    },
    {
      "cell_type": "markdown",
      "metadata": {
        "id": "DbhyncExpHiH"
      },
      "source": [
        "Exercise: invert the digits dictionary\n",
        "\n",
        "Using the digits dictionary, create an inverted version of this dictionary that is keyed by the names of the numbers rather than the numeric digits."
      ]
    },
    {
      "cell_type": "code",
      "metadata": {
        "id": "AsvzAKOspZ0o",
        "colab": {
          "base_uri": "https://localhost:8080/",
          "height": 173
        },
        "outputId": "ab300253-f685-45b6-b018-9b38dcfc1a87"
      },
      "source": [
        "numbers = {}\n",
        "for digit, name in digits.items():\n",
        "    numbers[name] = digit\n",
        "\n",
        "numbers"
      ],
      "execution_count": null,
      "outputs": [
        {
          "output_type": "execute_result",
          "data": {
            "text/plain": [
              "{'eight': 8,\n",
              " 'five': 5,\n",
              " 'four': 4,\n",
              " 'nine': 9,\n",
              " 'one': 1,\n",
              " 'seven': 7,\n",
              " 'six': 6,\n",
              " 'three': 3,\n",
              " 'two': 2}"
            ]
          },
          "metadata": {
            "tags": []
          },
          "execution_count": 35
        }
      ]
    },
    {
      "cell_type": "markdown",
      "metadata": {
        "id": "4F_TruPHpq9e"
      },
      "source": [
        "What if we want this ordered? We could ensure iterating in order this way:"
      ]
    },
    {
      "cell_type": "code",
      "metadata": {
        "id": "8hQ1zVhJp1l-",
        "colab": {
          "base_uri": "https://localhost:8080/",
          "height": 173
        },
        "outputId": "c686d3fd-4fe0-49ce-df26-d572277d28f7"
      },
      "source": [
        "ordered_numbers = {}\n",
        "for digit in sorted(digits.keys()):\n",
        "    ordered_numbers[digits[digit]] = digit\n",
        "\n",
        "ordered_numbers"
      ],
      "execution_count": null,
      "outputs": [
        {
          "output_type": "execute_result",
          "data": {
            "text/plain": [
              "{'eight': 8,\n",
              " 'five': 5,\n",
              " 'four': 4,\n",
              " 'nine': 9,\n",
              " 'one': 1,\n",
              " 'seven': 7,\n",
              " 'six': 6,\n",
              " 'three': 3,\n",
              " 'two': 2}"
            ]
          },
          "metadata": {
            "tags": []
          },
          "execution_count": 36
        }
      ]
    },
    {
      "cell_type": "markdown",
      "metadata": {
        "id": "qeo2E6q9pZRa"
      },
      "source": []
    },
    {
      "cell_type": "code",
      "metadata": {
        "id": "mILgigpbdvkV",
        "colab": {
          "base_uri": "https://localhost:8080/"
        },
        "outputId": "1748f67d-dcd0-4978-eed8-4ed06be1c23b"
      },
      "source": [
        "import json\n",
        "from google.colab import drive\n",
        "from pathlib import Path\n",
        "\n",
        "drive.mount('/content/drive')\n",
        "root = Path('drive/My Drive/')\n",
        "data = json.load(open(root / 'MyProject/twitter_apiresponse_example.json'))\n",
        "data = data[0] # we just want the first tweet"
      ],
      "execution_count": 1,
      "outputs": [
        {
          "output_type": "stream",
          "name": "stdout",
          "text": [
            "Mounted at /content/drive\n"
          ]
        }
      ]
    },
    {
      "cell_type": "markdown",
      "metadata": {
        "id": "BD5x52Vwdxre"
      },
      "source": [
        "Get the dictionary keys:"
      ]
    },
    {
      "cell_type": "code",
      "metadata": {
        "id": "UU8BuIEmdZDb",
        "colab": {
          "base_uri": "https://localhost:8080/"
        },
        "outputId": "debc388d-ff34-4b4d-f154-cd373cc487c5"
      },
      "source": [
        "data.keys()"
      ],
      "execution_count": 2,
      "outputs": [
        {
          "output_type": "execute_result",
          "data": {
            "text/plain": [
              "dict_keys(['created_at', 'id', 'id_str', 'text', 'truncated', 'entities', 'source', 'in_reply_to_status_id', 'in_reply_to_status_id_str', 'in_reply_to_user_id', 'in_reply_to_user_id_str', 'in_reply_to_screen_name', 'user', 'geo', 'coordinates', 'place', 'contributors', 'retweeted_status', 'is_quote_status', 'retweet_count', 'favorite_count', 'favorited', 'retweeted', 'possibly_sensitive', 'lang'])"
            ]
          },
          "metadata": {},
          "execution_count": 2
        }
      ]
    },
    {
      "cell_type": "markdown",
      "metadata": {
        "id": "nEFzITeUe89S"
      },
      "source": [
        "Simple dereferencing: use the `[]` syntax:"
      ]
    },
    {
      "cell_type": "code",
      "metadata": {
        "id": "NEiizRK2fF01",
        "colab": {
          "base_uri": "https://localhost:8080/",
          "height": 35
        },
        "outputId": "c0f06904-197f-4950-f47f-5d3a274497b4"
      },
      "source": [
        "data['text']"
      ],
      "execution_count": 3,
      "outputs": [
        {
          "output_type": "execute_result",
          "data": {
            "text/plain": [
              "'RT @TwitterDev: 1/ Today we’re sharing our vision for the future of the Twitter API platform!nhttps://t.co/XweGngmxlP'"
            ],
            "application/vnd.google.colaboratory.intrinsic+json": {
              "type": "string"
            }
          },
          "metadata": {},
          "execution_count": 3
        }
      ]
    },
    {
      "cell_type": "markdown",
      "metadata": {
        "id": "pf004QUMfV1v"
      },
      "source": [
        "Another way to get a value by key is with the `get` method:"
      ]
    },
    {
      "cell_type": "code",
      "metadata": {
        "id": "jwXUGlgjfU3J",
        "colab": {
          "base_uri": "https://localhost:8080/"
        },
        "outputId": "703af1c1-e6a3-4cf7-c6d4-057cd0f6f52c"
      },
      "source": [
        "data.get('id')"
      ],
      "execution_count": 4,
      "outputs": [
        {
          "output_type": "execute_result",
          "data": {
            "text/plain": [
              "850007368138018817"
            ]
          },
          "metadata": {},
          "execution_count": 4
        }
      ]
    },
    {
      "cell_type": "markdown",
      "metadata": {
        "id": "m3zFnRUHfh7l"
      },
      "source": [
        "... which has the advantage of allowing you to provide a default if the key does not exist:"
      ]
    },
    {
      "cell_type": "code",
      "metadata": {
        "id": "bt-ih9E3fqei",
        "colab": {
          "base_uri": "https://localhost:8080/",
          "height": 35
        },
        "outputId": "7ffd2e68-1d6e-4f92-b0e8-555b5f11ead5"
      },
      "source": [
        "data.get('nonexisting-key', 'some-default-value')"
      ],
      "execution_count": 5,
      "outputs": [
        {
          "output_type": "execute_result",
          "data": {
            "text/plain": [
              "'some-default-value'"
            ],
            "application/vnd.google.colaboratory.intrinsic+json": {
              "type": "string"
            }
          },
          "metadata": {},
          "execution_count": 5
        }
      ]
    },
    {
      "cell_type": "markdown",
      "metadata": {
        "id": "oNS5jLAZeHyo"
      },
      "source": [
        "A dictionary's items are the list of key-value pair tuples:"
      ]
    },
    {
      "cell_type": "code",
      "metadata": {
        "id": "U9lzFZx_d0ck",
        "colab": {
          "base_uri": "https://localhost:8080/"
        },
        "outputId": "5ee26c13-6e1d-4498-ffc6-e5abb8712bb3"
      },
      "source": [
        "data.items()"
      ],
      "execution_count": 6,
      "outputs": [
        {
          "output_type": "execute_result",
          "data": {
            "text/plain": [
              "dict_items([('created_at', 'Thu Apr 06 15:28:43 +0000 2017'), ('id', 850007368138018817), ('id_str', '850007368138018817'), ('text', 'RT @TwitterDev: 1/ Today we’re sharing our vision for the future of the Twitter API platform!nhttps://t.co/XweGngmxlP'), ('truncated', False), ('entities', {'hashtags': [], 'symbols': [], 'user_mentions': [{'screen_name': 'TwitterDev', 'name': 'TwitterDev', 'id': 2244994945, 'id_str': '2244994945', 'indices': [3, 14]}], 'urls': [{'url': 'https://t.co/XweGngmxlP', 'expanded_url': 'https://cards.twitter.com/cards/18ce53wgo4h/3xo1c', 'display_url': 'cards.twitter.com/cards/18ce53wg…', 'indices': [94, 117]}]}), ('source', '<a href=\"http://twitter.com\" rel=\"nofollow\">Twitter Web Client</a>'), ('in_reply_to_status_id', None), ('in_reply_to_status_id_str', None), ('in_reply_to_user_id', None), ('in_reply_to_user_id_str', None), ('in_reply_to_screen_name', None), ('user', {'id': 6253282, 'id_str': '6253282', 'name': 'Twitter API', 'screen_name': 'twitterapi', 'location': 'San Francisco, CA', 'description': \"The Real Twitter API. I tweet about API changes, service issues and happily answer questions about Twitter and our API. Don't get an answer? It's on my website.\", 'url': 'http://t.co/78pYTvWfJd', 'entities': {'url': {'urls': [{'url': 'http://t.co/78pYTvWfJd', 'expanded_url': 'https://dev.twitter.com', 'display_url': 'dev.twitter.com', 'indices': [0, 22]}]}, 'description': {'urls': []}}, 'protected': False, 'followers_count': 6172353, 'friends_count': 46, 'listed_count': 13091, 'created_at': 'Wed May 23 06:01:13 +0000 2007', 'favourites_count': 26, 'utc_offset': -25200, 'time_zone': 'Pacific Time (US & Canada)', 'geo_enabled': True, 'verified': True, 'statuses_count': 3583, 'lang': 'en', 'contributors_enabled': False, 'is_translator': False, 'is_translation_enabled': False, 'profile_background_color': 'C0DEED', 'profile_background_image_url': 'http://pbs.twimg.com/profile_background_images/656927849/miyt9dpjz77sc0w3d4vj.png', 'profile_background_image_url_https': 'https://pbs.twimg.com/profile_background_images/656927849/miyt9dpjz77sc0w3d4vj.png', 'profile_background_tile': True, 'profile_image_url': 'http://pbs.twimg.com/profile_images/2284174872/7df3h38zabcvjylnyfe3_normal.png', 'profile_image_url_https': 'https://pbs.twimg.com/profile_images/2284174872/7df3h38zabcvjylnyfe3_normal.png', 'profile_banner_url': 'https://pbs.twimg.com/profile_banners/6253282/1431474710', 'profile_link_color': '0084B4', 'profile_sidebar_border_color': 'C0DEED', 'profile_sidebar_fill_color': 'DDEEF6', 'profile_text_color': '333333', 'profile_use_background_image': True, 'has_extended_profile': False, 'default_profile': False, 'default_profile_image': False, 'following': True, 'follow_request_sent': False, 'notifications': False, 'translator_type': 'regular'}), ('geo', None), ('coordinates', None), ('place', None), ('contributors', None), ('retweeted_status', {'created_at': 'Thu Apr 06 15:24:15 +0000 2017', 'id': 850006245121695744, 'id_str': '850006245121695744', 'text': '1/ Today we’re sharing our vision for the future of the Twitter API platform!nhttps://t.co/XweGngmxlP', 'truncated': False, 'entities': {'hashtags': [], 'symbols': [], 'user_mentions': [], 'urls': [{'url': 'https://t.co/XweGngmxlP', 'expanded_url': 'https://cards.twitter.com/cards/18ce53wgo4h/3xo1c', 'display_url': 'cards.twitter.com/cards/18ce53wg…', 'indices': [78, 101]}]}, 'source': '<a href=\"http://twitter.com\" rel=\"nofollow\">Twitter Web Client</a>', 'in_reply_to_status_id': None, 'in_reply_to_status_id_str': None, 'in_reply_to_user_id': None, 'in_reply_to_user_id_str': None, 'in_reply_to_screen_name': None, 'user': {'id': 2244994945, 'id_str': '2244994945', 'name': 'TwitterDev', 'screen_name': 'TwitterDev', 'location': 'Internet', 'description': 'Your official source for Twitter Platform news, updates & events. Need technical help? Visit https://t.co/mGHnxZCxkt ⌨️  #TapIntoTwitter', 'url': 'https://t.co/66w26cua1O', 'entities': {'url': {'urls': [{'url': 'https://t.co/66w26cua1O', 'expanded_url': 'https://dev.twitter.com/', 'display_url': 'dev.twitter.com', 'indices': [0, 23]}]}, 'description': {'urls': [{'url': 'https://t.co/mGHnxZCxkt', 'expanded_url': 'https://twittercommunity.com/', 'display_url': 'twittercommunity.com', 'indices': [93, 116]}]}}, 'protected': False, 'followers_count': 465425, 'friends_count': 1523, 'listed_count': 1168, 'created_at': 'Sat Dec 14 04:35:55 +0000 2013', 'favourites_count': 2098, 'utc_offset': -25200, 'time_zone': 'Pacific Time (US & Canada)', 'geo_enabled': True, 'verified': True, 'statuses_count': 3031, 'lang': 'en', 'contributors_enabled': False, 'is_translator': False, 'is_translation_enabled': False, 'profile_background_color': 'FFFFFF', 'profile_background_image_url': 'http://abs.twimg.com/images/themes/theme1/bg.png', 'profile_background_image_url_https': 'https://abs.twimg.com/images/themes/theme1/bg.png', 'profile_background_tile': False, 'profile_image_url': 'http://pbs.twimg.com/profile_images/530814764687949824/npQQVkq8_normal.png', 'profile_image_url_https': 'https://pbs.twimg.com/profile_images/530814764687949824/npQQVkq8_normal.png', 'profile_banner_url': 'https://pbs.twimg.com/profile_banners/2244994945/1396995246', 'profile_link_color': '0084B4', 'profile_sidebar_border_color': 'FFFFFF', 'profile_sidebar_fill_color': 'DDEEF6', 'profile_text_color': '333333', 'profile_use_background_image': False, 'has_extended_profile': False, 'default_profile': False, 'default_profile_image': False, 'following': True, 'follow_request_sent': False, 'notifications': False, 'translator_type': 'regular'}, 'geo': None, 'coordinates': None, 'place': None, 'contributors': None, 'is_quote_status': False, 'retweet_count': 284, 'favorite_count': 399, 'favorited': False, 'retweeted': False, 'possibly_sensitive': False, 'lang': 'en'}), ('is_quote_status', False), ('retweet_count', 284), ('favorite_count', 0), ('favorited', False), ('retweeted', False), ('possibly_sensitive', False), ('lang', 'en')])"
            ]
          },
          "metadata": {},
          "execution_count": 6
        }
      ]
    },
    {
      "cell_type": "markdown",
      "metadata": {
        "id": "kQFD3ZdceRwG"
      },
      "source": [
        "The most common way to iterate a dictionary is to iterate the items. Let's look at the value types, which will show us which keys have further nested dictionary structure:"
      ]
    },
    {
      "cell_type": "code",
      "metadata": {
        "id": "fxfVVXBieP6u",
        "colab": {
          "base_uri": "https://localhost:8080/"
        },
        "outputId": "24a20a31-fd32-4788-b0c2-f3148d30c01a"
      },
      "source": [
        "for k, v in data.items():\n",
        "    print(k, type(v))"
      ],
      "execution_count": 7,
      "outputs": [
        {
          "output_type": "stream",
          "name": "stdout",
          "text": [
            "created_at <class 'str'>\n",
            "id <class 'int'>\n",
            "id_str <class 'str'>\n",
            "text <class 'str'>\n",
            "truncated <class 'bool'>\n",
            "entities <class 'dict'>\n",
            "source <class 'str'>\n",
            "in_reply_to_status_id <class 'NoneType'>\n",
            "in_reply_to_status_id_str <class 'NoneType'>\n",
            "in_reply_to_user_id <class 'NoneType'>\n",
            "in_reply_to_user_id_str <class 'NoneType'>\n",
            "in_reply_to_screen_name <class 'NoneType'>\n",
            "user <class 'dict'>\n",
            "geo <class 'NoneType'>\n",
            "coordinates <class 'NoneType'>\n",
            "place <class 'NoneType'>\n",
            "contributors <class 'NoneType'>\n",
            "retweeted_status <class 'dict'>\n",
            "is_quote_status <class 'bool'>\n",
            "retweet_count <class 'int'>\n",
            "favorite_count <class 'int'>\n",
            "favorited <class 'bool'>\n",
            "retweeted <class 'bool'>\n",
            "possibly_sensitive <class 'bool'>\n",
            "lang <class 'str'>\n"
          ]
        }
      ]
    },
    {
      "cell_type": "markdown",
      "metadata": {
        "id": "ul9UAZuTeutK"
      },
      "source": [
        "## Working with nested dictionaries"
      ]
    },
    {
      "cell_type": "code",
      "metadata": {
        "id": "RJG_oJhAelmu",
        "colab": {
          "base_uri": "https://localhost:8080/"
        },
        "outputId": "5ae4bf97-395d-4bd6-b7b3-be45a1e7f37d"
      },
      "source": [
        "data['user'].keys()"
      ],
      "execution_count": 8,
      "outputs": [
        {
          "output_type": "execute_result",
          "data": {
            "text/plain": [
              "dict_keys(['id', 'id_str', 'name', 'screen_name', 'location', 'description', 'url', 'entities', 'protected', 'followers_count', 'friends_count', 'listed_count', 'created_at', 'favourites_count', 'utc_offset', 'time_zone', 'geo_enabled', 'verified', 'statuses_count', 'lang', 'contributors_enabled', 'is_translator', 'is_translation_enabled', 'profile_background_color', 'profile_background_image_url', 'profile_background_image_url_https', 'profile_background_tile', 'profile_image_url', 'profile_image_url_https', 'profile_banner_url', 'profile_link_color', 'profile_sidebar_border_color', 'profile_sidebar_fill_color', 'profile_text_color', 'profile_use_background_image', 'has_extended_profile', 'default_profile', 'default_profile_image', 'following', 'follow_request_sent', 'notifications', 'translator_type'])"
            ]
          },
          "metadata": {},
          "execution_count": 8
        }
      ]
    },
    {
      "cell_type": "code",
      "metadata": {
        "id": "dAl1bsxZrb9G",
        "colab": {
          "base_uri": "https://localhost:8080/",
          "height": 35
        },
        "outputId": "a376835b-d3ea-4a0e-d522-83522d471799"
      },
      "source": [
        "data['user']['screen_name']"
      ],
      "execution_count": 9,
      "outputs": [
        {
          "output_type": "execute_result",
          "data": {
            "text/plain": [
              "'twitterapi'"
            ],
            "application/vnd.google.colaboratory.intrinsic+json": {
              "type": "string"
            }
          },
          "metadata": {},
          "execution_count": 9
        }
      ]
    },
    {
      "cell_type": "code",
      "metadata": {
        "id": "Zaq6ZLnarmMF",
        "colab": {
          "base_uri": "https://localhost:8080/"
        },
        "outputId": "ccadc620-64a8-4242-8c9f-cece59a09f8a"
      },
      "source": [
        "data['user']['entities']"
      ],
      "execution_count": 10,
      "outputs": [
        {
          "output_type": "execute_result",
          "data": {
            "text/plain": [
              "{'url': {'urls': [{'url': 'http://t.co/78pYTvWfJd',\n",
              "    'expanded_url': 'https://dev.twitter.com',\n",
              "    'display_url': 'dev.twitter.com',\n",
              "    'indices': [0, 22]}]},\n",
              " 'description': {'urls': []}}"
            ]
          },
          "metadata": {},
          "execution_count": 10
        }
      ]
    },
    {
      "cell_type": "markdown",
      "metadata": {
        "id": "9EoQYQhEr3g-"
      },
      "source": [
        "Get the expanded_url of the first URL (in this example ther is just one) from the user entities:"
      ]
    },
    {
      "cell_type": "code",
      "metadata": {
        "id": "wRysaS5NrpUP",
        "colab": {
          "base_uri": "https://localhost:8080/",
          "height": 35
        },
        "outputId": "5f2cbb0b-c04c-46f5-c90e-2773b055421a"
      },
      "source": [
        "data['user']['entities']['url']['urls'][0]['expanded_url']"
      ],
      "execution_count": 11,
      "outputs": [
        {
          "output_type": "execute_result",
          "data": {
            "text/plain": [
              "'https://dev.twitter.com'"
            ],
            "application/vnd.google.colaboratory.intrinsic+json": {
              "type": "string"
            }
          },
          "metadata": {},
          "execution_count": 11
        }
      ]
    },
    {
      "cell_type": "markdown",
      "metadata": {
        "id": "xpQlEndFsKC1"
      },
      "source": [
        "But what if we didn't know if there were any entities, or urls within the entities?"
      ]
    },
    {
      "cell_type": "markdown",
      "metadata": {
        "id": "smYuMffqsSvD"
      },
      "source": [
        "One approach:"
      ]
    },
    {
      "cell_type": "code",
      "metadata": {
        "id": "wwG82EA6sHwL",
        "colab": {
          "base_uri": "https://localhost:8080/",
          "height": 35
        },
        "outputId": "92a1e7e1-d2fe-4697-92c7-c50cdee578ae"
      },
      "source": [
        "first_url = None\n",
        "urls = data['user'].get('entities', {}).get('url', {}).get('urls')\n",
        "if urls:\n",
        "    first_url = urls[0]['expanded_url']\n",
        "first_url"
      ],
      "execution_count": 12,
      "outputs": [
        {
          "output_type": "execute_result",
          "data": {
            "text/plain": [
              "'https://dev.twitter.com'"
            ],
            "application/vnd.google.colaboratory.intrinsic+json": {
              "type": "string"
            }
          },
          "metadata": {},
          "execution_count": 12
        }
      ]
    },
    {
      "cell_type": "code",
      "metadata": {
        "id": "23f7HBbCsrMX",
        "colab": {
          "base_uri": "https://localhost:8080/",
          "height": 35
        },
        "outputId": "17a554a6-e3ed-4193-c09b-97dc88b308d2"
      },
      "source": [
        "first_url = None\n",
        "try:\n",
        "    urls = data['user']['entities']['url']['urls']\n",
        "    first_url = urls[0]['expanded_url']\n",
        "except (KeyError, IndexError):\n",
        "    pass\n",
        "first_url"
      ],
      "execution_count": 13,
      "outputs": [
        {
          "output_type": "execute_result",
          "data": {
            "text/plain": [
              "'https://dev.twitter.com'"
            ],
            "application/vnd.google.colaboratory.intrinsic+json": {
              "type": "string"
            }
          },
          "metadata": {},
          "execution_count": 13
        }
      ]
    }
  ]
}