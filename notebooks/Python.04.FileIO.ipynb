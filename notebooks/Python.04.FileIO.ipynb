{
  "cells": [
    {
      "cell_type": "markdown",
      "source": [
        "[![Open in Colab](https://colab.research.google.com/assets/colab-badge.svg)](https://colab.research.google.com/github/scott2b/PythonReview/blob/main/notebooks/Python.04.FileIO.ipynb)"
      ],
      "metadata": {
        "id": "HN_6JO5uHVqK"
      }
    },
    {
      "cell_type": "markdown",
      "metadata": {
        "id": "j7np8BdTseUf"
      },
      "source": [
        "# Basic file i/o in Python"
      ]
    },
    {
      "cell_type": "markdown",
      "metadata": {
        "id": "Jkyq6sVmtKqP"
      },
      "source": [
        "## Resources and context blocks"
      ]
    },
    {
      "cell_type": "markdown",
      "metadata": {
        "id": "8kPwm97xtONM"
      },
      "source": [
        "When we talk about resources in programming, we are talking about external things that we \"connect\" with. Database connections, web connections and other networked resources, and os and filesystem resources like sockets ... and files.\n",
        "\n",
        "\n",
        "---\n",
        "### ⚠️ **Pro tip!** close your resources!\n",
        "\n",
        "Always be sure to close any resources you open. The best way to do this is to open resources in a `with` block.\n",
        "\n",
        "---"
      ]
    },
    {
      "cell_type": "markdown",
      "metadata": {
        "id": "PB9Tbvopvae8"
      },
      "source": [
        "For the most part, file i/o is simple:\n",
        "\n",
        "**open a file**:\n",
        "\n",
        "```\n",
        "f = open('/path/to/my/file')\n",
        "```\n",
        "\n",
        "**close the file**:\n",
        "\n",
        "```\n",
        "f.close()\n",
        "```\n",
        "\n",
        "But even better is to do your file activity within a managed context block. In Python, we do this using the `with` statement:\n",
        "\n",
        "```\n",
        "with open(my_filepath) as f:\n",
        "    pass # do something with f here\n",
        "# <<-- Python will close the file for you here\n",
        "```\n"
      ]
    },
    {
      "cell_type": "markdown",
      "metadata": {
        "id": "HciD7LKux1DL"
      },
      "source": [
        "In the Colab runtime environment, we do not have direct access to a filesystem. Instead, you will need to mount your personal Google Drive and access files there.\n",
        "\n",
        "To mount your Google Drive in Colab, select the Folder icon in the left sidebar then click the Mount Drive icon. This will insert code like the following into your notebook:"
      ]
    },
    {
      "cell_type": "code",
      "source": [
        "from google.colab import drive\n",
        "drive.mount('/content/drive')"
      ],
      "metadata": {
        "colab": {
          "base_uri": "https://localhost:8080/"
        },
        "id": "EChB57uKDBYg",
        "outputId": "7eb4a362-e220-47c3-9d27-d8e208c07bf7"
      },
      "execution_count": 23,
      "outputs": [
        {
          "output_type": "stream",
          "name": "stdout",
          "text": [
            "Drive already mounted at /content/drive; to attempt to forcibly remount, call drive.mount(\"/content/drive\", force_remount=True).\n"
          ]
        }
      ]
    },
    {
      "cell_type": "markdown",
      "source": [
        "You can list the contents of your drive as follows:\n",
        "\n",
        "```\n",
        "import os\n",
        "os.listdir('drive')\n",
        "```"
      ],
      "metadata": {
        "id": "f5gN_5JNDEL_"
      }
    },
    {
      "cell_type": "markdown",
      "metadata": {
        "id": "EtGnr5HizKb8"
      },
      "source": [
        "## Working with pathlib"
      ]
    },
    {
      "cell_type": "markdown",
      "metadata": {
        "id": "05wGGwbyzOU4"
      },
      "source": [
        "pathlib has some nice features for working with file paths, including `glob` for listing files that match a pattern, and the slash syntax for constructing a path."
      ]
    },
    {
      "cell_type": "code",
      "execution_count": 32,
      "metadata": {
        "colab": {
          "base_uri": "https://localhost:8080/"
        },
        "id": "LAZox1tyxZOe",
        "outputId": "4887ee1e-bef5-4c38-c15f-61dbd8d0e55e"
      },
      "outputs": [
        {
          "output_type": "execute_result",
          "data": {
            "text/plain": [
              "[PosixPath('drive/MyDrive/MyProject/verizon.adspend.csv'),\n",
              " PosixPath('drive/MyDrive/MyProject/macys.adspend.csv'),\n",
              " PosixPath('drive/MyDrive/MyProject/netflix.adspend.csv'),\n",
              " PosixPath('drive/MyDrive/MyProject/nike.adspend.csv'),\n",
              " PosixPath('drive/MyDrive/MyProject/hulu.adspend.csv')]"
            ]
          },
          "metadata": {},
          "execution_count": 32
        }
      ],
      "source": [
        "from pathlib import Path\n",
        "my_drive = Path(\"drive/MyDrive\")\n",
        "project_dir = my_drive / \"MyProject\"\n",
        "csv_files = list(project_dir.glob('*.csv'))\n",
        "csv_files"
      ]
    },
    {
      "cell_type": "code",
      "source": [
        "first_file = csv_files[0]\n",
        "with first_file.open() as adspend:\n",
        "    for _ in range(3):\n",
        "        print(adspend.readline().strip())"
      ],
      "metadata": {
        "colab": {
          "base_uri": "https://localhost:8080/"
        },
        "id": "5f6ZNCv3Fcpk",
        "outputId": "cf3f288b-5364-4522-cbef-711f92a91361"
      },
      "execution_count": 37,
      "outputs": [
        {
          "output_type": "stream",
          "name": "stdout",
          "text": [
            "TIME PERIOD,PRODUCT,TOTAL DOLS (000),NETWORK TV DOLS (000),CABLE TV DOLS (000),SYNDICATION DOLS (000),SPOT TV DOLS (000),MAGAZINES DOLS (000),SUNDAY MAGS DOLS (000),NATL NEWSP DOLS (000),NEWSPAPER DOLS (000),NETWORK RADIO DOLS (000),NAT SPOT RADIO DOLS (000),OUTDOOR DOLS (000)\n",
            "\"WEEK OF OCT 07, 2013 (B)\",Verizon : Business,72.8,0,0,0,0,0,0,0,0,0,72.8,0\n",
            "\"WEEK OF OCT 07, 2013 (B)\",Verizon : Consumer Wireless Service,11768.8,8350.9,2214.8,346,611.7,0,0,0,8.6,0,236.7,0\n"
          ]
        }
      ]
    },
    {
      "cell_type": "markdown",
      "metadata": {
        "id": "Pn1iNCRa1hNh"
      },
      "source": [
        "## Processing a csv file"
      ]
    },
    {
      "cell_type": "markdown",
      "source": [
        "Python's csv DictReader makes it easy to work with csv data rows. Each row is converted to a dictionary with the column names as the keys."
      ],
      "metadata": {
        "id": "0dUchZFNGydW"
      }
    },
    {
      "cell_type": "code",
      "execution_count": 39,
      "metadata": {
        "colab": {
          "base_uri": "https://localhost:8080/"
        },
        "id": "5Z7h1BnO0OAs",
        "outputId": "6b021952-6623-4cc9-f18a-b0a97a059e79"
      },
      "outputs": [
        {
          "output_type": "stream",
          "name": "stdout",
          "text": [
            "Verizon : Business 72.8\n",
            "Verizon : Business 175\n",
            "Verizon FIOS : Cable Service 10.3\n",
            "Verizon FIOS : Business 58.6\n",
            "Verizon FIOS : Cable Service 8.5\n"
          ]
        }
      ],
      "source": [
        "from csv import DictReader\n",
        "\n",
        "with first_file.open() as adspend:\n",
        "    reader = DictReader(adspend)\n",
        "    for i, row in enumerate(reader):\n",
        "        if i % 1000 == 0:\n",
        "            print(row['PRODUCT'], row['TOTAL DOLS (000)'])"
      ]
    }
  ],
  "metadata": {
    "colab": {
      "provenance": []
    },
    "kernelspec": {
      "display_name": "Python 3",
      "language": "python",
      "name": "python3"
    }
  },
  "nbformat": 4,
  "nbformat_minor": 0
}